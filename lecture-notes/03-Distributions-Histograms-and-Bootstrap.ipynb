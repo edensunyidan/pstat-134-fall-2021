{
 "cells": [
  {
   "cell_type": "markdown",
   "metadata": {
    "slideshow": {
     "slide_type": "slide"
    }
   },
   "source": [
    "# PSTAT 134 - Histograms and Distributions <a class='tocSkip'>\n",
    "    \n",
    "## Sang-Yun Oh <a class='tocSkip'> "
   ]
  },
  {
   "cell_type": "markdown",
   "metadata": {
    "slideshow": {
     "slide_type": "slide"
    },
    "toc": true
   },
   "source": [
    "<h1>Table of Contents<span class=\"tocSkip\"></span></h1>\n",
    "<div class=\"toc\"><ul class=\"toc-item\"><li><span><a href=\"#Random-Variables-vs.-Data\" data-toc-modified-id=\"Random-Variables-vs.-Data-1\">Random Variables vs. Data</a></span></li><li><span><a href=\"#Histogram-as-Probability-Functions\" data-toc-modified-id=\"Histogram-as-Probability-Functions-2\">Histogram as Probability Functions</a></span><ul class=\"toc-item\"><li><span><a href=\"#Properties-of-Histograms\" data-toc-modified-id=\"Properties-of-Histograms-2.1\">Properties of Histograms</a></span></li><li><span><a href=\"#Estimating-Probabilities\" data-toc-modified-id=\"Estimating-Probabilities-2.2\">Estimating Probabilities</a></span></li><li><span><a href=\"#Checking-Probabilities\" data-toc-modified-id=\"Checking-Probabilities-2.3\">Checking Probabilities</a></span></li><li><span><a href=\"#Histogram-with-$n$-(nonzero)-bins\" data-toc-modified-id=\"Histogram-with-$n$-(nonzero)-bins-2.4\">Histogram with $n$ (nonzero) bins</a></span></li><li><span><a href=\"#Summary\" data-toc-modified-id=\"Summary-2.5\">Summary</a></span></li></ul></li><li><span><a href=\"#Resampling-from-Data\" data-toc-modified-id=\"Resampling-from-Data-3\">Resampling from Data</a></span><ul class=\"toc-item\"><li><span><a href=\"#Empirical-CDF\" data-toc-modified-id=\"Empirical-CDF-3.1\">Empirical CDF</a></span></li><li><span><a href=\"#Method-of-Distributions\" data-toc-modified-id=\"Method-of-Distributions-3.2\">Method of Distributions</a></span></li><li><span><a href=\"#Bootstrap-Algorithm\" data-toc-modified-id=\"Bootstrap-Algorithm-3.3\">Bootstrap Algorithm</a></span></li><li><span><a href=\"#Simpler-Bootstrap-Algorithm\" data-toc-modified-id=\"Simpler-Bootstrap-Algorithm-3.4\">Simpler Bootstrap Algorithm</a></span></li></ul></li><li><span><a href=\"#Example:-Loaded-Dice\" data-toc-modified-id=\"Example:-Loaded-Dice-4\">Example: Loaded Dice</a></span><ul class=\"toc-item\"><li><span><a href=\"#Sampling-from-Population\" data-toc-modified-id=\"Sampling-from-Population-4.1\">Sampling from Population</a></span></li><li><span><a href=\"#Resampling-from-Data\" data-toc-modified-id=\"Resampling-from-Data-4.2\">Resampling from Data</a></span></li><li><span><a href=\"#Population,-Random-Sample,-vs.-Random-Resample\" data-toc-modified-id=\"Population,-Random-Sample,-vs.-Random-Resample-4.3\">Population, Random Sample, vs. Random Resample</a></span></li><li><span><a href=\"#Quantifying-Uncertainty\" data-toc-modified-id=\"Quantifying-Uncertainty-4.4\">Quantifying Uncertainty</a></span></li></ul></li><li><span><a href=\"#Resampling-Strategies\" data-toc-modified-id=\"Resampling-Strategies-5\">Resampling Strategies</a></span></li><li><span><a href=\"#Bootstrap-Estimates-of-Bias,-Standard-Deviation,-and-MSE\" data-toc-modified-id=\"Bootstrap-Estimates-of-Bias,-Standard-Deviation,-and-MSE-6\">Bootstrap Estimates of Bias, Standard Deviation, and MSE</a></span><ul class=\"toc-item\"><li><span><a href=\"#Bootstrap-Bias-Estimate\" data-toc-modified-id=\"Bootstrap-Bias-Estimate-6.1\">Bootstrap Bias Estimate</a></span></li><li><span><a href=\"#Bootstrap-Standard-Error\" data-toc-modified-id=\"Bootstrap-Standard-Error-6.2\">Bootstrap Standard Error</a></span></li><li><span><a href=\"#Bootstrap-Mean-Square-Error\" data-toc-modified-id=\"Bootstrap-Mean-Square-Error-6.3\">Bootstrap Mean Square Error</a></span></li></ul></li></ul></div>"
   ]
  },
  {
   "cell_type": "markdown",
   "metadata": {
    "slideshow": {
     "slide_type": "slide"
    }
   },
   "source": [
    "# Random Variables vs. Data\n",
    "\n",
    "**Random Variable: $Y$**\n",
    "- Suppose $Y\\sim f(y)$, and $f(y)$ is the **probability density function**\n",
    "- $f(y)$ analytically defines behavior of $Y$\n",
    "- $P(Y\\in (a, b)) = \\int_a^b f(y) dy$"
   ]
  },
  {
   "cell_type": "markdown",
   "metadata": {
    "slideshow": {
     "slide_type": "fragment"
    }
   },
   "source": [
    "**Data of $Y$: $y_1, y_2, \\dots$**\n",
    "- Each $y_i$ is one (random) observation of $Y$\n",
    "- In practice, the **true distribution**, $f(y)$, is not known\n",
    "- However, we can estimate the **empirical distribution**, $\\hat f(y)$, from data\n",
    "- Histogram $\\hat f(y)$ and equivalently its CDF, $\\hat F(y)$, is the empirical distribution of $Y$"
   ]
  },
  {
   "cell_type": "markdown",
   "metadata": {},
   "source": [
    "### pdf vs pmf\n",
    "\n",
    "- Probability density function (pdf), continuous random variable: $X \\sim f(x)$\n",
    "\n",
    "$$P(a \\leq x \\leq b) = \\int_a^b f(x) dx$$\n",
    " \n",
    "- Probability mass function (pmf), discrete random variable: $P(X = x_i) = p_i$\n",
    "\n",
    "$$\\sum_i p_i = 1$$"
   ]
  },
  {
   "cell_type": "markdown",
   "metadata": {
    "slideshow": {
     "slide_type": "slide"
    }
   },
   "source": [
    "# Histogram as Probability Functions\n",
    "\n",
    "True pdf of $N(3,1)$ looks like"
   ]
  },
  {
   "cell_type": "code",
   "execution_count": 6,
   "metadata": {
    "slideshow": {
     "slide_type": "skip"
    }
   },
   "outputs": [],
   "source": [
    "import numpy as np\n",
    "%matplotlib inline\n",
    "import matplotlib.pyplot as plt\n",
    "from scipy.stats import norm\n",
    "np.random.seed(234)"
   ]
  },
  {
   "cell_type": "code",
   "execution_count": 7,
   "metadata": {
    "slideshow": {
     "slide_type": "fragment"
    }
   },
   "outputs": [],
   "source": [
    "num_data = 100 # number of observations\n",
    "num_bins = 20  # number of bins\n",
    "\n",
    "Y = norm(loc=3, scale=1)\n",
    "# analytical density function f(y) of Normal(3, 1)\n",
    "def f(y): \n",
    "    return Y.pdf(y)\n",
    "\n",
    "y_data = Y.rvs(num_data) # made up \"data\"\n",
    "y_grid = np.linspace(-2, 8, num=1000) # choose some falues of y"
   ]
  },
  {
   "cell_type": "code",
   "execution_count": 8,
   "metadata": {},
   "outputs": [
    {
     "data": {
      "text/plain": [
       "100"
      ]
     },
     "execution_count": 8,
     "metadata": {},
     "output_type": "execute_result"
    }
   ],
   "source": [
    "len(y_data)"
   ]
  },
  {
   "cell_type": "code",
   "execution_count": 9,
   "metadata": {},
   "outputs": [
    {
     "data": {
      "text/plain": [
       "array([-2.        , -0.88888889,  0.22222222,  1.33333333,  2.44444444,\n",
       "        3.55555556,  4.66666667,  5.77777778,  6.88888889,  8.        ])"
      ]
     },
     "execution_count": 9,
     "metadata": {},
     "output_type": "execute_result"
    }
   ],
   "source": [
    "np.linspace(-2, 8, num=10)"
   ]
  },
  {
   "cell_type": "code",
   "execution_count": 4,
   "metadata": {},
   "outputs": [
    {
     "data": {
      "text/plain": [
       "0.01"
      ]
     },
     "execution_count": 4,
     "metadata": {},
     "output_type": "execute_result"
    }
   ],
   "source": [
    "(8+2)/1000"
   ]
  },
  {
   "cell_type": "code",
   "execution_count": 10,
   "metadata": {},
   "outputs": [
    {
     "data": {
      "text/plain": [
       "array([-2. , -1.5, -1. , -0.5,  0. ,  0.5,  1. ,  1.5,  2. ,  2.5,  3. ,\n",
       "        3.5,  4. ,  4.5,  5. ,  5.5,  6. ,  6.5,  7. ,  7.5,  8. ])"
      ]
     },
     "execution_count": 10,
     "metadata": {},
     "output_type": "execute_result"
    }
   ],
   "source": [
    "np.linspace(-2, 8, num=num_bins+1)"
   ]
  },
  {
   "cell_type": "code",
   "execution_count": 27,
   "metadata": {
    "hideCode": true,
    "slideshow": {
     "slide_type": "fragment"
    }
   },
   "outputs": [
    {
     "data": {
      "image/png": "[encoded data removed]",
      "text/plain": [
       "<Figure size 1800x360 with 3 Axes>"
      ]
     },
     "metadata": {
      "needs_background": "light"
     },
     "output_type": "display_data"
    }
   ],
   "source": [
    "fig, ax = plt.subplots(1, 3, figsize=(25, 5))\n",
    "\n",
    "ax[0].plot(y_grid, f(y_grid))\n",
    "\n",
    "bin_edges = np.linspace(-2, 8, num=num_bins+1)\n",
    "fhat,   bins, patches = ax[1].hist(y_data, density=True,  bins=bin_edges) # density plot\n",
    "counts, bins, patches = ax[2].hist(y_data, density=False, bins=bin_edges) # counts plot\n",
    "\n",
    "ax[0].set_title('true pdf of Normal(3,1)'); ax[1].set_title('histogram density: fhat'); ax[2].set_title('histogram counts')\n",
    "plt.show()"
   ]
  },
  {
   "cell_type": "code",
   "execution_count": null,
   "metadata": {},
   "outputs": [],
   "source": []
  },
  {
   "cell_type": "code",
   "execution_count": 13,
   "metadata": {},
   "outputs": [
    {
     "data": {
      "text/plain": [
       "array([0.  , 0.  , 0.  , 0.02, 0.  , 0.02, 0.04, 0.22, 0.22, 0.32, 0.4 ,\n",
       "       0.36, 0.26, 0.08, 0.06, 0.  , 0.  , 0.  , 0.  , 0.  ])"
      ]
     },
     "execution_count": 13,
     "metadata": {},
     "output_type": "execute_result"
    }
   ],
   "source": [
    "fhat"
   ]
  },
  {
   "cell_type": "code",
   "execution_count": 14,
   "metadata": {},
   "outputs": [
    {
     "data": {
      "text/plain": [
       "2.0"
      ]
     },
     "execution_count": 14,
     "metadata": {},
     "output_type": "execute_result"
    }
   ],
   "source": [
    "sum(fhat) #does not equal to 1, i.e., it is not a discrete distribution"
   ]
  },
  {
   "cell_type": "code",
   "execution_count": 15,
   "metadata": {},
   "outputs": [
    {
     "data": {
      "text/plain": [
       "1.0"
      ]
     },
     "execution_count": 15,
     "metadata": {},
     "output_type": "execute_result"
    }
   ],
   "source": [
    "sum(fhat*0.5)"
   ]
  },
  {
   "cell_type": "code",
   "execution_count": 16,
   "metadata": {},
   "outputs": [
    {
     "data": {
      "text/plain": [
       "array([ 0.,  0.,  0.,  1.,  0.,  1.,  2., 11., 11., 16., 20., 18., 13.,\n",
       "        4.,  3.,  0.,  0.,  0.,  0.,  0.])"
      ]
     },
     "execution_count": 16,
     "metadata": {},
     "output_type": "execute_result"
    }
   ],
   "source": [
    "counts"
   ]
  },
  {
   "cell_type": "code",
   "execution_count": 17,
   "metadata": {},
   "outputs": [
    {
     "data": {
      "text/plain": [
       "100.0"
      ]
     },
     "execution_count": 17,
     "metadata": {},
     "output_type": "execute_result"
    }
   ],
   "source": [
    "sum(counts)"
   ]
  },
  {
   "cell_type": "markdown",
   "metadata": {
    "slideshow": {
     "slide_type": "slide"
    }
   },
   "source": [
    "## Properties of Histograms"
   ]
  },
  {
   "cell_type": "code",
   "execution_count": 18,
   "metadata": {
    "slideshow": {
     "slide_type": "skip"
    }
   },
   "outputs": [],
   "source": [
    "assert(len(counts) == num_bins) # check there are indeed `num_bins` of counts\n",
    "assert(sum(counts) == num_data) # check total counts is equal to `num_data`"
   ]
  },
  {
   "cell_type": "code",
   "execution_count": 3,
   "metadata": {},
   "outputs": [
    {
     "data": {
      "text/plain": [
       "0.5"
      ]
     },
     "execution_count": 3,
     "metadata": {},
     "output_type": "execute_result"
    }
   ],
   "source": [
    "(8 - (-2))/20 #bin width in the histogram"
   ]
  },
  {
   "cell_type": "code",
   "execution_count": 6,
   "metadata": {},
   "outputs": [
    {
     "data": {
      "text/plain": [
       "1.0"
      ]
     },
     "execution_count": 6,
     "metadata": {},
     "output_type": "execute_result"
    }
   ],
   "source": [
    "sum(fhat*0.5) #density times bin widths (0.5) adds up to 1, equivalent to integration "
   ]
  },
  {
   "cell_type": "markdown",
   "metadata": {
    "slideshow": {
     "slide_type": "fragment"
    }
   },
   "source": [
    "$\\hat f(y)$ (when `density=True`) is a piecewise constant approximation of $f(y)$"
   ]
  },
  {
   "cell_type": "markdown",
   "metadata": {
    "slideshow": {
     "slide_type": "slide"
    }
   },
   "source": [
    "## Estimating Probabilities\n",
    "\n",
    "- $\\hat f$ approximates $f$ (continuous pdf)\n",
    "- What can we compute from histogram counts and density values? "
   ]
  },
  {
   "cell_type": "code",
   "execution_count": 20,
   "metadata": {
    "slideshow": {
     "slide_type": "fragment"
    }
   },
   "outputs": [],
   "source": [
    "normalize_fhat  = fhat/sum(fhat)          # heights1: just normalizing fhat (constant bin width)\n",
    "fhat_delta      = fhat*np.diff(bin_edges) # heights2: approximating integral with constant height per bin\n",
    "bin_probability = counts/sum(counts)      # heights3: probability of being in bin"
   ]
  },
  {
   "cell_type": "code",
   "execution_count": 21,
   "metadata": {
    "slideshow": {
     "slide_type": "skip"
    }
   },
   "outputs": [],
   "source": [
    "assert(all(np.isclose(normalize_fhat, fhat_delta)))  # heights1 is equal to heights2\n",
    "assert(all(np.isclose(fhat_delta, bin_probability))) # heights2 is equal to heights3"
   ]
  },
  {
   "cell_type": "code",
   "execution_count": 22,
   "metadata": {
    "hideCode": true,
    "slideshow": {
     "slide_type": "fragment"
    }
   },
   "outputs": [
    {
     "data": {
      "image/png": "[encoded data removed]",
      "text/plain": [
       "<Figure size 1800x576 with 2 Axes>"
      ]
     },
     "metadata": {
      "needs_background": "light"
     },
     "output_type": "display_data"
    }
   ],
   "source": [
    "midpoints = bin_edges[:-1] + np.diff(bin_edges)\n",
    "midpoints = bin_edges[:-1] + np.diff(bin_edges)/2\n",
    "\n",
    "fig, ax = plt.subplots(1, 2, figsize=(25, 8))\n",
    "\n",
    "ax[0].plot(y_grid, f(y_grid))                 # true density\n",
    "ax[0].step(midpoints, fhat)                   # continuous approximation\n",
    "ax[0].set_title('continous approximation')\n",
    "ax[0].legend(['pdf: f(y)', 'approx pdf: fhat'])\n",
    "\n",
    "ax[1].stem(midpoints, f(midpoints)*np.diff(bin_edges), # true probability mass at bin center\n",
    "           use_line_collection=True, markerfmt='xr', linefmt='r', basefmt='r')\n",
    "ax[1].stem(midpoints, bin_probability,                 # approximate probability mass at bin center \n",
    "           use_line_collection=True, markerfmt='ok', linefmt='k', basefmt='k')\n",
    "ax[1].set_title('discrete approximation')\n",
    "ax[1].legend(['true prob: f*delta', 'approx prob: bin_probability and fhat*delta'])\n",
    "\n",
    "plt.show()"
   ]
  },
  {
   "cell_type": "markdown",
   "metadata": {
    "slideshow": {
     "slide_type": "slide"
    }
   },
   "source": [
    "## Checking Probabilities\n",
    "\n",
    "- Check if approximations are valid probabilities"
   ]
  },
  {
   "cell_type": "code",
   "execution_count": 25,
   "metadata": {
    "slideshow": {
     "slide_type": "-"
    }
   },
   "outputs": [
    {
     "data": {
      "text/plain": [
       "True"
      ]
     },
     "execution_count": 25,
     "metadata": {},
     "output_type": "execute_result"
    }
   ],
   "source": [
    "np.isclose(sum(fhat_delta), 1)"
   ]
  },
  {
   "cell_type": "markdown",
   "metadata": {
    "slideshow": {
     "slide_type": "-"
    }
   },
   "source": [
    "- `bin_probabilities` is a pmf\n",
    "    $$1 = \\sum_{b=1}^B \\texttt{bin-probabilities}_b = \\sum_{b=1}^B \\hat p(x_b)$$"
   ]
  },
  {
   "cell_type": "markdown",
   "metadata": {
    "slideshow": {
     "slide_type": "subslide"
    }
   },
   "source": [
    "## Summary\n",
    "\n",
    "- Any distribution can be approximated with a histogram\n",
    "\n",
    "- Approximation can be continuous or discrete\n",
    "\n",
    "- $\\hat f(y)$ is piecewise constant approximation of continuous pdf (`density=True`)\n",
    "\n",
    "- $\\hat p(y_b)$ is approximate pmf where discrete values are at bin centers "
   ]
  },
  {
   "cell_type": "markdown",
   "metadata": {
    "slideshow": {
     "slide_type": "slide"
    }
   },
   "source": [
    "# Resampling from Data\n",
    "\n",
    "- Recall our data $y_i$, where $i=1,2,\\dots,n$\n",
    "\n",
    "- How can we \"sample from\" our empirical distribution that our data represents\n",
    "\n",
    "- Recall from 120B definition of (theoretical) CDF:\n",
    "    $$ F(y) = P(Y\\leq y) = \\int_{-\\infty}^y f(z)\\, dz $$"
   ]
  },
  {
   "cell_type": "markdown",
   "metadata": {
    "slideshow": {
     "slide_type": "subslide"
    }
   },
   "source": [
    "## Empirical CDF \n",
    "\n",
    "- Sort data $D$ and let order statistic of $y_i$ be $y_{(i)}$, that is, $y_{(1)} \\leq y_{(2)} \\leq \\cdots \\leq y_{(n)}$\n",
    "\n",
    "- We can approximate $F(y)$ with $\\hat F(y)$ since\n",
    "    $$\\begin{aligned}\n",
    "     &\\hat P(Y< y_{(1)}) = 0\\\\\n",
    "     \\hat F(y_{(1)}) = &\\hat P(Y\\leq y_{(1)}) = 1/n\\\\\n",
    "     \\hat F(y_{(2)}) = &\\hat P(Y\\leq y_{(2)}) = 2/n\\\\\n",
    "     &\\vdots \\\\         \n",
    "     \\hat F(y_{(n)}) = &\\hat P(Y\\leq y_{(n)}) = n/n = 1\\\\\n",
    "    \\end{aligned}$$"
   ]
  },
  {
   "cell_type": "code",
   "execution_count": null,
   "metadata": {},
   "outputs": [],
   "source": [
    "def ecdf(data):\n",
    "    y_ord = np.sort(data)\n",
    "    n = y_ord.size\n",
    "    Fhat = np.arange(1, n+1) / n\n",
    "    \n",
    "    return y_ord, Fhat"
   ]
  },
  {
   "cell_type": "code",
   "execution_count": 12,
   "metadata": {
    "hideCode": true,
    "slideshow": {
     "slide_type": "-"
    }
   },
   "outputs": [
    {
     "data": {
      "image/png": "[encoded data removed]",
      "text/plain": [
       "<Figure size 720x432 with 1 Axes>"
      ]
     },
     "metadata": {
      "needs_background": "light"
     },
     "output_type": "display_data"
    }
   ],
   "source": [
    "# y_data = Y.rvs(num_data) # new data\n",
    "y_os, Fhat = ecdf(y_data)\n",
    "\n",
    "fig, ax = plt.subplots(1, 1, figsize=(10, 6))\n",
    "\n",
    "ax.step(y_grid, Y.cdf(y_grid), '-r')\n",
    "ax.step(y_os, Fhat, '-')\n",
    "ax.plot(y_os, [0.01]*len(y_os), '|', color='k', alpha=0.5)\n",
    "\n",
    "ax.set_title('CDF')\n",
    "ax.set_xlabel('y')\n",
    "ax.set_ylabel('F(y)')\n",
    "ax.legend(['Theoretical CDF: F(y)', 'Empirical CDF: Fhat(y)', 'Observations: y'])\n",
    "plt.show()"
   ]
  },
  {
   "cell_type": "markdown",
   "metadata": {
    "slideshow": {
     "slide_type": "subslide"
    }
   },
   "source": [
    "## How to sample data using CDF? (idea of rejection sampling)\n",
    "\n",
    "- Knowing the pdf $f(y)$ does not mean by default we know to sample from that distribution\n",
    "- Assume we know $F_Y(\\cdot)$, then we can use $F_Y(\\cdot)$ to draw samples!\n"
   ]
  },
  {
   "cell_type": "markdown",
   "metadata": {
    "slideshow": {
     "slide_type": "fragment"
    }
   },
   "source": [
    "- $Y\\sim F_Y(y)$, then $U = F_Y(Y)$ has a uniform distribution\n",
    "    - This is known as the \"probability integral transform PIT\""
   ]
  },
  {
   "cell_type": "markdown",
   "metadata": {},
   "source": [
    "- We can generate random numbers of $U\\sim\\text{Uniform}(0,1)$ "
   ]
  },
  {
   "cell_type": "markdown",
   "metadata": {
    "slideshow": {
     "slide_type": "fragment"
    }
   },
   "source": [
    "- Assume $F_Y$ is invertible, by taking the inverse of $F_Y$ we have $$F^{−1}(U) = Y$$"
   ]
  },
  {
   "cell_type": "markdown",
   "metadata": {},
   "source": [
    "- Now Y is sampled from the desired distribution"
   ]
  },
  {
   "cell_type": "markdown",
   "metadata": {
    "slideshow": {
     "slide_type": "fragment"
    }
   },
   "source": [
    "- In practice when $F$ is unknown, we can have $\\hat F$ (revisit ECDF)"
   ]
  },
  {
   "cell_type": "markdown",
   "metadata": {
    "slideshow": {
     "slide_type": "subslide"
    }
   },
   "source": [
    "## Bootstrap Algorithm\n",
    "\n",
    "**Simulate \"new data\" (bootstrap data) with one dataset: $D = \\{y_1, y_2, \\dots, y_n\\}$?** \n",
    "\n",
    "Given dataset $D$ with $n$ observations,\n",
    "1. For $i=1,2,\\dots,n$\n",
    "    1. Sample $u_i$ from Uniform(0,1)\n",
    "    1. $y_i^* = \\hat F^{-1}(u_i)$, \n",
    "1. Return $D^* = y^*_1, y^*_2, \\dots y^*_n$"
   ]
  },
  {
   "cell_type": "markdown",
   "metadata": {
    "slideshow": {
     "slide_type": "subslide"
    }
   },
   "source": [
    "## Simpler Bootstrap Algorithm\n",
    "\n",
    "Given dataset $D$ with $n$ observations,\n",
    "1. For $i=1,2,\\dots,n$\n",
    "    1. Sample a random integer $i\\in [1, n]$\n",
    "    1. $y^*_i = y_{(i)}$\n",
    "1. Return $D^* = y^*_1, y^*_2, \\dots y^*_n$"
   ]
  },
  {
   "cell_type": "markdown",
   "metadata": {
    "slideshow": {
     "slide_type": "subslide"
    }
   },
   "source": [
    "![alt text](https://inferentialthinking.com/_images/Bootstrap_25_0.png)"
   ]
  },
  {
   "cell_type": "code",
   "execution_count": 13,
   "metadata": {
    "slideshow": {
     "slide_type": "subslide"
    }
   },
   "outputs": [],
   "source": [
    "def resample_ecdf(data):\n",
    "    n = len(data)\n",
    "    resampled_data = np.random.choice(data, len(data))\n",
    "    return ecdf(resampled_data)"
   ]
  },
  {
   "cell_type": "code",
   "execution_count": 14,
   "metadata": {
    "slideshow": {
     "slide_type": "-"
    }
   },
   "outputs": [
    {
     "data": {
      "image/png": "[encoded data removed]",
      "text/plain": [
       "<Figure size 720x432 with 1 Axes>"
      ]
     },
     "metadata": {
      "needs_background": "light"
     },
     "output_type": "display_data"
    }
   ],
   "source": [
    "many_independent_ecdfs = [ecdf(Y.rvs(num_data)) for one in range(0, 100)]\n",
    "\n",
    "fig, ax = plt.subplots(1, 1, figsize=(10, 6))\n",
    "\n",
    "ax.step(y_grid, Y.cdf(y_grid), '-r')\n",
    "for one_ecdf in many_independent_ecdfs:\n",
    "    ax.step(*one_ecdf, '-b', alpha=0.1)\n",
    "\n",
    "ax.set_title('ECDF from Repeated Sampling of Population Distribution')\n",
    "ax.set_xlabel('y')\n",
    "ax.set_ylabel('F(y)')\n",
    "ax.legend(['Theoretical CDF: F(y)', 'Empirical CDF: Fhat(y)', 'Observations: y'])\n",
    "plt.show()"
   ]
  },
  {
   "cell_type": "code",
   "execution_count": 15,
   "metadata": {
    "slideshow": {
     "slide_type": "subslide"
    }
   },
   "outputs": [
    {
     "data": {
      "image/png": "[encoded data removed]",
      "text/plain": [
       "<Figure size 720x432 with 1 Axes>"
      ]
     },
     "metadata": {
      "needs_background": "light"
     },
     "output_type": "display_data"
    }
   ],
   "source": [
    "many_resampled_ecdfs = [resample_ecdf(y_data) for one in range(0, 100)]\n",
    "\n",
    "fig, ax = plt.subplots(1, 1, figsize=(10, 6))\n",
    "\n",
    "ax.step(y_grid, Y.cdf(y_grid), '-r')\n",
    "for one_ecdf in many_resampled_ecdfs:\n",
    "    ax.step(*one_ecdf, '-b', alpha=0.1)\n",
    "\n",
    "ax.set_title('ECDF from Bootstrapped Data')\n",
    "ax.set_xlabel('y')\n",
    "ax.set_ylabel('F(y)')\n",
    "ax.legend(['Theoretical CDF: F(y)', 'Empirical CDF: Fhat(y)', 'Observations: y'])\n",
    "plt.show()"
   ]
  },
  {
   "cell_type": "markdown",
   "metadata": {
    "hideCode": false,
    "hidePrompt": false,
    "slideshow": {
     "slide_type": "fragment"
    }
   },
   "source": [
    "- Strange group of age between 0 and 10 years old"
   ]
  },
  {
   "cell_type": "markdown",
   "metadata": {
    "slideshow": {
     "slide_type": "slide"
    }
   },
   "source": [
    "# Example: Loaded Dice\n",
    "\n",
    "In this section, we simulate such situation. There is some loaded dice with pmf as follows:\n",
    "\n",
    "|Outcome: $x$   |1     |2     |3     |4     |5     |6     |\n",
    "|------------   |---   |---   |---   |---   |---   |---   |\n",
    "|$${\\Pr(X=x)}$$ |1/12  |2/12  |2/12  |2/12  |2/12  |3/12  |\n",
    "\n",
    "Function for throwing such dice can be written as follows:"
   ]
  },
  {
   "cell_type": "code",
   "execution_count": 1,
   "metadata": {
    "slideshow": {
     "slide_type": "-"
    }
   },
   "outputs": [],
   "source": [
    "def throw_loaded_dice(n=1):\n",
    "    \n",
    "    #np.random()\n",
    "    from numpy.random import choice\n",
    "    \n",
    "    d = [1, 2,2, 3,3, 4,4, 5,5, 6,6,6]\n",
    "    return(choice(d, n, replace=True))"
   ]
  },
  {
   "cell_type": "markdown",
   "metadata": {
    "slideshow": {
     "slide_type": "subslide"
    }
   },
   "source": [
    "## Sampling from Population\n",
    "\n",
    "* `d` represents 12 dice throws, getting one of 1, two of 2, 3 exactly twice, $\\dots$, three of 6\n",
    "\n",
    "* Equivalently, $\\Pr(X=x)$:\n",
    "\n",
    "|Outcome: $x$   |1     |2     |3     |4     |5     |6     |\n",
    "|------------   |---   |---   |---   |---   |---   |---   |\n",
    "|$${\\Pr(X=x)}$$ |1/12  |2/12  |2/12  |2/12  |2/12  |3/12  |\n",
    "\n",
    "* Now, 'throw' this dice 1,000 times:"
   ]
  },
  {
   "cell_type": "code",
   "execution_count": 2,
   "metadata": {
    "slideshow": {
     "slide_type": "-"
    }
   },
   "outputs": [],
   "source": [
    "data = throw_loaded_dice(1000)"
   ]
  },
  {
   "cell_type": "code",
   "execution_count": 3,
   "metadata": {},
   "outputs": [
    {
     "data": {
      "text/plain": [
       "array([6, 1, 6, 2, 1, 6, 4, 4, 3, 1])"
      ]
     },
     "execution_count": 3,
     "metadata": {},
     "output_type": "execute_result"
    }
   ],
   "source": [
    "data[:10]"
   ]
  },
  {
   "cell_type": "markdown",
   "metadata": {
    "slideshow": {
     "slide_type": "subslide"
    }
   },
   "source": [
    "## Resampling from Data\n",
    "\n",
    "* We may not have the real dice; however, we recorded 1,000 dice throws."
   ]
  },
  {
   "cell_type": "markdown",
   "metadata": {
    "slideshow": {
     "slide_type": "fragment"
    }
   },
   "source": [
    "* We can _resample with replacement_ from the data"
   ]
  },
  {
   "cell_type": "markdown",
   "metadata": {
    "slideshow": {
     "slide_type": "fragment"
    }
   },
   "source": [
    "* Data is our _empirical dice_"
   ]
  },
  {
   "cell_type": "code",
   "execution_count": 4,
   "metadata": {
    "slideshow": {
     "slide_type": "-"
    }
   },
   "outputs": [],
   "source": [
    "def choose_from_data(n=1, data_in=None):\n",
    "    from numpy.random import choice\n",
    "    \n",
    "    return(choice(data_in, n, replace=True))"
   ]
  },
  {
   "cell_type": "markdown",
   "metadata": {
    "slideshow": {
     "slide_type": "subslide"
    }
   },
   "source": [
    "## Resampling from Data <a class=\"tocSkip\">\n",
    "\n",
    "Let's resample from `data` with replacement:"
   ]
  },
  {
   "cell_type": "code",
   "execution_count": 5,
   "metadata": {
    "slideshow": {
     "slide_type": "-"
    }
   },
   "outputs": [],
   "source": [
    "pseudo_data = choose_from_data(1000, data)"
   ]
  },
  {
   "cell_type": "markdown",
   "metadata": {
    "slideshow": {
     "slide_type": "subslide"
    }
   },
   "source": [
    "## Population, Random Sample, vs. Random Resample"
   ]
  },
  {
   "cell_type": "code",
   "execution_count": 6,
   "metadata": {},
   "outputs": [
    {
     "data": {
      "text/plain": [
       "array([2, 6, 2, 2, 1, 3, 6, 6, 4, 1])"
      ]
     },
     "execution_count": 6,
     "metadata": {},
     "output_type": "execute_result"
    }
   ],
   "source": [
    "pseudo_data[:10]"
   ]
  },
  {
   "cell_type": "code",
   "execution_count": 20,
   "metadata": {
    "slideshow": {
     "slide_type": "-"
    }
   },
   "outputs": [],
   "source": [
    "outcome, data_counts = np.unique(data, return_counts=True)\n",
    "outcome, resample_counts = np.unique(pseudo_data, return_counts=True)"
   ]
  },
  {
   "cell_type": "code",
   "execution_count": 21,
   "metadata": {
    "hideCode": false,
    "slideshow": {
     "slide_type": "-"
    }
   },
   "outputs": [
    {
     "data": {
      "text/html": [
       "<div>\n",
       "<style scoped>\n",
       "    .dataframe tbody tr th:only-of-type {\n",
       "        vertical-align: middle;\n",
       "    }\n",
       "\n",
       "    .dataframe tbody tr th {\n",
       "        vertical-align: top;\n",
       "    }\n",
       "\n",
       "    .dataframe thead th {\n",
       "        text-align: right;\n",
       "    }\n",
       "</style>\n",
       "<table border=\"1\" class=\"dataframe\">\n",
       "  <thead>\n",
       "    <tr style=\"text-align: right;\">\n",
       "      <th></th>\n",
       "      <th>outcome</th>\n",
       "      <th>Population</th>\n",
       "      <th>Sample</th>\n",
       "      <th>Resample</th>\n",
       "    </tr>\n",
       "  </thead>\n",
       "  <tbody>\n",
       "    <tr>\n",
       "      <th>0</th>\n",
       "      <td>1</td>\n",
       "      <td>0.083333</td>\n",
       "      <td>0.091</td>\n",
       "      <td>0.084</td>\n",
       "    </tr>\n",
       "    <tr>\n",
       "      <th>1</th>\n",
       "      <td>2</td>\n",
       "      <td>0.166667</td>\n",
       "      <td>0.186</td>\n",
       "      <td>0.185</td>\n",
       "    </tr>\n",
       "    <tr>\n",
       "      <th>2</th>\n",
       "      <td>3</td>\n",
       "      <td>0.166667</td>\n",
       "      <td>0.151</td>\n",
       "      <td>0.144</td>\n",
       "    </tr>\n",
       "    <tr>\n",
       "      <th>3</th>\n",
       "      <td>4</td>\n",
       "      <td>0.166667</td>\n",
       "      <td>0.179</td>\n",
       "      <td>0.176</td>\n",
       "    </tr>\n",
       "    <tr>\n",
       "      <th>4</th>\n",
       "      <td>5</td>\n",
       "      <td>0.166667</td>\n",
       "      <td>0.163</td>\n",
       "      <td>0.176</td>\n",
       "    </tr>\n",
       "    <tr>\n",
       "      <th>5</th>\n",
       "      <td>6</td>\n",
       "      <td>0.250000</td>\n",
       "      <td>0.230</td>\n",
       "      <td>0.235</td>\n",
       "    </tr>\n",
       "  </tbody>\n",
       "</table>\n",
       "</div>"
      ],
      "text/plain": [
       "   outcome  Population  Sample  Resample\n",
       "0        1    0.083333   0.091     0.084\n",
       "1        2    0.166667   0.186     0.185\n",
       "2        3    0.166667   0.151     0.144\n",
       "3        4    0.166667   0.179     0.176\n",
       "4        5    0.166667   0.163     0.176\n",
       "5        6    0.250000   0.230     0.235"
      ]
     },
     "execution_count": 21,
     "metadata": {},
     "output_type": "execute_result"
    }
   ],
   "source": [
    "import pandas as pd\n",
    "\n",
    "pmfs = pd.DataFrame({\n",
    "    'outcome': np.arange(1, 7),\n",
    "    'Population': np.array([1, 2, 2, 2, 2, 3])/12,\n",
    "    'Sample': data_counts/sum(data_counts),\n",
    "    'Resample': resample_counts/sum(resample_counts),\n",
    "}, columns=['outcome','Population','Sample','Resample'])\n",
    "\n",
    "pmfs"
   ]
  },
  {
   "cell_type": "markdown",
   "metadata": {
    "slideshow": {
     "slide_type": "subslide"
    }
   },
   "source": [
    "## Quantifying Uncertainty\n",
    "\n",
    "* One dataset (random sample) is not enough to characterize uncertainty empirically  \n",
    "    e.g. characterizing variability of polls need many polls (often not possible)\n",
    "\n",
    "* Characterizing variability/uncertainty can be easily done with resampling:  \n",
    "    e.g. what is the variability of proportions?\n"
   ]
  },
  {
   "cell_type": "code",
   "execution_count": 22,
   "metadata": {
    "slideshow": {
     "slide_type": "fragment"
    }
   },
   "outputs": [
    {
     "data": {
      "text/plain": [
       "array([[0.084, 0.186, 0.145, 0.192, 0.17 , 0.223],\n",
       "       [0.081, 0.196, 0.162, 0.169, 0.168, 0.224],\n",
       "       [0.075, 0.165, 0.161, 0.179, 0.183, 0.237],\n",
       "       [0.08 , 0.191, 0.165, 0.187, 0.173, 0.204],\n",
       "       [0.093, 0.193, 0.137, 0.189, 0.173, 0.215],\n",
       "       [0.098, 0.177, 0.128, 0.187, 0.179, 0.231],\n",
       "       [0.104, 0.184, 0.16 , 0.171, 0.137, 0.244],\n",
       "       [0.094, 0.159, 0.168, 0.194, 0.157, 0.228],\n",
       "       [0.076, 0.18 , 0.161, 0.194, 0.161, 0.228],\n",
       "       [0.091, 0.169, 0.157, 0.167, 0.171, 0.245]])"
      ]
     },
     "execution_count": 22,
     "metadata": {},
     "output_type": "execute_result"
    }
   ],
   "source": [
    "repeat_resampling = []\n",
    "\n",
    "for one in range(0, 100):\n",
    "    \n",
    "    pseudo_data = choose_from_data(1000, data) # resample from `data`\n",
    "    outcome, resample_counts = np.unique(pseudo_data, return_counts=True) # count occurrences\n",
    "    \n",
    "    repeat_resampling += [resample_counts.tolist()]\n",
    "    \n",
    "repeat_resampling = np.array(repeat_resampling)/1000\n",
    "repeat_resampling[:10]"
   ]
  },
  {
   "cell_type": "code",
   "execution_count": 23,
   "metadata": {
    "slideshow": {
     "slide_type": "subslide"
    }
   },
   "outputs": [
    {
     "data": {
      "text/html": [
       "<div>\n",
       "<style scoped>\n",
       "    .dataframe tbody tr th:only-of-type {\n",
       "        vertical-align: middle;\n",
       "    }\n",
       "\n",
       "    .dataframe tbody tr th {\n",
       "        vertical-align: top;\n",
       "    }\n",
       "\n",
       "    .dataframe thead th {\n",
       "        text-align: right;\n",
       "    }\n",
       "</style>\n",
       "<table border=\"1\" class=\"dataframe\">\n",
       "  <thead>\n",
       "    <tr style=\"text-align: right;\">\n",
       "      <th></th>\n",
       "      <th>outcome</th>\n",
       "      <th>Population</th>\n",
       "      <th>Sample</th>\n",
       "      <th>Resample</th>\n",
       "      <th>Resample-low</th>\n",
       "      <th>Resample-high</th>\n",
       "    </tr>\n",
       "  </thead>\n",
       "  <tbody>\n",
       "    <tr>\n",
       "      <th>0</th>\n",
       "      <td>1</td>\n",
       "      <td>0.083333</td>\n",
       "      <td>0.091</td>\n",
       "      <td>0.084</td>\n",
       "      <td>0.074948</td>\n",
       "      <td>0.093052</td>\n",
       "    </tr>\n",
       "    <tr>\n",
       "      <th>1</th>\n",
       "      <td>2</td>\n",
       "      <td>0.166667</td>\n",
       "      <td>0.186</td>\n",
       "      <td>0.185</td>\n",
       "      <td>0.172137</td>\n",
       "      <td>0.197863</td>\n",
       "    </tr>\n",
       "    <tr>\n",
       "      <th>2</th>\n",
       "      <td>3</td>\n",
       "      <td>0.166667</td>\n",
       "      <td>0.151</td>\n",
       "      <td>0.144</td>\n",
       "      <td>0.132795</td>\n",
       "      <td>0.155205</td>\n",
       "    </tr>\n",
       "    <tr>\n",
       "      <th>3</th>\n",
       "      <td>4</td>\n",
       "      <td>0.166667</td>\n",
       "      <td>0.179</td>\n",
       "      <td>0.176</td>\n",
       "      <td>0.164288</td>\n",
       "      <td>0.187712</td>\n",
       "    </tr>\n",
       "    <tr>\n",
       "      <th>4</th>\n",
       "      <td>5</td>\n",
       "      <td>0.166667</td>\n",
       "      <td>0.163</td>\n",
       "      <td>0.176</td>\n",
       "      <td>0.164623</td>\n",
       "      <td>0.187377</td>\n",
       "    </tr>\n",
       "    <tr>\n",
       "      <th>5</th>\n",
       "      <td>6</td>\n",
       "      <td>0.250000</td>\n",
       "      <td>0.230</td>\n",
       "      <td>0.235</td>\n",
       "      <td>0.221699</td>\n",
       "      <td>0.248301</td>\n",
       "    </tr>\n",
       "  </tbody>\n",
       "</table>\n",
       "</div>"
      ],
      "text/plain": [
       "   outcome  Population  Sample  Resample  Resample-low  Resample-high\n",
       "0        1    0.083333   0.091     0.084      0.074948       0.093052\n",
       "1        2    0.166667   0.186     0.185      0.172137       0.197863\n",
       "2        3    0.166667   0.151     0.144      0.132795       0.155205\n",
       "3        4    0.166667   0.179     0.176      0.164288       0.187712\n",
       "4        5    0.166667   0.163     0.176      0.164623       0.187377\n",
       "5        6    0.250000   0.230     0.235      0.221699       0.248301"
      ]
     },
     "execution_count": 23,
     "metadata": {},
     "output_type": "execute_result"
    }
   ],
   "source": [
    "uncertainty = np.std(repeat_resampling, 0)\n",
    "pmfs['Resample-low'] = pmfs['Resample'] - uncertainty\n",
    "pmfs['Resample-high'] = pmfs['Resample'] + uncertainty\n",
    "pmfs"
   ]
  },
  {
   "cell_type": "markdown",
   "metadata": {
    "slideshow": {
     "slide_type": "slide"
    }
   },
   "source": [
    "# Resampling Strategies\n",
    "\n",
    "* Bootstrap is loose term for resampling"
   ]
  },
  {
   "cell_type": "markdown",
   "metadata": {
    "slideshow": {
     "slide_type": "fragment"
    }
   },
   "source": [
    "* Two commonly used resampling types are,\n",
    "    * Model-free resampling (non-parametric bootstrap)\n",
    "    * Model-based resampling (parametric bootstrap)"
   ]
  },
  {
   "cell_type": "markdown",
   "metadata": {
    "slideshow": {
     "slide_type": "fragment"
    }
   },
   "source": [
    "* **Model-free resampling**:  \n",
    "    Randomly draw observations from data with replacement"
   ]
  },
  {
   "cell_type": "markdown",
   "metadata": {
    "slideshow": {
     "slide_type": "fragment"
    }
   },
   "source": [
    "* **Model-based resampling**:\n",
    "    1. When data is (assumed) from population distribution, $f(y\\mid\\theta)$,\n",
    "    2. Estimate $\\hat\\theta$, and \n",
    "    3. Sample from $f(y\\mid\\hat\\theta)$"
   ]
  },
  {
   "cell_type": "code",
   "execution_count": null,
   "metadata": {},
   "outputs": [],
   "source": []
  },
  {
   "cell_type": "markdown",
   "metadata": {},
   "source": [
    "# The Bootstrap"
   ]
  },
  {
   "cell_type": "markdown",
   "metadata": {},
   "source": [
    "### Classical/Real sampling\n",
    "\n",
    "Suppose the sample data $y_1, y_2, \\dots, y_B \\sim F(y)$. By the law of large numbers, as $B \\stackrel{\\text{P}}{\\longrightarrow} \\infty$,\n",
    "\n",
    "- $\\bar{y} = \\frac{1}{B} \\sum_{i=1}^B y_i \\stackrel{\\text{P}}{\\longrightarrow} \\int y p(y) dy = \\mathbb{E}(Y)$\n",
    "\n",
    "- $\\frac{1}{B} \\sum_{i=1}^B h(y_i) \\stackrel{\\text{P}}{\\longrightarrow} \\int h(y) p(y) dy = \\mathbb{E}(h(Y))$\n",
    "\n",
    "- \n",
    "$\n",
    "\\frac{1}{B} \\sum_{i=1}^B (y_i - \\bar{y})^2 = \\frac{1}{B}\\sum_{i=1}^B y_i^2 - (\\frac{1}{B}\\sum_{i=1}^B y_i)^2 \\stackrel{\\text{P}}{\\longrightarrow} \\int y^2p(y)dy - (\\int yp(y)dy)^2 = \\text{Var}(Y)\n",
    "$"
   ]
  },
  {
   "cell_type": "markdown",
   "metadata": {},
   "source": [
    "### Bootstrap sampling:\n",
    "- The boostrap is a method for estimating standard errors and computing confidence intervals\n",
    "\n",
    "- Let $T = g(y_1, y_2, \\dots, y_n)$ be a statistic. $\\text{Var}_F(T)$ is the variance of $T$\n",
    "\n",
    "- The distribution function $F(y)$ is unknown\n",
    "\n",
    "- The idea is to simulate $y^*_1, y^*_2, \\dots y^*_n$ from the $\\hat{F}$ and then compute $T^* = g(y^*_1, y^*_2, \\dots y^*_n)$\n",
    "\n",
    "$$\n",
    "\\begin{aligned}\n",
    "\\text{Real world}:            F &\\implies y_1, \\dots y_n      &\\implies T = g(y_1, \\dots y_n) \\\\\n",
    "\\text{Bootstrap world}: \\hat{F} &\\implies y^*_1, \\dots y^*_n  &\\implies T^* = g(y^*_1, \\dots y^*_n)\n",
    "\\end{aligned}\n",
    "$$\n",
    "\n",
    "- Note that $\\hat{F}$ puts mass $1/n$ at each data point $y_1, \\dots, y_n$. Therefore, drawing an observation from $\\hat{F}$ is equivalent to drawing one points at random from the original data set"
   ]
  },
  {
   "cell_type": "markdown",
   "metadata": {
    "slideshow": {
     "slide_type": "slide"
    }
   },
   "source": [
    "# Bootstrap Estimates of Bias, Standard Deviation, and MSE\n",
    "\n",
    "|                       | Population    | &nbsp; &nbsp; &nbsp; &nbsp; Sample &nbsp; &nbsp; &nbsp; &nbsp;              | &nbsp; &nbsp; &nbsp; &nbsp; &nbsp; &nbsp; &nbsp; Resample &nbsp; &nbsp; &nbsp; &nbsp; &nbsp;                                 |\n",
    "| :------------------:  | :--------:    | :---------:         |:-----------------------------------:     |\n",
    "|                       |               |                     | $y^{(1)}_1,y^{(1)}_2,\\dots,y^{(1)}_n$    |\n",
    "| Observations          | $f(y;\\theta)$ | $y_1,y_2,\\dots,y_n$ | $\\vdots$                                 |\n",
    "|                       |               |                     | $y^{(B)}_1,y^{(B)}_2,\\dots,y^{(B)}_n$    |\n",
    "| Parameter of Interest | $\\theta$      | $\\hat\\theta$        | $\\hat\\theta^{(1)},\\dots,\\hat\\theta^{(B)}$|\n"
   ]
  },
  {
   "cell_type": "markdown",
   "metadata": {
    "slideshow": {
     "slide_type": "subslide"
    }
   },
   "source": [
    "## Bootstrap Bias Estimate\n",
    "\n",
    "Bias of estimator $\\hat\\theta$ for $\\theta$:\n",
    "$$\\text{BIAS}(\\hat\\theta) = \\text{E}[{\\hat{\\theta}}] - \\theta$$\n",
    "Since $\\theta$ and $\\overline{\\hat\\theta}$ are unknown, calculate instead:\n",
    "$$\\text{BIAS}_{\\mathrm{boot}}(\\hat\\theta) = \\overline{\\hat{\\theta}^*} - \\hat\\theta,$$\n",
    "where $\\overline{\\hat{\\theta}^*} = \\frac{1}{B}\\sum_{b=1}^B\\hat\\theta^{(b)}$"
   ]
  },
  {
   "cell_type": "markdown",
   "metadata": {
    "slideshow": {
     "slide_type": "subslide"
    }
   },
   "source": [
    "## Bootstrap Standard Error\n",
    "Under classical setup, Variance of $\\hat\\theta$ / square of standard error are:\n",
    "$$\\text{Var}(\\hat{\\theta})=\\text{E}\\left(\\hat{\\theta}-\\text{E}[\\hat{\\theta}]\\right)^{2}$$\n",
    "Under bootstrap, estimated variance / squared standard deviation (standard error) for $\\hat\\theta$ is\n",
    "$$s_{\\mathrm{boot}}^2(\\hat{\\theta})=\\frac{1}{B-1} \\sum_{b=1}^{B}\\left(\\hat{\\theta}^{(b)}-\\overline{\\hat{\\theta}^{*}}\\right)^{2}$$"
   ]
  },
  {
   "cell_type": "markdown",
   "metadata": {
    "slideshow": {
     "slide_type": "subslide"
    }
   },
   "source": [
    "## Bootstrap Mean Square Error\n",
    "\n",
    "Definition of MSE:\n",
    "$$\\operatorname{MSE}(\\hat{\\theta})=\\operatorname{E}(\\hat\\theta - \\theta)^2 = \\text{BIAS}^2(\\hat\\theta) + \\text{Var}(\\hat{\\theta})$$\n",
    "Since $\\theta$ is unknown, calculate,\n",
    "$$\\operatorname{MSE}_{\\text {boot }}(\\hat{\\theta})= \\text{BIAS}^2_{\\mathrm{boot}}(\\hat\\theta) + s^2_{\\mathrm{boot}}(\\hat{\\theta})$$"
   ]
  },
  {
   "cell_type": "markdown",
   "metadata": {},
   "source": [
    "## Bootstrap Confidence Interval \n",
    "\n",
    "- Normal-based confidence interval, suppose $\\hat{\\theta} \\approx N(\\theta, \\; \\widehat{\\text{se}})$,\n",
    "\n",
    "$$ C = (\\hat{\\theta} - z_{\\alpha/2}\\widehat\\text{se}, \\; \\hat{\\theta} + z_{\\alpha/2}\\widehat\\text{se}) $$\n",
    "\n",
    "- Bootstrap confidence interval\n",
    "\n",
    "    \n",
    "    1. The normal interval\n",
    "    \n",
    "$$ C = (\\hat{\\theta} - z_{\\alpha/2}\\widehat\\text{s}_\\text{boot}, \\; \\hat{\\theta} + z_{\\alpha/2}\\widehat\\text{s}_\\text{boot}) $$\n",
    "   \n",
    "    \n",
    "    2. Percentile intervals\n",
    "    \n",
    "    3. Pivotal intervals\n"
   ]
  },
  {
   "cell_type": "markdown",
   "metadata": {},
   "source": [
    "### 2. Percentile intervals\n",
    "\n",
    "Suppose we draw B bootstrap samples of size n. For each sample it calculates the bootstrap sample mean.\n",
    "\n",
    "Rank the bootstrap means from smallest to largest. We denote these ordered bootstrap estimates by:\n",
    "\n",
    "$\\hat\\theta^*_{(1)},\\dots,\\hat\\theta^*_{(B)}$\n",
    "\n",
    "The bootstrap percentile interval is defined by \n",
    "\n",
    "$$C = (\\hat\\theta^*_{\\alpha/2}, \\; \\hat\\theta^*_{1 - \\alpha/2}) $$\n",
    "\n",
    "For example, $95\\%$ percentile confidence interval is $(\\hat\\theta^*_{0.025}, \\; \\hat\\theta^*_{0.975}) $"
   ]
  },
  {
   "cell_type": "markdown",
   "metadata": {},
   "source": [
    "### 3. Pivotal intervals\n",
    "\n",
    "Define the **pivot** $\\hat{\\theta} - \\theta$, the pivot confidence interval argues that the behavior of $\\hat{\\theta} - \\theta$ is approximately the same as the behavior of $\\hat{\\theta} - \\hat{\\theta}^*$,\n",
    "\n",
    "$\\alpha = 0.05$\n",
    "\n",
    "$$\n",
    "\\begin{aligned}\n",
    " 0.95 &\\approx \\text{Pr}(\\hat{\\theta}^*_{\\alpha/2} \\leq \\hat{\\theta}^* \\leq \\hat\\theta^*_{ 1- \\alpha/2} ) \\\\\n",
    " &= \\text{Pr}(\\hat{\\theta}^*_{\\alpha/2} - \\hat{\\theta} \\leq \\hat{\\theta}^* - \\hat{\\theta} \\leq \\hat\\theta^*_{ 1- \\alpha/2}- \\hat{\\theta} ) \\\\\n",
    " &= \\text{Pr}(\\hat{\\theta} - \\hat{\\theta}^*_{\\alpha/2} \\geq \\hat{\\theta} - \\hat{\\theta}^* \\geq \\hat{\\theta} - \\hat\\theta^*_{ 1- \\alpha/2} ) \\\\\n",
    " &\\approx \\text{Pr}(\\hat{\\theta} - \\hat{\\theta}^*_{\\alpha/2} \\geq {\\theta} - \\hat{\\theta} \\geq \\hat{\\theta} - \\hat\\theta^*_{ 1- \\alpha/2} )\\\\\n",
    " &=  \\text{Pr}(2\\hat{\\theta} - \\hat{\\theta}^*_{\\alpha/2} \\geq {\\theta} \\geq 2\\hat{\\theta} - \\hat\\theta^*_{ 1- \\alpha/2} )\n",
    "\\end{aligned}\n",
    "$$\n",
    "\n",
    "So, $$C = (2\\hat{\\theta} - \\hat\\theta^*_{ 1- \\alpha/2}, \\;  2\\hat{\\theta} - \\hat{\\theta}^*_{\\alpha/2})$$\n"
   ]
  },
  {
   "cell_type": "code",
   "execution_count": null,
   "metadata": {},
   "outputs": [],
   "source": []
  }
 ],
 "metadata": {
  "celltoolbar": "Slideshow",
  "kernelspec": {
   "display_name": "Python 3",
   "language": "python",
   "name": "python3"
  },
  "language_info": {
   "codemirror_mode": {
    "name": "ipython",
    "version": 3
   },
   "file_extension": ".py",
   "mimetype": "text/x-python",
   "name": "python",
   "nbconvert_exporter": "python",
   "pygments_lexer": "ipython3",
   "version": "3.7.3"
  },
  "toc": {
   "base_numbering": 1,
   "nav_menu": {},
   "number_sections": false,
   "sideBar": true,
   "skip_h1_title": false,
   "title_cell": "Table of Contents",
   "title_sidebar": "Contents",
   "toc_cell": true,
   "toc_position": {},
   "toc_section_display": true,
   "toc_window_display": false
  }
 },
 "nbformat": 4,
 "nbformat_minor": 4
}
