{
 "cells": [
  {
   "cell_type": "markdown",
   "metadata": {
    "toc": true
   },
   "source": [
    "<h1>Table of Contents<span class=\"tocSkip\"></span></h1>\n",
    "<div class=\"toc\"><ul class=\"toc-item\"><li><span><a href=\"#GUI?-CLI?\" data-toc-modified-id=\"GUI?-CLI?-1\">GUI? CLI?</a></span></li><li><span><a href=\"#Shell-commands\" data-toc-modified-id=\"Shell-commands-2\">Shell commands</a></span><ul class=\"toc-item\"><li><span><a href=\"#References-to-learn-shell-command-line\" data-toc-modified-id=\"References-to-learn-shell-command-line-2.1\">References to learn shell command line</a></span></li><li><span><a href=\"#Commonly-used-commands-for-text-files\" data-toc-modified-id=\"Commonly-used-commands-for-text-files-2.2\">Commonly used commands for text files</a></span></li><li><span><a href=\"#Anatomy-of-shell-commands\" data-toc-modified-id=\"Anatomy-of-shell-commands-2.3\">Anatomy of shell commands</a></span></li><li><span><a href=\"#Example:-Downloading-Files\" data-toc-modified-id=\"Example:-Downloading-Files-2.4\">Example: Downloading Files</a></span></li><li><span><a href=\"#Example:-Viewing-file-contents\" data-toc-modified-id=\"Example:-Viewing-file-contents-2.5\">Example: Viewing file contents</a></span></li><li><span><a href=\"#Chaining-commands-togeter\" data-toc-modified-id=\"Chaining-commands-togeter-2.6\">Chaining commands togeter</a></span></li><li><span><a href=\"#Example:-Text-file-download,-search,-and-manipulation\" data-toc-modified-id=\"Example:-Text-file-download,-search,-and-manipulation-2.7\">Example: Text file download, search, and manipulation</a></span></li></ul></li><li><span><a href=\"#Shell-and-Jupyter-Notebook\" data-toc-modified-id=\"Shell-and-Jupyter-Notebook-3\">Shell and Jupyter Notebook</a></span></li><li><span><a href=\"#GET-method-and-APIs\" data-toc-modified-id=\"GET-method-and-APIs-4\">GET method and APIs</a></span><ul class=\"toc-item\"><li><span><a href=\"#GET-method\" data-toc-modified-id=\"GET-method-4.1\">GET method</a></span></li><li><span><a href=\"#Application-Programming-Interface-(API)\" data-toc-modified-id=\"Application-Programming-Interface-(API)-4.2\">Application Programming Interface (API)</a></span></li><li><span><a href=\"#Example:-Google-Maps\" data-toc-modified-id=\"Example:-Google-Maps-4.3\">Example: Google Maps</a></span></li><li><span><a href=\"#Example:-Film-Locations-in-San-Francisco\" data-toc-modified-id=\"Example:-Film-Locations-in-San-Francisco-4.4\">Example: Film Locations in San Francisco</a></span></li></ul></li><li><span><a href=\"#Javascript-Object-Notation-(JSON)-format\" data-toc-modified-id=\"Javascript-Object-Notation-(JSON)-format-5\">Javascript Object Notation (JSON) format</a></span><ul class=\"toc-item\"><li><span><a href=\"#Example:-Parsing-Film-Locations-in-San-Francisco\" data-toc-modified-id=\"Example:-Parsing-Film-Locations-in-San-Francisco-5.1\">Example: Parsing Film Locations in San Francisco</a></span></li></ul></li></ul></div>"
   ]
  },
  {
   "cell_type": "markdown",
   "metadata": {
    "slideshow": {
     "slide_type": "slide"
    }
   },
   "source": [
    "# PSTAT 134 - Command Line Interface (CLI) & Data collection <a class=\"tocSkip\">\n",
    "\n",
    "## Instructor: Sang-Yun Oh <a class=\"tocSkip\">"
   ]
  },
  {
   "cell_type": "markdown",
   "metadata": {
    "slideshow": {
     "slide_type": "slide"
    }
   },
   "source": [
    "## GUI? CLI?"
   ]
  },
  {
   "cell_type": "markdown",
   "metadata": {
    "slideshow": {
     "slide_type": "fragment"
    }
   },
   "source": [
    "- **Graphical User Interface (GUI)**:  \n",
    "    interaction via graphical objects  \n",
    "    e.g., Microsoft Windows and Apple OS X"
   ]
  },
  {
   "cell_type": "markdown",
   "metadata": {
    "slideshow": {
     "slide_type": "fragment"
    }
   },
   "source": [
    "- **Command Line Interface (CLI)**:  \n",
    "    interaction via commands typed into shell  \n",
    "    e.g., bash, zsh, tcsh, etc."
   ]
  },
  {
   "cell_type": "markdown",
   "metadata": {
    "slideshow": {
     "slide_type": "fragment"
    }
   },
   "source": [
    "- Shell is often accessed by terminal [Terminal in Jupyter]    "
   ]
  },
  {
   "cell_type": "markdown",
   "metadata": {
    "slideshow": {
     "slide_type": "fragment"
    }
   },
   "source": [
    "- GUI is simple to use everyday but not easy to automate repetitive tasks with"
   ]
  },
  {
   "cell_type": "markdown",
   "metadata": {
    "slideshow": {
     "slide_type": "fragment"
    }
   },
   "source": [
    "- CLI is more cumbersome to use everyday but scriptable"
   ]
  },
  {
   "cell_type": "markdown",
   "metadata": {
    "slideshow": {
     "slide_type": "slide"
    }
   },
   "source": [
    "## Shell commands\n",
    "\n",
    "### References to learn shell command line\n",
    "\n",
    "- **Required reading: [Software Carpentry Shell Novice Lesson](http://swcarpentry.github.io/shell-novice/)**"
   ]
  },
  {
   "cell_type": "markdown",
   "metadata": {
    "slideshow": {
     "slide_type": "fragment"
    }
   },
   "source": [
    "- [Unix Power Tools](https://ucsb-primo.hosted.exlibrisgroup.com/primo-explore/fulldisplay?docid=01UCSB_ALMA51295276690003776&context=L&vid=UCSB&search_scope=default_scope&tab=default_tab&lang=en_US)"
   ]
  },
  {
   "cell_type": "markdown",
   "metadata": {
    "slideshow": {
     "slide_type": "fragment"
    }
   },
   "source": [
    "- [Explain Shell](https://explainshell.com/)"
   ]
  },
  {
   "cell_type": "markdown",
   "metadata": {},
   "source": [
    "### Commonly used commands for text files\n",
    "\n",
    "- `cat`: prints content of a file\n",
    "- `head`: prints first few lines of a file\n",
    "- `sed`: (stream editor) changes texts\n",
    "- `paste`: pasts text files side-by-side\n",
    "- `cut`: processes columns in delimited text file\n",
    "- `find`: searches file system\n",
    "- `grep`: searches text given regular expression pattern\n",
    "- `sort`: sort a file line by line\n",
    "- `uniq`: keeps unique lines of a sorted text\n",
    "- etc."
   ]
  },
  {
   "cell_type": "markdown",
   "metadata": {
    "slideshow": {
     "slide_type": "slide"
    }
   },
   "source": [
    "### Anatomy of shell commands\n",
    "\n",
    "Here is a simple shell command:"
   ]
  },
  {
   "cell_type": "code",
   "execution_count": 1,
   "metadata": {
    "slideshow": {
     "slide_type": "fragment"
    }
   },
   "outputs": [
    {
     "name": "stdout",
     "output_type": "stream",
     "text": [
      "Usage: cat [OPTION]... [FILE]...\n",
      "Concatenate FILE(s) to standard output.\n",
      "\n",
      "With no FILE, or when FILE is -, read standard input.\n",
      "\n",
      "  -A, --show-all           equivalent to -vET\n",
      "  -b, --number-nonblank    number nonempty output lines, overrides -n\n",
      "  -e                       equivalent to -vE\n",
      "  -E, --show-ends          display $ at end of each line\n",
      "  -n, --number             number all output lines\n",
      "  -s, --squeeze-blank      suppress repeated empty output lines\n",
      "  -t                       equivalent to -vT\n",
      "  -T, --show-tabs          display TAB characters as ^I\n",
      "  -u                       (ignored)\n",
      "  -v, --show-nonprinting   use ^ and M- notation, except for LFD and TAB\n",
      "      --help     display this help and exit\n",
      "      --version  output version information and exit\n",
      "\n",
      "Examples:\n",
      "  cat f - g  Output f's contents, then standard input, then g's contents.\n",
      "  cat        Copy standard input to standard output.\n",
      "\n",
      "GNU coreutils online help: <http://www.gnu.org/software/coreutils/>\n",
      "Full documentation at: <http://www.gnu.org/software/coreutils/cat>\n",
      "or available locally via: info '(coreutils) cat invocation'\n"
     ]
    }
   ],
   "source": [
    "! cat --help ## most shell commands have built-in help"
   ]
  },
  {
   "cell_type": "markdown",
   "metadata": {
    "slideshow": {
     "slide_type": "fragment"
    }
   },
   "source": [
    "1. `cat`: program name"
   ]
  },
  {
   "cell_type": "markdown",
   "metadata": {
    "slideshow": {
     "slide_type": "fragment"
    }
   },
   "source": [
    "2. `[OPTION]`: controls program behavior"
   ]
  },
  {
   "cell_type": "markdown",
   "metadata": {
    "slideshow": {
     "slide_type": "fragment"
    }
   },
   "source": [
    "3. `[FILE]`: specify file to read from or standard input"
   ]
  },
  {
   "cell_type": "markdown",
   "metadata": {
    "slideshow": {
     "slide_type": "slide"
    }
   },
   "source": [
    "### Example: Downloading Files\n",
    "\n",
    "- URLs of files are directly visible (e.g., Github)\n",
    "\n",
    "- `wget` is simple and effective download tool\n",
    "\n",
    "- Example: https://github.com/fivethirtyeight/data\n",
    "\n",
    "- \"Raw\" button is the URL for actual file\n",
    "\n",
    "- Take the candy ratings data: https://github.com/fivethirtyeight/data/tree/master/candy-power-ranking\n",
    "\n",
    "- `wget` can be used to download files to course jupyterhub"
   ]
  },
  {
   "cell_type": "code",
   "execution_count": 2,
   "metadata": {
    "slideshow": {
     "slide_type": "fragment"
    }
   },
   "outputs": [
    {
     "name": "stderr",
     "output_type": "stream",
     "text": [
      "--2019-10-09 16:47:47--  https://raw.githubusercontent.com/fivethirtyeight/data/master/candy-power-ranking/candy-data.csv\n",
      "Resolving raw.githubusercontent.com (raw.githubusercontent.com)... 151.101.0.133, 151.101.64.133, 151.101.128.133, ...\n",
      "Connecting to raw.githubusercontent.com (raw.githubusercontent.com)|151.101.0.133|:443... connected.\n",
      "HTTP request sent, awaiting response... 200 OK\n",
      "Length: 5205 (5.1K) [text/plain]\n",
      "Saving to: ‘candy-data.csv.2’\n",
      "\n",
      "     0K .....                                                 100% 18.5M=0s\n",
      "\n",
      "2019-10-09 16:47:47 (18.5 MB/s) - ‘candy-data.csv.2’ saved [5205/5205]\n",
      "\n"
     ]
    }
   ],
   "source": [
    "%%bash\n",
    "wget https://raw.githubusercontent.com/fivethirtyeight/data/master/candy-power-ranking/candy-data.csv"
   ]
  },
  {
   "cell_type": "markdown",
   "metadata": {
    "slideshow": {
     "slide_type": "slide"
    }
   },
   "source": [
    "### Example: Viewing file contents "
   ]
  },
  {
   "cell_type": "code",
   "execution_count": 3,
   "metadata": {
    "slideshow": {
     "slide_type": "fragment"
    }
   },
   "outputs": [
    {
     "name": "stdout",
     "output_type": "stream",
     "text": [
      "competitorname,chocolate,fruity,caramel,peanutyalmondy,nougat,crispedricewafer,hard,bar,pluribus,sugarpercent,pricepercent,winpercent\n",
      "100 Grand,1,0,1,0,0,1,0,1,0,.73199999,.86000001,66.971725\n",
      "3 Musketeers,1,0,0,0,1,0,0,1,0,.60399997,.51099998,67.602936\n",
      "One dime,0,0,0,0,0,0,0,0,0,.011,.116,32.261086\n",
      "One quarter,0,0,0,0,0,0,0,0,0,.011,.51099998,46.116505\n",
      "Air Heads,0,1,0,0,0,0,0,0,0,.90600002,.51099998,52.341465\n",
      "Almond Joy,1,0,0,1,0,0,0,1,0,.465,.76700002,50.347546\n",
      "Baby Ruth,1,0,1,1,1,0,0,1,0,.60399997,.76700002,56.914547\n",
      "Boston Baked Beans,0,0,0,1,0,0,0,0,1,.31299999,.51099998,23.417824\n",
      "Candy Corn,0,0,0,0,0,0,0,0,1,.90600002,.32499999,38.010963\n"
     ]
    }
   ],
   "source": [
    "%%bash\n",
    "head candy-data.csv"
   ]
  },
  {
   "cell_type": "code",
   "execution_count": 4,
   "metadata": {
    "slideshow": {
     "slide_type": "fragment"
    }
   },
   "outputs": [
    {
     "name": "stdout",
     "output_type": "stream",
     "text": [
      "competitorname,chocolate,fruity,caramel,peanutyalmondy,nougat,crispedricewafer,hard,bar,pluribus,sugarpercent,pricepercent,winpercent\n",
      "100 Grand,1,0,1,0,0,1,0,1,0,.73199999,.86000001,66.971725\n",
      "3 Musketeers,1,0,0,0,1,0,0,1,0,.60399997,.51099998,67.602936\n",
      "One dime,0,0,0,0,0,0,0,0,0,.011,.116,32.261086\n",
      "One quarter,0,0,0,0,0,0,0,0,0,.011,.51099998,46.116505\n",
      "Air Heads,0,1,0,0,0,0,0,0,0,.90600002,.51099998,52.341465\n",
      "Almond Joy,1,0,0,1,0,0,0,1,0,.465,.76700002,50.347546\n",
      "Baby Ruth,1,0,1,1,1,0,0,1,0,.60399997,.76700002,56.914547\n",
      "Boston Baked Beans,0,0,0,1,0,0,0,0,1,.31299999,.51099998,23.417824\n",
      "Candy Corn,0,0,0,0,0,0,0,0,1,.90600002,.32499999,38.010963\n"
     ]
    }
   ],
   "source": [
    "! head candy-data.csv ## also works"
   ]
  },
  {
   "cell_type": "code",
   "execution_count": 5,
   "metadata": {
    "slideshow": {
     "slide_type": "fragment"
    }
   },
   "outputs": [
    {
     "name": "stdout",
     "output_type": "stream",
     "text": [
      "competitorname,chocolate,fruity,caramel,peanutyalmondy,nougat,crispedricewafer,hard,bar,pluribus,sugarpercent,pricepercent,winpercent\n"
     ]
    }
   ],
   "source": [
    "! head -n 1 candy-data.csv  ## first line is the header"
   ]
  },
  {
   "cell_type": "code",
   "execution_count": 6,
   "metadata": {
    "slideshow": {
     "slide_type": "slide"
    }
   },
   "outputs": [
    {
     "name": "stdout",
     "output_type": "stream",
     "text": [
      "86 candy-data.csv\n"
     ]
    }
   ],
   "source": [
    "! wc -l candy-data.csv      ## counts lines in text file"
   ]
  },
  {
   "cell_type": "code",
   "execution_count": 7,
   "metadata": {
    "slideshow": {
     "slide_type": "fragment"
    }
   },
   "outputs": [
    {
     "name": "stdout",
     "output_type": "stream",
     "text": [
      "competitorname,fruity\n",
      "100 Grand,0\n",
      "3 Musketeers,0\n",
      "One dime,0\n",
      "One quarter,0\n",
      "Air Heads,1\n",
      "Almond Joy,0\n",
      "Baby Ruth,0\n",
      "Boston Baked Beans,0\n",
      "Candy Corn,0\n",
      "Caramel Apple Pops,1\n",
      "Charleston Chew,0\n",
      "Chewey Lemonhead Fruit Mix,1\n",
      "Chiclets,1\n",
      "Dots,1\n",
      "Dum Dums,1\n",
      "Fruit Chews,1\n",
      "Fun Dip,1\n",
      "Gobstopper,1\n",
      "Haribo Gold Bears,1\n",
      "Haribo Happy Cola,0\n",
      "Haribo Sour Bears,1\n",
      "Haribo Twin Snakes,1\n",
      "HersheyÕs Kisses,0\n",
      "HersheyÕs Krackel,0\n",
      "HersheyÕs Milk Chocolate,0\n",
      "HersheyÕs Special Dark,0\n",
      "Jawbusters,1\n",
      "Junior Mints,0\n",
      "Kit Kat,0\n",
      "Laffy Taffy,1\n",
      "Lemonhead,1\n",
      "Lifesavers big ring gummies,1\n",
      "Peanut butter M&MÕs,0\n",
      "M&MÕs,0\n",
      "Mike & Ike,1\n",
      "Milk Duds,0\n",
      "Milky Way,0\n",
      "Milky Way Midnight,0\n",
      "Milky Way Simply Caramel,0\n",
      "Mounds,0\n",
      "Mr Good Bar,0\n",
      "Nerds,1\n",
      "Nestle Butterfinger,0\n",
      "Nestle Crunch,0\n",
      "Nik L Nip,1\n",
      "Now & Later,1\n",
      "Payday,0\n",
      "Peanut M&Ms,0\n",
      "Pixie Sticks,0\n",
      "Pop Rocks,1\n",
      "Red vines,1\n",
      "ReeseÕs Miniatures,0\n",
      "ReeseÕs Peanut Butter cup,0\n",
      "ReeseÕs pieces,0\n",
      "ReeseÕs stuffed with pieces,0\n",
      "Ring pop,1\n",
      "Rolo,0\n",
      "Root Beer Barrels,0\n",
      "Runts,1\n",
      "Sixlets,0\n",
      "Skittles original,1\n",
      "Skittles wildberry,1\n",
      "Nestle Smarties,0\n",
      "Smarties candy,1\n",
      "Snickers,0\n",
      "Snickers Crisper,0\n",
      "Sour Patch Kids,1\n",
      "Sour Patch Tricksters,1\n",
      "Starburst,1\n",
      "Strawberry bon bons,1\n",
      "Sugar Babies,0\n",
      "Sugar Daddy,0\n",
      "Super Bubble,1\n",
      "Swedish Fish,1\n",
      "Tootsie Pop,1\n",
      "Tootsie Roll Juniors,0\n",
      "Tootsie Roll Midgies,0\n",
      "Tootsie Roll Snack Bars,0\n",
      "Trolli Sour Bites,1\n",
      "Twix,0\n",
      "Twizzlers,1\n",
      "Warheads,1\n",
      "WelchÕs Fruit Snacks,1\n",
      "WertherÕs Original Caramel,0\n",
      "Whoppers,0\n"
     ]
    }
   ],
   "source": [
    "! cut -d',' -f1,3 candy-data.csv    ## prints columns of delimited text"
   ]
  },
  {
   "cell_type": "code",
   "execution_count": 8,
   "metadata": {
    "slideshow": {
     "slide_type": "fragment"
    }
   },
   "outputs": [
    {
     "name": "stdout",
     "output_type": "stream",
     "text": [
      "Tootsie Pop,1,1,0,0,0,0,1,0,0,.60399997,.32499999,48.982651\n",
      "Tootsie Roll Juniors,1,0,0,0,0,0,0,0,0,.31299999,.51099998,43.068897\n",
      "Tootsie Roll Midgies,1,0,0,0,0,0,0,0,1,.17399999,.011,45.736748\n",
      "Tootsie Roll Snack Bars,1,0,0,0,0,0,0,1,0,.465,.32499999,49.653503\n"
     ]
    }
   ],
   "source": [
    "! grep 'Tootsie' candy-data.csv      ## finds lines with pattern (regular expression)"
   ]
  },
  {
   "cell_type": "markdown",
   "metadata": {
    "slideshow": {
     "slide_type": "slide"
    }
   },
   "source": [
    "### Chaining commands togeter\n",
    "\n",
    "- Commands can be chained together using \"pipes\"\n",
    "\n",
    "- Many commands in the shell sends output to what is called \"stdout\" (essentially printing to screen)\n",
    "\n",
    "- Pipe enable \"stdout\" to be input into another command via \"stdin\" (standard input).\n",
    "\n",
    "- Hence, we can make commands such as the following"
   ]
  },
  {
   "cell_type": "code",
   "execution_count": 9,
   "metadata": {
    "slideshow": {
     "slide_type": "fragment"
    }
   },
   "outputs": [
    {
     "name": "stdout",
     "output_type": "stream",
     "text": [
      "competitorname,chocolate,fruity,caramel,peanutyalmondy,nougat,crispedricewafer,hard,bar,pluribus,sugarpercent,pricepercent,winpercent\n"
     ]
    }
   ],
   "source": [
    "! head -n1 candy-data.csv"
   ]
  },
  {
   "cell_type": "code",
   "execution_count": 10,
   "metadata": {
    "slideshow": {
     "slide_type": "fragment"
    }
   },
   "outputs": [
    {
     "name": "stdout",
     "output_type": "stream",
     "text": [
      "competitorname\n",
      "chocolate\n",
      "fruity\n",
      "caramel\n",
      "peanutyalmondy\n",
      "nougat\n",
      "crispedricewafer\n",
      "hard\n",
      "bar\n",
      "pluribus\n",
      "sugarpercent\n",
      "pricepercent\n",
      "winpercent\n"
     ]
    }
   ],
   "source": [
    "! head -n1 candy-data.csv | sed 's/,/\\n/g' # \\n is a special character for new line"
   ]
  },
  {
   "cell_type": "code",
   "execution_count": 11,
   "metadata": {
    "slideshow": {
     "slide_type": "fragment"
    }
   },
   "outputs": [
    {
     "name": "stdout",
     "output_type": "stream",
     "text": [
      "competitorname\n",
      "CHOCOLATE\n",
      "fruity\n",
      "caramel\n",
      "peanutyalmondy\n",
      "nougat\n",
      "crispedricewafer\n",
      "hard\n",
      "bar\n",
      "pluribus\n",
      "sugarpercent\n",
      "pricepercent\n",
      "winpercent\n"
     ]
    }
   ],
   "source": [
    "! head -n1 candy-data.csv | sed 's/,/\\n/g' | sed 's/chocolate/CHOCOLATE/g'"
   ]
  },
  {
   "cell_type": "markdown",
   "metadata": {
    "slideshow": {
     "slide_type": "slide"
    }
   },
   "source": [
    "### Example: Text file download, search, and manipulation\n",
    "\n",
    "Comands like `grep`, `sed` and `awk` can be used for text processing."
   ]
  },
  {
   "cell_type": "code",
   "execution_count": 12,
   "metadata": {
    "scrolled": true,
    "slideshow": {
     "slide_type": "fragment"
    }
   },
   "outputs": [
    {
     "name": "stdout",
     "output_type": "stream",
     "text": [
      "<!DOCTYPE html>\n",
      "<html  lang=\"en\" dir=\"ltr\" prefix=\"content: http://purl.org/rss/1.0/modules/content/  dc: http://purl.org/dc/terms/  foaf: http://xmlns.com/foaf/0.1/  og: http://ogp.me/ns#  rdfs: http://www.w3.org/2000/01/rdf-schema#  schema: http://schema.org/  sioc: http://rdfs.org/sioc/ns#  sioct: http://rdfs.org/sioc/types#  skos: http://www.w3.org/2004/02/skos/core#  xsd: http://www.w3.org/2001/XMLSchema# \">\n",
      "  <head>\n",
      "    <meta charset=\"utf-8\" /><script type=\"text/javascript\">window.NREUM||(NREUM={}),__nr_require=function(e,n,t){function r(t){if(!n[t]){var o=n[t]={exports:{}};e[t][0].call(o.exports,function(n){var o=e[t][1][n];return r(o||n)},o,o.exports)}return n[t].exports}if(\"function\"==typeof __nr_require)return __nr_require;for(var o=0;o<t.length;o++)r(t[o]);return r}({1:[function(e,n,t){function r(){}function o(e,n,t){return function(){return i(e,[c.now()].concat(u(arguments)),n?null:this,t),n?void 0:this}}var i=e(\"handle\"),a=e(3),u=e(4),f=e(\"ee\").get(\"tracer\"),c=e(\"loader\"),s=NREUM;\"undefined\"==typeof window.newrelic&&(newrelic=s);var p=[\"setPageViewName\",\"setCustomAttribute\",\"setErrorHandler\",\"finished\",\"addToTrace\",\"inlineHit\",\"addRelease\"],d=\"api-\",l=d+\"ixn-\";a(p,function(e,n){s[n]=o(d+n,!0,\"api\")}),s.addPageAction=o(d+\"addPageAction\",!0),s.setCurrentRouteName=o(d+\"routeName\",!0),n.exports=newrelic,s.interaction=function(){return(new r).get()};var m=r.prototype={createTracer:function(e,n){var t={},r=this,o=\"function\"==typeof n;return i(l+\"tracer\",[c.now(),e,t],r),function(){if(f.emit((o?\"\":\"no-\")+\"fn-start\",[c.now(),r,o],t),o)try{return n.apply(this,arguments)}catch(e){throw f.emit(\"fn-err\",[arguments,this,e],t),e}finally{f.emit(\"fn-end\",[c.now()],t)}}}};a(\"actionText,setName,setAttribute,save,ignore,onEnd,getContext,end,get\".split(\",\"),function(e,n){m[n]=o(l+n)}),newrelic.noticeError=function(e,n){\"string\"==typeof e&&(e=new Error(e)),i(\"err\",[e,c.now(),!1,n])}},{}],2:[function(e,n,t){function r(e,n){if(!o)return!1;if(e!==o)return!1;if(!n)return!0;if(!i)return!1;for(var t=i.split(\".\"),r=n.split(\".\"),a=0;a<r.length;a++)if(r[a]!==t[a])return!1;return!0}var o=null,i=null,a=/Version\\/(\\S+)\\s+Safari/;if(navigator.userAgent){var u=navigator.userAgent,f=u.match(a);f&&u.indexOf(\"Chrome\")===-1&&u.indexOf(\"Chromium\")===-1&&(o=\"Safari\",i=f[1])}n.exports={agent:o,version:i,match:r}},{}],3:[function(e,n,t){function r(e,n){var t=[],r=\"\",i=0;for(r in e)o.call(e,r)&&(t[i]=n(r,e[r]),i+=1);return t}var o=Object.prototype.hasOwnProperty;n.exports=r},{}],4:[function(e,n,t){function r(e,n,t){n||(n=0),\"undefined\"==typeof t&&(t=e?e.length:0);for(var r=-1,o=t-n||0,i=Array(o<0?0:o);++r<o;)i[r]=e[n+r];return i}n.exports=r},{}],5:[function(e,n,t){n.exports={exists:\"undefined\"!=typeof window.performance&&window.performance.timing&&\"undefined\"!=typeof window.performance.timing.navigationStart}},{}],ee:[function(e,n,t){function r(){}function o(e){function n(e){return e&&e instanceof r?e:e?f(e,u,i):i()}function t(t,r,o,i){if(!d.aborted||i){e&&e(t,r,o);for(var a=n(o),u=v(t),f=u.length,c=0;c<f;c++)u[c].apply(a,r);var p=s[y[t]];return p&&p.push([b,t,r,a]),a}}function l(e,n){h[e]=v(e).concat(n)}function m(e,n){var t=h[e];if(t)for(var r=0;r<t.length;r++)t[r]===n&&t.splice(r,1)}function v(e){return h[e]||[]}function g(e){return p[e]=p[e]||o(t)}function w(e,n){c(e,function(e,t){n=n||\"feature\",y[t]=n,n in s||(s[n]=[])})}var h={},y={},b={on:l,addEventListener:l,removeEventListener:m,emit:t,get:g,listeners:v,context:n,buffer:w,abort:a,aborted:!1};return b}function i(){return new r}function a(){(s.api||s.feature)&&(d.aborted=!0,s=d.backlog={})}var u=\"nr@context\",f=e(\"gos\"),c=e(3),s={},p={},d=n.exports=o();d.backlog=s},{}],gos:[function(e,n,t){function r(e,n,t){if(o.call(e,n))return e[n];var r=t();if(Object.defineProperty&&Object.keys)try{return Object.defineProperty(e,n,{value:r,writable:!0,enumerable:!1}),r}catch(i){}return e[n]=r,r}var o=Object.prototype.hasOwnProperty;n.exports=r},{}],handle:[function(e,n,t){function r(e,n,t,r){o.buffer([e],r),o.emit(e,n,t)}var o=e(\"ee\").get(\"handle\");n.exports=r,r.ee=o},{}],id:[function(e,n,t){function r(e){var n=typeof e;return!e||\"object\"!==n&&\"function\"!==n?-1:e===window?0:a(e,i,function(){return o++})}var o=1,i=\"nr@id\",a=e(\"gos\");n.exports=r},{}],loader:[function(e,n,t){function r(){if(!E++){var e=x.info=NREUM.info,n=l.getElementsByTagName(\"script\")[0];if(setTimeout(s.abort,3e4),!(e&&e.licenseKey&&e.applicationID&&n))return s.abort();c(y,function(n,t){e[n]||(e[n]=t)}),f(\"mark\",[\"onload\",a()+x.offset],null,\"api\");var t=l.createElement(\"script\");t.src=\"https://\"+e.agent,n.parentNode.insertBefore(t,n)}}function o(){\"complete\"===l.readyState&&i()}function i(){f(\"mark\",[\"domContent\",a()+x.offset],null,\"api\")}function a(){return O.exists&&performance.now?Math.round(performance.now()):(u=Math.max((new Date).getTime(),u))-x.offset}var u=(new Date).getTime(),f=e(\"handle\"),c=e(3),s=e(\"ee\"),p=e(2),d=window,l=d.document,m=\"addEventListener\",v=\"attachEvent\",g=d.XMLHttpRequest,w=g&&g.prototype;NREUM.o={ST:setTimeout,SI:d.setImmediate,CT:clearTimeout,XHR:g,REQ:d.Request,EV:d.Event,PR:d.Promise,MO:d.MutationObserver};var h=\"\"+location,y={beacon:\"bam.nr-data.net\",errorBeacon:\"bam.nr-data.net\",agent:\"js-agent.newrelic.com/nr-1130.min.js\"},b=g&&w&&w[m]&&!/CriOS/.test(navigator.userAgent),x=n.exports={offset:u,now:a,origin:h,features:{},xhrWrappable:b,userAgent:p};e(1),l[m]?(l[m](\"DOMContentLoaded\",i,!1),d[m](\"load\",r,!1)):(l[v](\"onreadystatechange\",o),d[v](\"onload\",r)),f(\"mark\",[\"firstbyte\",u],null,\"api\");var E=0,O=e(5)},{}]},{},[\"loader\"]);</script>\n",
      "<script>var dataLayer = [{\"entityLanguage\":\"en\",\"entityCountry\":\"US\",\"siteName\":\"Internal Revenue Service\",\"entityType\":\"node\",\"entityBundle\":\"pup_article\",\"entityId\":\"102\",\"entityTitle\":\"SOI Tax Stats Individual Income Tax Statistics ZIP Code Data (SOI)\",\"entityLangcode\":\"en\",\"entityVid\":\"1396866\",\"entityCreated\":\"1472616000\",\"entityStatus\":\"1\",\"primaryCategory\":\"statistics\",\"subCategory1\":\"soi-tax-stats-individual-income-tax-statistics-zip-code-data-soi\",\"Navigation\":{\"id\":\"18831\",\"label\":\"Products and Publications\",\"bundle\":\"pup_navigation\"},\"field_pup_ot_guid\":\"0673ceb5d0716310VgnVCM100000351f0a0aRCRD\",\"field_pup_ot_unique_id\":\"96947\",\"field_pup_ot_url\":\"https:\\/\\/www.irs.gov\\/uac\\/soi-tax-stats-individual-income-tax-statistics-zip-code-data-soi\",\"entityTaxonomy\":{\"pup_channels\":{\"6306\":\"Statistics\"},\"pup_navigation\":{\"18831\":\"Products and Publications\"},\"pup_organization\":{\"14026\":\"RAS:S\"},\"pup_topic\":{\"7756\":\"Tax Statistics\"}},\"userUid\":0}];</script>\n",
      "<meta name=\"title\" content=\"SOI Tax Stats Individual Income Tax Statistics ZIP Code Data (SOI) | Internal Revenue Service\" />\n",
      "<meta name=\"robots\" content=\"index, follow\" />\n",
      "<link rel=\"canonical\" href=\"https://www.irs.gov/statistics/soi-tax-stats-individual-income-tax-statistics-zip-code-data-soi\" />\n",
      "<meta name=\"twitter:card\" content=\"summary\" />\n",
      "<meta http-equiv=\"content-language\" content=\"en\" />\n",
      "<meta name=\"twitter:title\" content=\"SOI Tax Stats Individual Income Tax Statistics ZIP Code Data (SOI) | Internal Revenue Service\" />\n",
      "<meta name=\"description\" content=\"Individual Tax Statistics ZIP Code Data - SOI.\" />\n",
      "<meta name=\"twitter:description\" content=\"Individual Income Tax ZIP Code Data\n",
      "\n",
      "ZIP Code data show selected income and tax items classified by State, ZIP Code, and size of adjusted gross income. Data are based on individual income tax returns filed with the IRS and are available for Tax Years 1998, 2001, and 2004 through 2016. The data include items, such as:\" />\n",
      "<meta name=\"abstract\" content=\"Individual Tax Statistics ZIP Code Data - SOI.\" />\n",
      "<meta name=\"original-source\" content=\"https://www.irs.gov/uac/soi-tax-stats-individual-income-tax-statistics-zip-code-data-soi\" />\n",
      "<meta name=\"rights\" content=\"United States Internal Revenue Services\" />\n",
      "<meta name=\"twitter:image:alt\" content=\"IRS logo\" />\n",
      "<meta name=\"twitter:image\" content=\"https://www.irs.gov/pub/image/logo_small.jpg\" />\n",
      "<meta property=\"og:image:url\" content=\"https://www.irs.gov/pub/image/logo_small.jpg\" />\n",
      "<meta property=\"og:image:type\" content=\"image/jpeg\" />\n",
      "<meta property=\"og:image:alt\" content=\"IRS logo\" />\n",
      "<meta name=\"Generator\" content=\"Drupal 8 (https://www.drupal.org)\" />\n",
      "<meta name=\"MobileOptimized\" content=\"width\" />\n",
      "<meta name=\"HandheldFriendly\" content=\"true\" />\n",
      "<meta name=\"viewport\" content=\"width=device-width, initial-scale=1.0\" />\n",
      "<meta name=\"audience\" content=\"NULL\" />\n",
      "<meta name=\"irsStandard-type\" content=\"NULL\" />\n",
      "<meta name=\"uniqueID\" content=\"102\" />\n",
      "<meta name=\"isHistorical\" content=\"no\" />\n",
      "<meta name=\"historical-date\" content=\"NULL\" />\n",
      "<meta name=\"changed\" content=\"1569338702\" />\n",
      "<meta name=\"topic\" content=\"NULL\" />\n",
      "<meta name=\"guidance\" content=\"NULL\" />\n",
      "<meta name=\"channel\" content=\"NULL\" />\n",
      "<meta name=\"organization\" content=\"NULL\" />\n",
      "<meta name=\"otID\" content=\"96947\" />\n",
      "<meta name=\"prod_SEID\" content=\"NULL\" />\n",
      "<link rel=\"shortcut icon\" href=\"/themes/custom/pup_base/favicon.ico\" type=\"image/vnd.microsoft.icon\" />\n",
      "<link rel=\"alternate\" hreflang=\"en\" href=\"https://www.irs.gov/statistics/soi-tax-stats-individual-income-tax-statistics-zip-code-data-soi\" />\n",
      "<link rel=\"revision\" href=\"https://www.irs.gov/statistics/soi-tax-stats-individual-income-tax-statistics-zip-code-data-soi\" />\n",
      "<script src=\"/pub/google_tag/google_tag.script.js?pyiuga\"></script>\n",
      "<script>window.a2a_config=window.a2a_config||{};a2a_config.callbacks=[];a2a_config.overlays=[];a2a_config.templates={};a2a_config.no_3p=1;</script>\n",
      "\n",
      "    <title>SOI Tax Stats Individual Income Tax Statistics ZIP Code Data (SOI) | Internal Revenue Service</title>\n",
      "    <link rel=\"stylesheet\" media=\"all\" href=\"/pub/css/css_M7jsUgyQXfwyNAJXH-bgsnBzLbZHP8wvporAt9MLrqg.css?pyiuga\" />\n",
      "<link rel=\"stylesheet\" media=\"all\" href=\"/pub/css/css_IDYw7eLzrtJ0qYJVqqjqtHvAf8hfc6oGgfHRC_0hgtM.css?pyiuga\" />\n",
      "<link rel=\"stylesheet\" media=\"screen\" href=\"/pub/css/css_cQLYTBoezdnh0YOPfyNv6UQy4--KSrqcMEjCBVWZFlA.css?pyiuga\" />\n",
      "<link rel=\"stylesheet\" media=\"print\" href=\"/pub/css/css_QoLYOdNV7f_TehQftL2gdYm_Co3UV1T6msa-tZmUL_E.css?pyiuga\" />\n",
      "\n",
      "    \n",
      "<!--[if lte IE 8]>\n",
      "<script src=\"/pub/js/js_VtafjXmRvoUgAzqzYTA3Wrjkx9wcWhjP0G4ZnnqRamA.js\"></script>\n",
      "<![endif]-->\n",
      "<script src=\"/pub/js/js_JL5-xpD24I600Ahcw5Q4vP2Cfa69VcdR4zEsiFjClFY.js\"></script>\n",
      "\n",
      "  \n",
      "  <script>(window.BOOMR_mq=window.BOOMR_mq||[]).push([\"addVar\",{\"rua.upush\":\"false\",\"rua.cpush\":\"false\",\"rua.upre\":\"false\",\"rua.cpre\":\"false\",\"rua.uprl\":\"false\",\"rua.cprl\":\"false\",\"rua.cprf\":\"false\",\"rua.trans\":\"\",\"rua.cook\":\"false\",\"rua.ims\":\"false\",\"rua.ufprl\":\"false\",\"rua.cfprl\":\"false\"}]);</script>\n",
      "  <script>!function(){function o(n,i){if(n&&i)for(var r in i)i.hasOwnProperty(r)&&(void 0===n[r]?n[r]=i[r]:n[r].constructor===Object&&i[r].constructor===Object?o(n[r],i[r]):n[r]=i[r])}try{var n=decodeURIComponent(\"\");if(n.length>0&&window.JSON&&\"function\"==typeof window.JSON.parse){var i=JSON.parse(n);void 0!==window.BOOMR_config?o(window.BOOMR_config,i):window.BOOMR_config=i}}catch(r){window.console&&\"function\"==typeof window.console.error&&console.error(\"mPulse: Could not parse configuration\",r)}}();</script>\n",
      "  <script>!function(a){var e=\"https://s.go-mpulse.net/boomerang/\",t=\"addEventListener\";if(\"False\"==\"True\")a.BOOMR_config=a.BOOMR_config||{},a.BOOMR_config.PageParams=a.BOOMR_config.PageParams||{},a.BOOMR_config.PageParams.pci=!0,e=\"https://s2.go-mpulse.net/boomerang/\";if(function(){function n(e){a.BOOMR_onload=e&&e.timeStamp||(new Date).getTime()}if(!a.BOOMR||!a.BOOMR.version&&!a.BOOMR.snippetExecuted){a.BOOMR=a.BOOMR||{},a.BOOMR.snippetExecuted=!0;var i,o,r,O=document.createElement(\"iframe\");if(a[t])a[t](\"load\",n,!1);else if(a.attachEvent)a.attachEvent(\"onload\",n);O.src=\"javascript:void(0)\",O.title=\"\",O.role=\"presentation\",(O.frameElement||O).style.cssText=\"width:0;height:0;border:0;display:none;\",r=document.getElementsByTagName(\"script\")[0],r.parentNode.insertBefore(O,r);try{o=O.contentWindow.document}catch(_){i=document.domain,O.src=\"javascript:var d=document.open();d.domain='\"+i+\"';void(0);\",o=O.contentWindow.document}o.open()._l=function(){var a=this.createElement(\"script\");if(i)this.domain=i;a.id=\"boomr-if-as\",a.src=e+\"YVPKX-K5D8K-83D3W-U8X45-X3FTN\",BOOMR_lstart=(new Date).getTime(),this.body.appendChild(a)},o.write(\"<bo\"+'dy onload=\"document._l();\">'),o.close()}}(),\"\".length>0)if(a&&\"performance\"in a&&a.performance&&\"function\"==typeof a.performance.setResourceTimingBufferSize)a.performance.setResourceTimingBufferSize();!function(){if(BOOMR=a.BOOMR||{},BOOMR.plugins=BOOMR.plugins||{},!BOOMR.plugins.AK){var e=\"\"==\"true\"?1:0,t=\"\",n=\"qbx5wnaxierwixm6b44q-f-ff92b8f70-clientnsv4-s.akamaihd.net\",i={\"ak.v\":23,\"ak.cp\":\"8675\",\"ak.ai\":parseInt(\"388528\",10),\"ak.ol\":\"0\",\"ak.cr\":4,\"ak.ipv\":4,\"ak.proto\":\"\",\"ak.rid\":\"1062930f\",\"ak.r\":34194,\"ak.a2\":e,\"ak.m\":\"dscna\",\"ak.n\":\"essl\",\"ak.bpcip\":\"128.111.219.0\",\"ak.cport\":33176,\"ak.gh\":\"23.36.15.174\",\"ak.quicv\":\"\",\"ak.tlsv\":\"tls1.2\",\"ak.0rtt\":\"\",\"ak.csrc\":\"-\",\"ak.acc\":\"reno\",\"ak.t\":\"1570639673\"};if(\"\"!==t)i[\"ak.ruds\"]=t;var o={i:!1,av:function(e){var t=\"http.initiator\";if(e&&(!e[t]||\"spa_hard\"===e[t]))i[\"ak.feo\"]=void 0!==a.aFeoApplied?1:0,BOOMR.addVar(i)},rv:function(){var a=[\"ak.bpcip\",\"ak.cport\",\"ak.cr\",\"ak.csrc\",\"ak.gh\",\"ak.ipv\",\"ak.m\",\"ak.n\",\"ak.ol\",\"ak.proto\",\"ak.quicv\",\"ak.tlsv\",\"ak.0rtt\",\"ak.r\",\"ak.acc\",\"ak.t\"];BOOMR.removeVar(a)}};BOOMR.plugins.AK={akVars:i,akDNSPreFetchDomain:n,init:function(){if(!o.i){var a=BOOMR.subscribe;a(\"before_beacon\",o.av,null,null),a(\"onbeacon\",o.rv,null,null),o.i=!0}return this},is_complete:function(){return!0}}}}()}(window);</script></head>\n",
      "  <body class=\"path-node page-node-type-pup-article has-glyphicons\">\n",
      "    <a href=\"#main-content\" class=\"visually-hidden focusable skip-link\">\n",
      "      Skip to main content\n",
      "    </a>\n",
      "    <noscript aria-hidden=\"true\"><iframe src=\"https://www.googletagmanager.com/ns.html?id=GTM-KV978ZL\" height=\"0\" width=\"0\" title=\"Google Tag Manager\"></iframe></noscript>\n",
      "      <div class=\"dialog-off-canvas-main-canvas\" data-off-canvas-main-canvas>\n",
      "    \n",
      "\n",
      "\n",
      "<header id=\"navbar\" role=\"banner\">\n",
      "\n",
      "  \n",
      "  \n",
      "  \n",
      "    \n",
      "    <div class=\"pup-header-main\">\n",
      "      <div class=\"container\">\n",
      "        <div class=\"row pup-header-main__content\">\n",
      "\n",
      "          \n",
      "                                        \n",
      "                                        <div class=\"col-xs-2 no-gutter pup-header-content-lt\">\n",
      "                    <div class=\"region region-header-left\">\n",
      "                <a class=\"logo navbar-btn pull-left\" href=\"/\" title=\"Home\" rel=\"home\">\n",
      "            <img src=\"/themes/custom/pup_base/logo.svg\" alt=\"Home\" />\n",
      "            <img class=\"print-logo\" src=\"/themes/custom/pup_irs/images/logo-print.svg\" alt=\"Home\" />\n",
      "        </a>\n",
      "            \n",
      "  </div>\n",
      "\n",
      "                </div>\n",
      "              \n",
      "              \n",
      "              <div class=\"col-sm-10 hidden-xs hidden-sm pup-header-content-rt\">\n",
      "                  <div class=\"region region-header-right\">\n",
      "      <div class=\"pup-site-header-search-block\">\n",
      "            <div class=\"pup-site-header-search-block__searchfield\">\n",
      "        <form block=\"pup_irs_exposedformpup_site_index_searchsite_search_srt_relevance_2\" action=\"/site-index-search\" method=\"get\" id=\"views-exposed-form-pup-site-index-search-site-search-srt-relevance\" accept-charset=\"UTF-8\">\n",
      "  <div class=\"form--inline form-inline clearfix\">\n",
      "  \n",
      "\n",
      "\n",
      "\n",
      "\n",
      "\n",
      "\n",
      "\n",
      "\n",
      "<div class=\"form-item form-group js-form-item form-type-textfield js-form-type-textfield form-item-search js-form-item-search\">\n",
      "\n",
      "\n",
      "    \n",
      "    \n",
      "            <label for=\"edit-search\" class=\"control-label\">Search</label>\n",
      "    \n",
      "    <input data-drupal-selector=\"edit-search\" class=\"form-text form-control\" type=\"text\" id=\"edit-search\" name=\"search\" value=\"\" size=\"30\" maxlength=\"128\" />\n",
      "\n",
      "    \n",
      "\n",
      "</div>\n",
      "\n",
      "\n",
      "\n",
      "\n",
      "\n",
      "\n",
      "\n",
      "\n",
      "\n",
      "<div class=\"form-item form-group js-form-item form-type-select js-form-type-select form-item-field-pup-historical-1 js-form-item-field-pup-historical-1\">\n",
      "\n",
      "\n",
      "    \n",
      "    \n",
      "            \n",
      "    \n",
      "    <div class=\"select-style select-wrapper\"><select data-drupal-selector=\"edit-field-pup-historical-1\" class=\"form-select form-control\" id=\"edit-field-pup-historical-1\" name=\"field_pup_historical_1\"><option value=\"All\">- Any -</option><option value=\"1\" selected=\"selected\">No</option></select></div>\n",
      "\n",
      "    \n",
      "\n",
      "</div>\n",
      "\n",
      "\n",
      "\n",
      "\n",
      "\n",
      "\n",
      "\n",
      "\n",
      "\n",
      "<div class=\"form-item form-group js-form-item form-type-select js-form-type-select form-item-field-pup-historical js-form-item-field-pup-historical\">\n",
      "\n",
      "\n",
      "    \n",
      "    \n",
      "            \n",
      "    \n",
      "    <div class=\"select-style select-wrapper\"><select data-drupal-selector=\"edit-field-pup-historical\" class=\"form-select form-control\" id=\"edit-field-pup-historical\" name=\"field_pup_historical\"><option value=\"All\">- Any -</option><option value=\"1\" selected=\"selected\">No</option></select></div>\n",
      "\n",
      "    \n",
      "\n",
      "</div>\n",
      "<div data-drupal-selector=\"edit-actions\" class=\"form-actions form-group js-form-wrapper form-wrapper\" id=\"edit-actions\"><button data-drupal-selector=\"edit-submit-pup-site-index-search\" class=\"button js-form-submit form-submit btn-primary btn icon-before\" type=\"submit\" id=\"edit-submit-pup-site-index-search\" value=\"Search\" name=\"\"><span class=\"icon glyphicon glyphicon-search\" aria-hidden=\"true\"></span>\n",
      "Search</button></div>\n",
      "\n",
      "</div>\n",
      "\n",
      "</form>\n",
      "\n",
      "      </div>\n",
      "      </div><nav role=\"navigation\" aria-labelledby=\"block-pup-irs-informationmenu-2-menu\" id=\"block-pup-irs-informationmenu-2\" data-block-plugin-id=\"system_menu_block:pup-info-menu\">\n",
      "            \n",
      "  <h2 class=\"visually-hidden\" id=\"block-pup-irs-informationmenu-2-menu\">Information Menu</h2>\n",
      "  \n",
      "\n",
      "        \n",
      "              <ul block=\"pup_irs_informationmenu_2\" class=\"menu nav\">\n",
      "                            <li>\n",
      "        <a href=\"/help/telephone-assistance\" target=\"\" title=\"Help\" data-drupal-link-system-path=\"node/16916\">Help</a>\n",
      "                  </li>\n",
      "                        <li>\n",
      "        <a href=\"/newsroom\" target=\"\" data-drupal-link-system-path=\"node/19646\">News</a>\n",
      "                  </li>\n",
      "                        <li class=\"expanded dropdown\">\n",
      "        <a href=\"\" class=\"dropdown-toggle\" data-toggle=\"dropdown\" aria-haspopup=\"true\" aria-expanded=\"false\">Language <span class=\"caret\"></span></a>\n",
      "                                  <ul block=\"pup_irs_informationmenu_2\" class=\"menu dropdown-menu\">\n",
      "                            <li>\n",
      "        <a href=\"https://www.irs.gov\" target=\"\" title=\"\" lang=\"en\" xml:lang=\"en\">English</a>\n",
      "                  </li>\n",
      "                        <li>\n",
      "        <a href=\"https://www.irs.gov/es/spanish\" target=\"\" title=\"\" lang=\"es\" xml:lang=\"es\">Español</a>\n",
      "                  </li>\n",
      "                        <li>\n",
      "        <a href=\"https://www.irs.gov/zh-hant/chinese\" target=\"\" title=\"\" lang=\"zh-hant\" xml:lang=\"zh-hant\">中文</a>\n",
      "                  </li>\n",
      "                        <li>\n",
      "        <a href=\"https://www.irs.gov/ko/korean\" target=\"\" title=\"\" lang=\"ko\" xml:lang=\"ko\">한국어</a>\n",
      "                  </li>\n",
      "                        <li>\n",
      "        <a href=\"https://www.irs.gov/ru/russian\" target=\"\" title=\"\" lang=\"ru\" xml:lang=\"ru\">Русский</a>\n",
      "                  </li>\n",
      "                        <li>\n",
      "        <a href=\"https://www.irs.gov/vi/vietnamese\" target=\"\" title=\"\" lang=\"vi\" xml:lang=\"vi\">Tiếng Việt</a>\n",
      "                  </li>\n",
      "        </ul>\n",
      "  \n",
      "            </li>\n",
      "                        <li>\n",
      "        <a href=\"/charities-and-nonprofits\" class=\"pup-info-menu-button\" target=\"\" title=\"\" lang=\"\" xml:lang=\"\" data-drupal-link-system-path=\"node/58461\">Charities &amp; Nonprofits</a>\n",
      "                  </li>\n",
      "                        <li>\n",
      "        <a href=\"/tax-professionals\" class=\"pup-info-menu-button\" target=\"\" title=\"\" lang=\"\" xml:lang=\"\" data-drupal-link-system-path=\"node/11\">Tax Pros</a>\n",
      "                  </li>\n",
      "        </ul>\n",
      "  \n",
      "\n",
      "\n",
      "  </nav>\n",
      "\n",
      "  </div>\n",
      "\n",
      "              </div>\n",
      "                            \n",
      "                            <div class=\"col-xs-10 hidden-md hidden-lg no-gutter\">\n",
      "                <div class=\"pup-header-mobile-menu pull-right\">\n",
      "                  <button id=\"pup-mobile-navbar-searchBtn\" class=\"pup-header-mobile-menu__searchBtn\" data-target=\"#navbar-collapse\" type=\"button\">\n",
      "                    <span class=\"sr-only\">Toggle search</span>\n",
      "                    <i class=\"fa fa-search\" aria-hidden=\"true\"></i>\n",
      "                  </button>\n",
      "                                      <div id=\"pup-mobile-navbar-infoBtn\" class=\"pup-header-mobile-menu__infoBtn\">  <div class=\"region region-help-menu-mobile\">\n",
      "    <nav role=\"navigation\" aria-labelledby=\"block-helpmenumobile-menu\" id=\"block-helpmenumobile\" data-block-plugin-id=\"system_menu_block:help-menu-mobile\">\n",
      "            \n",
      "  <h2 class=\"visually-hidden\" id=\"block-helpmenumobile-menu\">Help Menu Mobile</h2>\n",
      "  \n",
      "\n",
      "        \n",
      "              <ul block=\"helpmenumobile\" class=\"menu nav\">\n",
      "                            <li>\n",
      "        <a href=\"/help/telephone-assistance\" target=\"\" data-drupal-link-system-path=\"node/16916\">Help</a>\n",
      "                  </li>\n",
      "        </ul>\n",
      "  \n",
      "\n",
      "\n",
      "  </nav>\n",
      "\n",
      "  </div>\n",
      "</div>\n",
      "                                    <button id=\"pup-mobile-navbar-menuBtn\" class=\"pup-header-mobile-menu__menuBtn mobile-menu-icon\" data-target=\"#pup-header-nav-collapse\" type=\"button\">\n",
      "                    MENU\n",
      "                    <span class=\"sr-only\">Toggle menu</span>\n",
      "                  </button>\n",
      "                </div>\n",
      "              </div>\n",
      "          \n",
      "                      <div id=\"navbar-collapse\"  class=\"pup-header-content-rt col-xs-12 hidden-md hidden-lg collapse no-gutter\">\n",
      "                <div class=\"region region-search-form-collapsible\">\n",
      "      <div class=\"pup-site-header-search-block\">\n",
      "            <div class=\"pup-site-header-search-block__searchfield\">\n",
      "        <form block=\"exposedformpup_site_index_searchsite_search_srt_relevance_4\" action=\"/site-index-search\" method=\"get\" id=\"views-exposed-form-pup-site-index-search-site-search-srt-relevance\" accept-charset=\"UTF-8\">\n",
      "  <div class=\"form--inline form-inline clearfix\">\n",
      "  \n",
      "\n",
      "\n",
      "\n",
      "\n",
      "\n",
      "\n",
      "\n",
      "\n",
      "<div class=\"form-item form-group js-form-item form-type-textfield js-form-type-textfield form-item-search js-form-item-search\">\n",
      "\n",
      "\n",
      "    \n",
      "    \n",
      "            <label for=\"edit-search\" class=\"control-label\">Search</label>\n",
      "    \n",
      "    <input data-drupal-selector=\"edit-search\" class=\"form-text form-control\" type=\"text\" id=\"edit-search\" name=\"search\" value=\"\" size=\"30\" maxlength=\"128\" />\n",
      "\n",
      "    \n",
      "\n",
      "</div>\n",
      "\n",
      "\n",
      "\n",
      "\n",
      "\n",
      "\n",
      "\n",
      "\n",
      "\n",
      "<div class=\"form-item form-group js-form-item form-type-select js-form-type-select form-item-field-pup-historical-1 js-form-item-field-pup-historical-1\">\n",
      "\n",
      "\n",
      "    \n",
      "    \n",
      "            \n",
      "    \n",
      "    <div class=\"select-style select-wrapper\"><select data-drupal-selector=\"edit-field-pup-historical-1\" class=\"form-select form-control\" id=\"edit-field-pup-historical-1\" name=\"field_pup_historical_1\"><option value=\"All\">- Any -</option><option value=\"1\" selected=\"selected\">No</option></select></div>\n",
      "\n",
      "    \n",
      "\n",
      "</div>\n",
      "\n",
      "\n",
      "\n",
      "\n",
      "\n",
      "\n",
      "\n",
      "\n",
      "\n",
      "<div class=\"form-item form-group js-form-item form-type-select js-form-type-select form-item-field-pup-historical js-form-item-field-pup-historical\">\n",
      "\n",
      "\n",
      "    \n",
      "    \n",
      "            \n",
      "    \n",
      "    <div class=\"select-style select-wrapper\"><select data-drupal-selector=\"edit-field-pup-historical\" class=\"form-select form-control\" id=\"edit-field-pup-historical\" name=\"field_pup_historical\"><option value=\"All\">- Any -</option><option value=\"1\" selected=\"selected\">No</option></select></div>\n",
      "\n",
      "    \n",
      "\n",
      "</div>\n",
      "<div data-drupal-selector=\"edit-actions\" class=\"form-actions form-group js-form-wrapper form-wrapper\" id=\"edit-actions\"><button data-drupal-selector=\"edit-submit-pup-site-index-search\" class=\"button js-form-submit form-submit btn-primary btn icon-before\" type=\"submit\" id=\"edit-submit-pup-site-index-search\" value=\"Search\" name=\"\"><span class=\"icon glyphicon glyphicon-search\" aria-hidden=\"true\"></span>\n",
      "Search</button></div>\n",
      "\n",
      "</div>\n",
      "\n",
      "</form>\n",
      "\n",
      "      </div>\n",
      "      </div>\n",
      "  </div>\n",
      "\n",
      "            </div>\n",
      "          \n",
      "        </div>       </div>\n",
      "    </div> \n",
      "          <div class=\"header-nav hidden-xs hidden-sm\">\n",
      "          <div class=\"container-fluid\">\n",
      "              <div class=\"region region-site-navigation\">\n",
      "    <section id=\"block-mainnavigation-2\" data-block-plugin-id=\"we_megamenu_block:main\" class=\"block block-we-megamenu block-we-megamenu-blockmain clearfix\">\n",
      "  \n",
      "    \n",
      "\n",
      "      <div class=\"region-we-mega-menu\">\n",
      "\t<a class=\"navbar-toggle collapsed\">\n",
      "\t    <span class=\"icon-bar\"></span>\n",
      "\t    <span class=\"icon-bar\"></span>\n",
      "\t    <span class=\"icon-bar\"></span>\n",
      "\t</a>\n",
      "\t<nav  class=\"main navbar navbar-default navbar-we-mega-menu mobile-collapse hover-action\" data-menu-name=\"main\" data-block-theme=\"pup_irs\" data-style=\"Default\" data-animation=\"None\" data-delay=\"\" data-duration=\"\" data-autoarrow=\"\" data-alwayshowsubmenu=\"\" data-action=\"hover\" data-mobile-collapse=\"0\">\n",
      "\t  <div class=\"container\" aria-label=\"Main\">\n",
      "\t    <ul  class=\"we-mega-menu-ul nav nav-tabs\">\n",
      "  <li  class=\"we-mega-menu-li dropdown-menu\" data-level=\"0\" data-element-type=\"we-mega-menu-li\" description=\"\" data-id=\"e27eb763-2dc4-4ef6-892a-32a7b2383d17\" data-submenu=\"1\" hide-sub-when-collapse=\"\" data-group=\"0\" data-class=\"\" data-icon=\"\" data-caption=\"\" data-alignsub=\"\" data-target=\"\">\n",
      "      <a class=\"we-mega-menu-li\" title=\"\" href=\"/filing\" target=\"\">File</a>\n",
      "    <div  class=\"we-mega-menu-submenu\" data-element-type=\"we-mega-menu-submenu\" data-submenu-width=\"\" data-class=\"\" style=\"width: px\">\n",
      "  <div class=\"container we-mega-menu-submenu-inner\">\n",
      "    <div  class=\"we-mega-menu-row\" data-element-type=\"we-mega-menu-row\" data-custom-row=\"1\">\n",
      "  <div  class=\"we-mega-menu-col span4\" data-element-type=\"we-mega-menu-col\" data-width=\"4\" data-block=\"pup_irs_informationfor...\" data-blocktitle=\"0\" data-hidewhencollapse=\"\" data-class=\"\">\n",
      "    <div class=\"type-of-block\"><div class=\"block-inner\">\n",
      "<section id=\"block-pup-irs-informationfor\" data-block-plugin-id=\"block_content:7833d484-2529-4f8d-8f5c-e7a8f10520e0\" class=\"pup-mega-menu-item\">\n",
      "  \n",
      "      <h2 class=\"block-title\">\n",
      "            <div class=\"field field--name-field-pup-column-label field--type-string field--label-hidden field--item\">Information For...</div>\n",
      "      </h2>\n",
      "    \n",
      "\n",
      "      \n",
      "      <div class=\"field field--name-field-mega-menu-item field--type-entity-reference-revisions field--label-hidden field--items\">\n",
      "              <div class=\"field--item\">  <div class=\"paragraph paragraph--type--pup-mega-menu-item paragraph--view-mode--default\">\n",
      "          \n",
      "            <div class=\"field field--name-field-pup-callout-link field--type-link field--label-hidden field--item\"><a href=\"/filing\">Individuals</a></div>\n",
      "      \n",
      "            <div class=\"field field--name-field-pup-text-plain-long field--type-string-long field--label-hidden field--item\">For you and your family</div>\n",
      "      \n",
      "      </div>\n",
      "</div>\n",
      "              <div class=\"field--item\">  <div class=\"paragraph paragraph--type--pup-mega-menu-item paragraph--view-mode--default\">\n",
      "          \n",
      "            <div class=\"field field--name-field-pup-callout-link field--type-link field--label-hidden field--item\"><a href=\"/individuals/international-taxpayers\">International Taxpayers</a></div>\n",
      "      \n",
      "            <div class=\"field field--name-field-pup-text-plain-long field--type-string-long field--label-hidden field--item\">Individuals abroad and more</div>\n",
      "      \n",
      "      </div>\n",
      "</div>\n",
      "              <div class=\"field--item\">  <div class=\"paragraph paragraph--type--pup-mega-menu-item paragraph--view-mode--default\">\n",
      "          \n",
      "            <div class=\"field field--name-field-pup-callout-link field--type-link field--label-hidden field--item\"><a href=\"/businesses\">Business &amp; Self Employed</a></div>\n",
      "      \n",
      "            <div class=\"field field--name-field-pup-text-plain-long field--type-string-long field--label-hidden field--item\">EINs and other information</div>\n",
      "      \n",
      "      </div>\n",
      "</div>\n",
      "              <div class=\"field--item\">  <div class=\"paragraph paragraph--type--pup-mega-menu-item paragraph--view-mode--default\">\n",
      "          \n",
      "            <div class=\"field field--name-field-pup-callout-link field--type-link field--label-hidden field--item\"><a href=\"/government-entities\">Government Entities</a></div>\n",
      "      \n",
      "      </div>\n",
      "</div>\n",
      "          </div>\n",
      "  \n",
      "  </section>\n",
      "</div></div>\n",
      "\n",
      "</div>\n",
      "<div  class=\"we-mega-menu-col span4\" data-element-type=\"we-mega-menu-col\" data-width=\"4\" data-block=\"pup_irs_filingforindividuals\" data-blocktitle=\"0\" data-hidewhencollapse=\"\" data-class=\"\">\n",
      "    <div class=\"type-of-block\"><div class=\"block-inner\">\n",
      "<section id=\"block-pup-irs-filingforindividuals\" data-block-plugin-id=\"block_content:38eeb4a5-6f26-434c-85fc-6f6a1b3ef090\" class=\"pup-mega-menu-item\">\n",
      "  \n",
      "      <h2 class=\"block-title\">\n",
      "            <div class=\"field field--name-field-pup-column-label field--type-string field--label-hidden field--item\">Filing For Individuals</div>\n",
      "      </h2>\n",
      "    \n",
      "\n",
      "      \n",
      "      <div class=\"field field--name-field-mega-menu-item field--type-entity-reference-revisions field--label-hidden field--items\">\n",
      "              <div class=\"field--item\">  <div class=\"paragraph paragraph--type--pup-mega-menu-item paragraph--view-mode--default\">\n",
      "          \n",
      "            <div class=\"field field--name-field-pup-callout-link field--type-link field--label-hidden field--item\"><a href=\"/filing/individuals/how-to-file\">How to File</a></div>\n",
      "      \n",
      "      </div>\n",
      "</div>\n",
      "              <div class=\"field--item\">  <div class=\"paragraph paragraph--type--pup-mega-menu-item paragraph--view-mode--default\">\n",
      "          \n",
      "            <div class=\"field field--name-field-pup-callout-link field--type-link field--label-hidden field--item\"><a href=\"/filing/individuals/when-to-file\">When to File</a></div>\n",
      "      \n",
      "      </div>\n",
      "</div>\n",
      "              <div class=\"field--item\">  <div class=\"paragraph paragraph--type--pup-mega-menu-item paragraph--view-mode--default\">\n",
      "          \n",
      "            <div class=\"field field--name-field-pup-callout-link field--type-link field--label-hidden field--item\"><a href=\"/filing/where-to-file-tax-returns-addresses-listed-by-return-type\">Where to File</a></div>\n",
      "      \n",
      "      </div>\n",
      "</div>\n",
      "              <div class=\"field--item\">  <div class=\"paragraph paragraph--type--pup-mega-menu-item paragraph--view-mode--default\">\n",
      "          \n",
      "            <div class=\"field field--name-field-pup-callout-link field--type-link field--label-hidden field--item\"><a href=\"/filing/individual/update-my-information\">Update My Information</a></div>\n",
      "      \n",
      "      </div>\n",
      "</div>\n",
      "          </div>\n",
      "  \n",
      "  </section>\n",
      "</div></div>\n",
      "\n",
      "</div>\n",
      "<div  class=\"we-mega-menu-col span4\" data-element-type=\"we-mega-menu-col\" data-width=\"4\" data-block=\"pup_irs_popularfile\" data-blocktitle=\"0\" data-hidewhencollapse=\"\" data-class=\"\">\n",
      "    <div class=\"type-of-block\"><div class=\"block-inner\">\n",
      "<section id=\"block-pup-irs-popularfile\" data-block-plugin-id=\"block_content:3d183a86-7ce7-4d42-9031-3efa64c2ab6c\" class=\"popular-box pup-mega-menu-item\">\n",
      "  \n",
      "      <h2 class=\"block-title\">\n",
      "            <div class=\"field field--name-field-pup-column-label field--type-string field--label-hidden field--item\">Popular</div>\n",
      "      </h2>\n",
      "    \n",
      "\n",
      "      \n",
      "      <div class=\"field field--name-field-mega-menu-item field--type-entity-reference-revisions field--label-hidden field--items\">\n",
      "              <div class=\"field--item\">  <div class=\"paragraph paragraph--type--pup-mega-menu-item paragraph--view-mode--default\">\n",
      "          \n",
      "            <div class=\"field field--name-field-pup-callout-link field--type-link field--label-hidden field--item\"><a href=\"/forms-pubs/extension-of-time-to-file-your-tax-return\">Extension to File</a></div>\n",
      "      \n",
      "      </div>\n",
      "</div>\n",
      "              <div class=\"field--item\">  <div class=\"paragraph paragraph--type--pup-mega-menu-item paragraph--view-mode--default\">\n",
      "          \n",
      "            <div class=\"field field--name-field-pup-callout-link field--type-link field--label-hidden field--item\"><a href=\"/individuals/get-transcript-1\">Get Your Tax Record</a></div>\n",
      "      \n",
      "      </div>\n",
      "</div>\n",
      "              <div class=\"field--item\">  <div class=\"paragraph paragraph--type--pup-mega-menu-item paragraph--view-mode--default\">\n",
      "          \n",
      "            <div class=\"field field--name-field-pup-callout-link field--type-link field--label-hidden field--item\"><a href=\"/filing/free-file-do-your-federal-taxes-for-free\">Free File</a></div>\n",
      "      \n",
      "      </div>\n",
      "</div>\n",
      "              <div class=\"field--item\">  <div class=\"paragraph paragraph--type--pup-mega-menu-item paragraph--view-mode--default\">\n",
      "          \n",
      "            <div class=\"field field--name-field-pup-callout-link field--type-link field--label-hidden field--item\"><a href=\"/businesses/small-businesses-self-employed/apply-for-an-employer-identification-number-ein-online\">Employer Identification Number (EIN)</a></div>\n",
      "      \n",
      "      </div>\n",
      "</div>\n",
      "              <div class=\"field--item\">  <div class=\"paragraph paragraph--type--pup-mega-menu-item paragraph--view-mode--default\">\n",
      "          \n",
      "            <div class=\"field field--name-field-pup-callout-link field--type-link field--label-hidden field--item\"><a href=\"/identity-theft-fraud-scams/the-identity-protection-pin-ip-pin\">Get an Identity Protection PIN (IP PIN)</a></div>\n",
      "      \n",
      "      </div>\n",
      "</div>\n",
      "          </div>\n",
      "  \n",
      "  </section>\n",
      "</div></div>\n",
      "\n",
      "</div>\n",
      "\n",
      "</div>\n",
      "\n",
      "  </div>\n",
      "</div>\n",
      "\n",
      "</li>\n",
      "<li  class=\"we-mega-menu-li dropdown-menu\" data-level=\"0\" data-element-type=\"we-mega-menu-li\" description=\"\" data-id=\"6397d777-68ce-4f7d-8695-cc81d6c951d3\" data-submenu=\"1\" hide-sub-when-collapse=\"\" data-group=\"0\" data-class=\"\" data-icon=\"\" data-caption=\"\" data-alignsub=\"\" data-target=\"\">\n",
      "      <a class=\"we-mega-menu-li\" title=\"\" href=\"/payments\" target=\"\">Pay</a>\n",
      "    <div  class=\"we-mega-menu-submenu\" data-element-type=\"we-mega-menu-submenu\" data-submenu-width=\"\" data-class=\"\" style=\"width: px\">\n",
      "  <div class=\"container we-mega-menu-submenu-inner\">\n",
      "    <div  class=\"we-mega-menu-row\" data-element-type=\"we-mega-menu-row\" data-custom-row=\"1\">\n",
      "  <div  class=\"we-mega-menu-col span6\" data-element-type=\"we-mega-menu-col\" data-width=\"6\" data-block=\"pup_irs_payby\" data-blocktitle=\"0\" data-hidewhencollapse=\"\" data-class=\"\">\n",
      "    <div class=\"type-of-block\"><div class=\"block-inner\">\n",
      "<section id=\"block-pup-irs-payby\" data-block-plugin-id=\"block_content:63596689-f933-417f-a80d-6771150dfd2e\" class=\"pup-mega-menu-item\">\n",
      "  \n",
      "      <h2 class=\"block-title\">\n",
      "            <div class=\"field field--name-field-pup-column-label field--type-string field--label-hidden field--item\">Pay By</div>\n",
      "      </h2>\n",
      "    \n",
      "\n",
      "      \n",
      "      <div class=\"field field--name-field-mega-menu-item field--type-entity-reference-revisions field--label-hidden field--items\">\n",
      "              <div class=\"field--item\">  <div class=\"paragraph paragraph--type--pup-mega-menu-item paragraph--view-mode--default\">\n",
      "          \n",
      "            <div class=\"field field--name-field-pup-callout-link field--type-link field--label-hidden field--item\"><a href=\"/payments/direct-pay\">Bank Account (Direct Pay)</a></div>\n",
      "      \n",
      "      </div>\n",
      "</div>\n",
      "              <div class=\"field--item\">  <div class=\"paragraph paragraph--type--pup-mega-menu-item paragraph--view-mode--default\">\n",
      "          \n",
      "            <div class=\"field field--name-field-pup-callout-link field--type-link field--label-hidden field--item\"><a href=\"/payments/pay-taxes-by-credit-or-debit-card\">Debit or Credit Card</a></div>\n",
      "      \n",
      "      </div>\n",
      "</div>\n",
      "              <div class=\"field--item\">  <div class=\"paragraph paragraph--type--pup-mega-menu-item paragraph--view-mode--default\">\n",
      "          \n",
      "            <div class=\"field field--name-field-pup-callout-link field--type-link field--label-hidden field--item\"><a href=\"/payments/online-payment-agreement-application\">Payment Plan (Installment Agreement)</a></div>\n",
      "      \n",
      "      </div>\n",
      "</div>\n",
      "              <div class=\"field--item\">  <div class=\"paragraph paragraph--type--pup-mega-menu-item paragraph--view-mode--default\">\n",
      "          \n",
      "            <div class=\"field field--name-field-pup-callout-link field--type-link field--label-hidden field--item\"><a href=\"/payments/eftps-the-electronic-federal-tax-payment-system\">Electronic Federal Tax Payment System (EFTPS)</a></div>\n",
      "      \n",
      "      </div>\n",
      "</div>\n",
      "          </div>\n",
      "  \n",
      "  </section>\n",
      "</div></div>\n",
      "\n",
      "</div>\n",
      "<div  class=\"we-mega-menu-col span6\" data-element-type=\"we-mega-menu-col\" data-width=\"6\" data-block=\"pup_irs_popularpay\" data-blocktitle=\"0\" data-hidewhencollapse=\"\" data-class=\"\">\n",
      "    <div class=\"type-of-block\"><div class=\"block-inner\">\n",
      "<section id=\"block-pup-irs-popularpay\" data-block-plugin-id=\"block_content:974e58ce-d990-49c8-907e-800b341c90f6\" class=\"popular-box pup-mega-menu-item\">\n",
      "  \n",
      "      <h2 class=\"block-title\">\n",
      "            <div class=\"field field--name-field-pup-column-label field--type-string field--label-hidden field--item\">Popular</div>\n",
      "      </h2>\n",
      "    \n",
      "\n",
      "      \n",
      "      <div class=\"field field--name-field-mega-menu-item field--type-entity-reference-revisions field--label-hidden field--items\">\n",
      "              <div class=\"field--item\">  <div class=\"paragraph paragraph--type--pup-mega-menu-item paragraph--view-mode--default\">\n",
      "          \n",
      "            <div class=\"field field--name-field-pup-callout-link field--type-link field--label-hidden field--item\"><a href=\"/payments/view-your-tax-account\">View Your Account</a></div>\n",
      "      \n",
      "      </div>\n",
      "</div>\n",
      "              <div class=\"field--item\">  <div class=\"paragraph paragraph--type--pup-mega-menu-item paragraph--view-mode--default\">\n",
      "          \n",
      "            <div class=\"field field--name-field-pup-callout-link field--type-link field--label-hidden field--item\"><a href=\"/individuals/tax-withholding-estimator\">Tax Withholding Estimator</a></div>\n",
      "      \n",
      "      </div>\n",
      "</div>\n",
      "              <div class=\"field--item\">  <div class=\"paragraph paragraph--type--pup-mega-menu-item paragraph--view-mode--default\">\n",
      "          \n",
      "            <div class=\"field field--name-field-pup-callout-link field--type-link field--label-hidden field--item\"><a href=\"/businesses/small-businesses-self-employed/estimated-taxes\">Estimated Taxes</a></div>\n",
      "      \n",
      "      </div>\n",
      "</div>\n",
      "              <div class=\"field--item\">  <div class=\"paragraph paragraph--type--pup-mega-menu-item paragraph--view-mode--default\">\n",
      "          \n",
      "            <div class=\"field field--name-field-pup-callout-link field--type-link field--label-hidden field--item\"><a href=\"/businesses/small-businesses-self-employed/penalty-relief\">Penalties</a></div>\n",
      "      \n",
      "      </div>\n",
      "</div>\n",
      "          </div>\n",
      "  \n",
      "  </section>\n",
      "</div></div>\n",
      "\n",
      "</div>\n",
      "\n",
      "</div>\n",
      "\n",
      "  </div>\n",
      "</div>\n",
      "\n",
      "</li>\n",
      "<li  class=\"we-mega-menu-li dropdown-menu\" data-level=\"0\" data-element-type=\"we-mega-menu-li\" description=\"\" data-id=\"dbc569b8-684f-4c0a-a39f-e6bbccef3840\" data-submenu=\"1\" hide-sub-when-collapse=\"\" data-group=\"0\" data-class=\"\" data-icon=\"\" data-caption=\"\" data-alignsub=\"\" data-target=\"\">\n",
      "      <a class=\"we-mega-menu-li\" title=\"\" href=\"/refunds\" target=\"\">Refunds</a>\n",
      "    <div  class=\"we-mega-menu-submenu\" data-element-type=\"we-mega-menu-submenu\" data-submenu-width=\"\" data-class=\"\" style=\"width: px\">\n",
      "  <div class=\"container we-mega-menu-submenu-inner\">\n",
      "    <div  class=\"we-mega-menu-row\" data-element-type=\"we-mega-menu-row\" data-custom-row=\"1\">\n",
      "  <div  class=\"we-mega-menu-col span6\" data-element-type=\"we-mega-menu-col\" data-width=\"6\" data-block=\"pup_irs_refundsimageblock\" data-blocktitle=\"0\" data-hidewhencollapse=\"\" data-class=\"\">\n",
      "    <div class=\"type-of-block\"><div class=\"block-inner\"><section id=\"block-pup-irs-refundsimageblock\" data-block-plugin-id=\"block_content:c7b9385a-8a3c-4d49-ba96-f5a027ab9f3e\" class=\"block block-block-content block-block-contentc7b9385a-8a3c-4d49-ba96-f5a027ab9f3e clearfix pup-mega-menu-image-and-link\">\n",
      "  \n",
      "    <div class=\"refunds-image\">\n",
      "  \n",
      "            <div class=\"field field--name-field-pup-media-image field--type-entity-reference field--label-hidden field--item\"><div>\n",
      "  \n",
      "  \n",
      "            <div class=\"field field--name-image field--type-image field--label-hidden field--item\">  <img src=\"/pub/image/Sized_Refunds_image_60.jpg\" width=\"433\" height=\"200\" alt=\"Close-up of money\" title=\"Close-up of money\" typeof=\"foaf:Image\" class=\"img-responsive\" />\n",
      "\n",
      "</div>\n",
      "      \n",
      "</div>\n",
      "</div>\n",
      "      \n",
      "    <span class=\"refunds-image__link btn btn-primary\">\n",
      "            <div class=\"field field--name-field-pup-link field--type-link field--label-hidden field--item\"><a href=\"https://sa.www4.irs.gov/irfof/lang/en/irfofgetstatus.jsp\">Where&#039;s My Refund?</a></div>\n",
      "      </span>\n",
      "  </div>\n",
      "  </section>\n",
      "</div></div>\n",
      "\n",
      "</div>\n",
      "<div  class=\"we-mega-menu-col span6\" data-element-type=\"we-mega-menu-col\" data-width=\"6\" data-block=\"pup_irs_refundlistblockmenuitem\" data-blocktitle=\"0\" data-hidewhencollapse=\"\" data-class=\"\">\n",
      "    <div class=\"type-of-block\"><div class=\"block-inner\">\n",
      "<section id=\"block-pup-irs-refundlistblockmenuitem\" data-block-plugin-id=\"block_content:3e835158-19e9-4334-aa37-393a1d5a04dc\" class=\"pup-mega-menu-item\">\n",
      "  \n",
      "      <h2 class=\"block-title pup_blank_h2\">&nbsp;</h2>\n",
      "    \n",
      "\n",
      "      \n",
      "      <div class=\"field field--name-field-mega-menu-item field--type-entity-reference-revisions field--label-hidden field--items\">\n",
      "              <div class=\"field--item\">  <div class=\"paragraph paragraph--type--pup-mega-menu-item paragraph--view-mode--default\">\n",
      "          \n",
      "            <div class=\"field field--name-field-pup-callout-link field--type-link field--label-hidden field--item\"><a href=\"/refunds/what-to-expect-for-refunds-this-year\">What to Expect</a></div>\n",
      "      \n",
      "      </div>\n",
      "</div>\n",
      "              <div class=\"field--item\">  <div class=\"paragraph paragraph--type--pup-mega-menu-item paragraph--view-mode--default\">\n",
      "          \n",
      "            <div class=\"field field--name-field-pup-callout-link field--type-link field--label-hidden field--item\"><a href=\"/refunds/get-your-refund-faster-tell-irs-to-direct-deposit-your-refund-to-one-two-or-three-accounts\">Direct Deposit</a></div>\n",
      "      \n",
      "      </div>\n",
      "</div>\n",
      "              <div class=\"field--item\">  <div class=\"paragraph paragraph--type--pup-mega-menu-item paragraph--view-mode--default\">\n",
      "          \n",
      "            <div class=\"field field--name-field-pup-callout-link field--type-link field--label-hidden field--item\"><a href=\"/taxtopics/tc203\">Reduced Refunds</a></div>\n",
      "      \n",
      "      </div>\n",
      "</div>\n",
      "              <div class=\"field--item\">  <div class=\"paragraph paragraph--type--pup-mega-menu-item paragraph--view-mode--default\">\n",
      "          \n",
      "            <div class=\"field field--name-field-pup-callout-link field--type-link field--label-hidden field--item\"><a href=\"/forms-pubs/about-form-1040x\">Fix/Correct a Return</a></div>\n",
      "      \n",
      "      </div>\n",
      "</div>\n",
      "          </div>\n",
      "  \n",
      "  </section>\n",
      "</div></div>\n",
      "\n",
      "</div>\n",
      "\n",
      "</div>\n",
      "\n",
      "  </div>\n",
      "</div>\n",
      "\n",
      "</li>\n",
      "<li  class=\"we-mega-menu-li dropdown-menu\" data-level=\"0\" data-element-type=\"we-mega-menu-li\" description=\"\" data-id=\"e1ea8003-8882-438b-9e9e-2f5a6671b007\" data-submenu=\"1\" hide-sub-when-collapse=\"\" data-group=\"0\" data-class=\"\" data-icon=\"\" data-caption=\"\" data-alignsub=\"\" data-target=\"\">\n",
      "      <a class=\"we-mega-menu-li\" title=\"\" href=\"/credits-deductions-for-individuals\" target=\"\">Credits &amp; Deductions</a>\n",
      "    <div  class=\"we-mega-menu-submenu\" data-element-type=\"we-mega-menu-submenu\" data-submenu-width=\"\" data-class=\"\" style=\"width: px\">\n",
      "  <div class=\"container we-mega-menu-submenu-inner\">\n",
      "    <div  class=\"we-mega-menu-row\" data-element-type=\"we-mega-menu-row\" data-custom-row=\"1\">\n",
      "  <div  class=\"we-mega-menu-col span6\" data-element-type=\"we-mega-menu-col\" data-width=\"6\" data-block=\"pup_irs_informationfor...cnd\" data-blocktitle=\"0\" data-hidewhencollapse=\"\" data-class=\"\">\n",
      "    <div class=\"type-of-block\"><div class=\"block-inner\">\n",
      "<section id=\"block-pup-irs-informationforcnd\" data-block-plugin-id=\"block_content:fb0ef200-7a64-4e96-9096-e2ab9633a64e\" class=\"pup-mega-menu-item\">\n",
      "  \n",
      "      <h2 class=\"block-title\">\n",
      "            <div class=\"field field--name-field-pup-column-label field--type-string field--label-hidden field--item\">Information For...</div>\n",
      "      </h2>\n",
      "    \n",
      "\n",
      "      \n",
      "      <div class=\"field field--name-field-mega-menu-item field--type-entity-reference-revisions field--label-hidden field--items\">\n",
      "              <div class=\"field--item\">  <div class=\"paragraph paragraph--type--pup-mega-menu-item paragraph--view-mode--default\">\n",
      "          \n",
      "            <div class=\"field field--name-field-pup-callout-link field--type-link field--label-hidden field--item\"><a href=\"/credits-deductions-for-individuals\">Individuals</a></div>\n",
      "      \n",
      "            <div class=\"field field--name-field-pup-text-plain-long field--type-string-long field--label-hidden field--item\">For you and your family</div>\n",
      "      \n",
      "      </div>\n",
      "</div>\n",
      "              <div class=\"field--item\">  <div class=\"paragraph paragraph--type--pup-mega-menu-item paragraph--view-mode--default\">\n",
      "          \n",
      "            <div class=\"field field--name-field-pup-callout-link field--type-link field--label-hidden field--item\"><a href=\"/credits-deductions/businesses\">Business &amp; Self Employed</a></div>\n",
      "      \n",
      "            <div class=\"field field--name-field-pup-text-plain-long field--type-string-long field--label-hidden field--item\">Standard mileage and other information</div>\n",
      "      \n",
      "      </div>\n",
      "</div>\n",
      "          </div>\n",
      "  \n",
      "  </section>\n",
      "</div></div>\n",
      "\n",
      "</div>\n",
      "<div  class=\"we-mega-menu-col span6\" data-element-type=\"we-mega-menu-col\" data-width=\"6\" data-block=\"creditsdeductionspopular\" data-blocktitle=\"0\" data-hidewhencollapse=\"\" data-class=\"\">\n",
      "    <div class=\"type-of-block\"><div class=\"block-inner\">\n",
      "<section id=\"block-creditsdeductionspopular\" data-block-plugin-id=\"block_content:232c9c3a-8319-42b3-9118-d73a6bc8fa06\" class=\"popular-box pup-mega-menu-item\">\n",
      "  \n",
      "      <h2 class=\"block-title\">\n",
      "            <div class=\"field field--name-field-pup-column-label field--type-string field--label-hidden field--item\">Popular</div>\n",
      "      </h2>\n",
      "    \n",
      "\n",
      "      \n",
      "      <div class=\"field field--name-field-mega-menu-item field--type-entity-reference-revisions field--label-hidden field--items\">\n",
      "              <div class=\"field--item\">  <div class=\"paragraph paragraph--type--pup-mega-menu-item paragraph--view-mode--default\">\n",
      "          \n",
      "            <div class=\"field field--name-field-pup-callout-link field--type-link field--label-hidden field--item\"><a href=\"/credits-deductions/individuals/earned-income-tax-credit\">Earned Income Credit (EITC)</a></div>\n",
      "      \n",
      "      </div>\n",
      "</div>\n",
      "              <div class=\"field--item\">  <div class=\"paragraph paragraph--type--pup-mega-menu-item paragraph--view-mode--default\">\n",
      "          \n",
      "            <div class=\"field field--name-field-pup-callout-link field--type-link field--label-hidden field--item\"><a href=\"/help/ita/does-my-childdependent-qualify-for-the-child-tax-credit-or-the-credit-for-other-dependents\">Child Tax Credit</a></div>\n",
      "      \n",
      "      </div>\n",
      "</div>\n",
      "              <div class=\"field--item\">  <div class=\"paragraph paragraph--type--pup-mega-menu-item paragraph--view-mode--default\">\n",
      "          \n",
      "            <div class=\"field field--name-field-pup-callout-link field--type-link field--label-hidden field--item\"><a href=\"/help/ita/how-much-is-my-standard-deduction\">Standard Deduction</a></div>\n",
      "      \n",
      "      </div>\n",
      "</div>\n",
      "              <div class=\"field--item\">  <div class=\"paragraph paragraph--type--pup-mega-menu-item paragraph--view-mode--default\">\n",
      "          \n",
      "            <div class=\"field field--name-field-pup-callout-link field--type-link field--label-hidden field--item\"><a href=\"/credits-deductions/individuals/hctc\">Health Coverage</a></div>\n",
      "      \n",
      "      </div>\n",
      "</div>\n",
      "              <div class=\"field--item\">  <div class=\"paragraph paragraph--type--pup-mega-menu-item paragraph--view-mode--default\">\n",
      "          \n",
      "            <div class=\"field field--name-field-pup-callout-link field--type-link field--label-hidden field--item\"><a href=\"/retirement-plans/plan-participant-employee/retirement-savings-contributions-savers-credit\">Retirement Savings</a></div>\n",
      "      \n",
      "      </div>\n",
      "</div>\n",
      "          </div>\n",
      "  \n",
      "  </section>\n",
      "</div></div>\n",
      "\n",
      "</div>\n",
      "\n",
      "</div>\n",
      "\n",
      "  </div>\n",
      "</div>\n",
      "\n",
      "</li>\n",
      "<li  class=\"we-mega-menu-li dropdown-menu\" data-level=\"0\" data-element-type=\"we-mega-menu-li\" description=\"\" data-id=\"c6302983-aaeb-4490-ae1d-d447eea97081\" data-submenu=\"1\" hide-sub-when-collapse=\"\" data-group=\"0\" data-class=\"\" data-icon=\"\" data-caption=\"\" data-alignsub=\"\" data-target=\"\">\n",
      "      <a class=\"we-mega-menu-li\" title=\"\" href=\"/forms-instructions\" target=\"\">Forms &amp; Instructions</a>\n",
      "    <div  class=\"we-mega-menu-submenu\" data-element-type=\"we-mega-menu-submenu\" data-submenu-width=\"\" data-class=\"\" style=\"width: px\">\n",
      "  <div class=\"container we-mega-menu-submenu-inner\">\n",
      "    <div  class=\"we-mega-menu-row\" data-element-type=\"we-mega-menu-row\" data-custom-row=\"1\">\n",
      "  <div  class=\"we-mega-menu-col span4\" data-element-type=\"we-mega-menu-col\" data-width=\"4\" data-block=\"pup_irs_popularpaycnd\" data-blocktitle=\"0\" data-hidewhencollapse=\"\" data-class=\"\">\n",
      "    <div class=\"type-of-block\"><div class=\"block-inner\">\n",
      "<section id=\"block-pup-irs-popularpaycnd\" data-block-plugin-id=\"block_content:0582dacf-f677-41af-bec4-358fb267f67f\" class=\"pup-mega-menu-item\">\n",
      "  \n",
      "      <h2 class=\"block-title\">\n",
      "            <div class=\"field field--name-field-pup-column-label field--type-string field--label-hidden field--item\">Forms and Instructions</div>\n",
      "      </h2>\n",
      "    \n",
      "\n",
      "      \n",
      "      <div class=\"field field--name-field-mega-menu-item field--type-entity-reference-revisions field--label-hidden field--items\">\n",
      "              <div class=\"field--item\">  <div class=\"paragraph paragraph--type--pup-mega-menu-item paragraph--view-mode--default\">\n",
      "          \n",
      "            <div class=\"field field--name-field-pup-callout-link field--type-link field--label-hidden field--item\"><a href=\"/forms-pubs/about-form-1040\">Form 1040</a></div>\n",
      "      \n",
      "            <div class=\"field field--name-field-pup-text-plain-long field--type-string-long field--label-hidden field--item\">Individual Tax Return</div>\n",
      "      \n",
      "      </div>\n",
      "</div>\n",
      "              <div class=\"field--item\">  <div class=\"paragraph paragraph--type--pup-mega-menu-item paragraph--view-mode--default\">\n",
      "          \n",
      "            <div class=\"field field--name-field-pup-callout-link field--type-link field--label-hidden field--item\"><a href=\"https://www.irs.gov/pub/irs-pdf/i1040gi.pdf\">Form 1040 Instructions</a></div>\n",
      "      \n",
      "            <div class=\"field field--name-field-pup-text-plain-long field--type-string-long field--label-hidden field--item\">Instructions for Form 1040 </div>\n",
      "      \n",
      "      </div>\n",
      "</div>\n",
      "              <div class=\"field--item\">  <div class=\"paragraph paragraph--type--pup-mega-menu-item paragraph--view-mode--default\">\n",
      "          \n",
      "            <div class=\"field field--name-field-pup-callout-link field--type-link field--label-hidden field--item\"><a href=\"/forms-pubs/about-form-w-9\">Form W-9</a></div>\n",
      "      \n",
      "            <div class=\"field field--name-field-pup-text-plain-long field--type-string-long field--label-hidden field--item\">Request for Taxpayer Identification Number (TIN) and Certification</div>\n",
      "      \n",
      "      </div>\n",
      "</div>\n",
      "              <div class=\"field--item\">  <div class=\"paragraph paragraph--type--pup-mega-menu-item paragraph--view-mode--default\">\n",
      "          \n",
      "            <div class=\"field field--name-field-pup-callout-link field--type-link field--label-hidden field--item\"><a href=\"/forms-pubs/about-form-4506-t\">Form 4506-T</a></div>\n",
      "      \n",
      "            <div class=\"field field--name-field-pup-text-plain-long field--type-string-long field--label-hidden field--item\">Request for Transcript of Tax Return</div>\n",
      "      \n",
      "      </div>\n",
      "</div>\n",
      "          </div>\n",
      "  \n",
      "  </section>\n",
      "</div></div>\n",
      "\n",
      "</div>\n",
      "<div  class=\"we-mega-menu-col span4\" data-element-type=\"we-mega-menu-col\" data-width=\"4\" data-block=\"formsinstructionspopularpart2\" data-blocktitle=\"0\" data-hidewhencollapse=\"\" data-class=\"\">\n",
      "    <div class=\"type-of-block\"><div class=\"block-inner\">\n",
      "<section id=\"block-formsinstructionspopularpart2\" data-block-plugin-id=\"block_content:72df8168-0e66-4000-8b74-05e66ac9f1c6\" class=\"pup-mega-menu-item\">\n",
      "  \n",
      "      <h2 class=\"block-title pup_blank_h2\">&nbsp;</h2>\n",
      "    \n",
      "\n",
      "      \n",
      "      <div class=\"field field--name-field-mega-menu-item field--type-entity-reference-revisions field--label-hidden field--items\">\n",
      "              <div class=\"field--item\">  <div class=\"paragraph paragraph--type--pup-mega-menu-item paragraph--view-mode--default\">\n",
      "          \n",
      "            <div class=\"field field--name-field-pup-callout-link field--type-link field--label-hidden field--item\"><a href=\"/forms-pubs/about-form-w-4\">Form W-4</a></div>\n",
      "      \n",
      "            <div class=\"field field--name-field-pup-text-plain-long field--type-string-long field--label-hidden field--item\">Employee&#039;s Withholding Allowance Certificate</div>\n",
      "      \n",
      "      </div>\n",
      "</div>\n",
      "              <div class=\"field--item\">  <div class=\"paragraph paragraph--type--pup-mega-menu-item paragraph--view-mode--default\">\n",
      "          \n",
      "            <div class=\"field field--name-field-pup-callout-link field--type-link field--label-hidden field--item\"><a href=\"/node/15749\">Form 941</a></div>\n",
      "      \n",
      "            <div class=\"field field--name-field-pup-text-plain-long field--type-string-long field--label-hidden field--item\">Employer&#039;s Quarterly Federal Tax Return</div>\n",
      "      \n",
      "      </div>\n",
      "</div>\n",
      "              <div class=\"field--item\">  <div class=\"paragraph paragraph--type--pup-mega-menu-item paragraph--view-mode--default\">\n",
      "          \n",
      "            <div class=\"field field--name-field-pup-callout-link field--type-link field--label-hidden field--item\"><a href=\"/forms-pubs/about-form-w-2\">Form W-2</a></div>\n",
      "      \n",
      "            <div class=\"field field--name-field-pup-text-plain-long field--type-string-long field--label-hidden field--item\">Employers engaged in a trade or business who pay compensation</div>\n",
      "      \n",
      "      </div>\n",
      "</div>\n",
      "              <div class=\"field--item\">  <div class=\"paragraph paragraph--type--pup-mega-menu-item paragraph--view-mode--default\">\n",
      "          \n",
      "            <div class=\"field field--name-field-pup-callout-link field--type-link field--label-hidden field--item\"><a href=\"/forms-pubs/about-form-9465\">Form 9465</a></div>\n",
      "      \n",
      "            <div class=\"field field--name-field-pup-text-plain-long field--type-string-long field--label-hidden field--item\">Installment Agreement Request</div>\n",
      "      \n",
      "      </div>\n",
      "</div>\n",
      "          </div>\n",
      "  \n",
      "  </section>\n",
      "</div></div>\n",
      "\n",
      "</div>\n",
      "<div  class=\"we-mega-menu-col span4\" data-element-type=\"we-mega-menu-col\" data-width=\"4\" data-block=\"forminstructionspopularfortaxpros\" data-blocktitle=\"0\" data-hidewhencollapse=\"\" data-class=\"\">\n",
      "    <div class=\"type-of-block\"><div class=\"block-inner\">\n",
      "<section id=\"block-forminstructionspopularfortaxpros\" data-block-plugin-id=\"block_content:4aa8f867-4ec5-498c-90dc-edf236457bf0\" class=\"pup-mega-menu-item\">\n",
      "  \n",
      "      <h2 class=\"block-title\">\n",
      "            <div class=\"field field--name-field-pup-column-label field--type-string field--label-hidden field--item\">Popular For Tax Pros</div>\n",
      "      </h2>\n",
      "    \n",
      "\n",
      "      \n",
      "      <div class=\"field field--name-field-mega-menu-item field--type-entity-reference-revisions field--label-hidden field--items\">\n",
      "              <div class=\"field--item\">  <div class=\"paragraph paragraph--type--pup-mega-menu-item paragraph--view-mode--default\">\n",
      "          \n",
      "            <div class=\"field field--name-field-pup-callout-link field--type-link field--label-hidden field--item\"><a href=\"/forms-pubs/about-form-1040x\">Form 1040-X</a></div>\n",
      "      \n",
      "            <div class=\"field field--name-field-pup-text-plain-long field--type-string-long field--label-hidden field--item\">Amend/Fix Return</div>\n",
      "      \n",
      "      </div>\n",
      "</div>\n",
      "              <div class=\"field--item\">  <div class=\"paragraph paragraph--type--pup-mega-menu-item paragraph--view-mode--default\">\n",
      "          \n",
      "            <div class=\"field field--name-field-pup-callout-link field--type-link field--label-hidden field--item\"><a href=\"/forms-pubs/about-form-2848\">Form 2848</a></div>\n",
      "      \n",
      "            <div class=\"field field--name-field-pup-text-plain-long field--type-string-long field--label-hidden field--item\">Apply for Power of Attorney</div>\n",
      "      \n",
      "      </div>\n",
      "</div>\n",
      "              <div class=\"field--item\">  <div class=\"paragraph paragraph--type--pup-mega-menu-item paragraph--view-mode--default\">\n",
      "          \n",
      "            <div class=\"field field--name-field-pup-callout-link field--type-link field--label-hidden field--item\"><a href=\"/forms-pubs/about-form-w-7\">Form W-7</a></div>\n",
      "      \n",
      "            <div class=\"field field--name-field-pup-text-plain-long field--type-string-long field--label-hidden field--item\">Apply for an ITIN</div>\n",
      "      \n",
      "      </div>\n",
      "</div>\n",
      "              <div class=\"field--item\">  <div class=\"paragraph paragraph--type--pup-mega-menu-item paragraph--view-mode--default\">\n",
      "          \n",
      "            <div class=\"field field--name-field-pup-callout-link field--type-link field--label-hidden field--item\"><a href=\"/pub/irs-pdf/pcir230.pdf\">Circular 230</a></div>\n",
      "      \n",
      "            <div class=\"field field--name-field-pup-text-plain-long field--type-string-long field--label-hidden field--item\">Rules Governing Practice before IRS</div>\n",
      "      \n",
      "      </div>\n",
      "</div>\n",
      "          </div>\n",
      "  \n",
      "  </section>\n",
      "</div></div>\n",
      "\n",
      "</div>\n",
      "\n",
      "</div>\n",
      "\n",
      "  </div>\n",
      "</div>\n",
      "\n",
      "</li>\n",
      "\n",
      "</ul>\n",
      "\t  </div>\n",
      "\t</nav>\n",
      "</div>\n",
      "\n",
      "  </section>\n",
      "\n",
      "\n",
      "  </div>\n",
      "\n",
      "          </div>\n",
      "      </div>\n",
      "    \n",
      "          <div id=\"pup-info-menu-collapse\"  class=\"pup-header-content-rt col-xs-12 hidden-md hidden-lg collapse no-gutter\">\n",
      "          <div class=\"region region-info-menu-collapsible\">\n",
      "    <nav role=\"navigation\" aria-labelledby=\"block-pup-irs-informationmenu-menu\" id=\"block-pup-irs-informationmenu\" data-block-plugin-id=\"system_menu_block:pup-info-menu\">\n",
      "            \n",
      "  <h2 class=\"visually-hidden\" id=\"block-pup-irs-informationmenu-menu\">Information Menu</h2>\n",
      "  \n",
      "\n",
      "        \n",
      "              <ul block=\"pup_irs_informationmenu\" class=\"menu nav\">\n",
      "                            <li>\n",
      "        <a href=\"/help/telephone-assistance\" target=\"\" title=\"Help\" data-drupal-link-system-path=\"node/16916\">Help</a>\n",
      "                  </li>\n",
      "                        <li>\n",
      "        <a href=\"/newsroom\" target=\"\" data-drupal-link-system-path=\"node/19646\">News</a>\n",
      "                  </li>\n",
      "                        <li class=\"expanded dropdown\">\n",
      "        <a href=\"\" class=\"dropdown-toggle\" data-toggle=\"dropdown\" aria-haspopup=\"true\" aria-expanded=\"false\">Language <span class=\"caret\"></span></a>\n",
      "                                  <ul block=\"pup_irs_informationmenu\" class=\"menu dropdown-menu\">\n",
      "                            <li>\n",
      "        <a href=\"https://www.irs.gov\" target=\"\" title=\"\" lang=\"en\" xml:lang=\"en\">English</a>\n",
      "                  </li>\n",
      "                        <li>\n",
      "        <a href=\"https://www.irs.gov/es/spanish\" target=\"\" title=\"\" lang=\"es\" xml:lang=\"es\">Español</a>\n",
      "                  </li>\n",
      "                        <li>\n",
      "        <a href=\"https://www.irs.gov/zh-hant/chinese\" target=\"\" title=\"\" lang=\"zh-hant\" xml:lang=\"zh-hant\">中文</a>\n",
      "                  </li>\n",
      "                        <li>\n",
      "        <a href=\"https://www.irs.gov/ko/korean\" target=\"\" title=\"\" lang=\"ko\" xml:lang=\"ko\">한국어</a>\n",
      "                  </li>\n",
      "                        <li>\n",
      "        <a href=\"https://www.irs.gov/ru/russian\" target=\"\" title=\"\" lang=\"ru\" xml:lang=\"ru\">Русский</a>\n",
      "                  </li>\n",
      "                        <li>\n",
      "        <a href=\"https://www.irs.gov/vi/vietnamese\" target=\"\" title=\"\" lang=\"vi\" xml:lang=\"vi\">Tiếng Việt</a>\n",
      "                  </li>\n",
      "        </ul>\n",
      "  \n",
      "            </li>\n",
      "                        <li>\n",
      "        <a href=\"/charities-and-nonprofits\" class=\"pup-info-menu-button\" target=\"\" title=\"\" lang=\"\" xml:lang=\"\" data-drupal-link-system-path=\"node/58461\">Charities &amp; Nonprofits</a>\n",
      "                  </li>\n",
      "                        <li>\n",
      "        <a href=\"/tax-professionals\" class=\"pup-info-menu-button\" target=\"\" title=\"\" lang=\"\" xml:lang=\"\" data-drupal-link-system-path=\"node/11\">Tax Pros</a>\n",
      "                  </li>\n",
      "        </ul>\n",
      "  \n",
      "\n",
      "\n",
      "  </nav>\n",
      "\n",
      "  </div>\n",
      "\n",
      "      </div>\n",
      "    \n",
      "          <div id=\"pup-header-nav-collapse\"  class=\"pup-header-content-rt col-xs-12 hidden-md hidden-lg collapse no-gutter\">\n",
      "          <div class=\"region region-header-nav-collapsible\">\n",
      "    <nav role=\"navigation\" aria-labelledby=\"block-pup-irs-mainnavigation-menu\" id=\"block-pup-irs-mainnavigation\" data-block-plugin-id=\"system_menu_block:main\">\n",
      "            <h2 class=\"sr-only\" id=\"block-pup-irs-mainnavigation-menu\">Main navigation</h2>\n",
      "\n",
      "      \n",
      "        <ul block=\"pup_irs_mainnavigation\" class=\"menu nav navbar-nav\">\n",
      "                                          <li>\n",
      "            <a href=\"/filing\" class=\"top-level-nav-item\">File</a>\n",
      "                            </li>\n",
      "                                      <li>\n",
      "            <a href=\"/payments\" class=\"top-level-nav-item\">Pay</a>\n",
      "                            </li>\n",
      "                                      <li>\n",
      "            <a href=\"/refunds\" class=\"top-level-nav-item\">Refunds</a>\n",
      "                            </li>\n",
      "                                      <li>\n",
      "            <a href=\"/credits-deductions-for-individuals\" class=\"top-level-nav-item\">Credits &amp; Deductions</a>\n",
      "                            </li>\n",
      "                                      <li>\n",
      "            <a href=\"/forms-instructions\" class=\"top-level-nav-item\">Forms &amp; Instructions</a>\n",
      "                            </li>\n",
      "        </ul>\n",
      "        \n",
      "\n",
      "\n",
      "\n",
      "  </nav>\n",
      "<nav role=\"navigation\" aria-labelledby=\"block-pup-irs-infomenumobile-menu\" id=\"block-pup-irs-infomenumobile\" data-block-plugin-id=\"system_menu_block:info-menu-mobile\">\n",
      "            \n",
      "  <h2 class=\"visually-hidden\" id=\"block-pup-irs-infomenumobile-menu\">Info Menu Mobile</h2>\n",
      "  \n",
      "\n",
      "        \n",
      "              <ul block=\"pup_irs_infomenumobile\" class=\"menu nav\">\n",
      "                            <li>\n",
      "        <a href=\"/help/telephone-assistance\" target=\"\" title=\"Help\" data-drupal-link-system-path=\"node/16916\">Help</a>\n",
      "                  </li>\n",
      "                        <li>\n",
      "        <a href=\"/newsroom\" target=\"\" title=\"News\" data-drupal-link-system-path=\"node/19646\">News</a>\n",
      "                  </li>\n",
      "                        <li class=\"expanded dropdown\">\n",
      "        <a href=\"\" class=\"dropdown-toggle\" data-toggle=\"dropdown\" aria-haspopup=\"true\" aria-expanded=\"false\">Language <span class=\"caret\"></span></a>\n",
      "                                  <ul block=\"pup_irs_infomenumobile\" class=\"menu dropdown-menu\">\n",
      "                            <li>\n",
      "        <a href=\"https://www.irs.gov\" target=\"\" title=\"English\" lang=\"en\" xml:lang=\"en\">English</a>\n",
      "                  </li>\n",
      "                        <li>\n",
      "        <a href=\"https://www.irs.gov/es/spanish\" target=\"\" title=\"Spanish\" lang=\"es\" xml:lang=\"es\">Español</a>\n",
      "                  </li>\n",
      "                        <li>\n",
      "        <a href=\"https://www.irs.gov/zh-hant/chinese\" target=\"\" title=\"Chinese\" lang=\"zh-hant\" xml:lang=\"zh-hant\">中文</a>\n",
      "                  </li>\n",
      "                        <li>\n",
      "        <a href=\"https://www.irs.gov/ko/korean\" target=\"\" title=\"Korean\" lang=\"ko\" xml:lang=\"ko\">한국어</a>\n",
      "                  </li>\n",
      "                        <li>\n",
      "        <a href=\"https://www.irs.gov/ru/russian\" target=\"\" title=\"Russian\" lang=\"ru\" xml:lang=\"ru\">Русский</a>\n",
      "                  </li>\n",
      "                        <li>\n",
      "        <a href=\"https://www.irs.gov/vi/vietnamese\" target=\"\" title=\"Vietnamese\" lang=\"vi\" xml:lang=\"vi\">Tiếng Việt</a>\n",
      "                  </li>\n",
      "        </ul>\n",
      "  \n",
      "            </li>\n",
      "                        <li>\n",
      "        <a href=\"/charities-and-nonprofits\" target=\"\" title=\"\" lang=\"\" xml:lang=\"\" data-drupal-link-system-path=\"node/58461\">Charities &amp; Nonprofits</a>\n",
      "                  </li>\n",
      "                        <li>\n",
      "        <a href=\"/tax-professionals\" target=\"\" title=\"Tax Pros\" lang=\"\" xml:lang=\"\" data-drupal-link-system-path=\"node/11\">Tax Pros</a>\n",
      "                  </li>\n",
      "        </ul>\n",
      "  \n",
      "\n",
      "\n",
      "  </nav>\n",
      "\n",
      "  </div>\n",
      "\n",
      "      </div>\n",
      "    \n",
      "   </header>\n",
      "\n",
      "<div class=\"pup-page-node-type-article-page__banner\">\n",
      "  <div class=\"container\">\n",
      "    <div class=\"row\">\n",
      "      <div class=\"col-md-12\">\n",
      "                            <div class=\"region region-breadcrumbs\">\n",
      "        <nav aria-label=\"Breadcrumbs\">\n",
      "    <ol class=\"breadcrumb\">\n",
      "              <li lang=en xml:lang=en >\n",
      "                      <a href=\"/\" lang=en xml:lang=en >Home</a>\n",
      "                  </li>\n",
      "              <li lang=en xml:lang=en >\n",
      "                      <a href=\"/about-irs\" lang=en xml:lang=en >Our Agency</a>\n",
      "                  </li>\n",
      "              <li lang=en xml:lang=en >\n",
      "                      <a href=\"/statistics\" lang=en xml:lang=en >Tax Statistics</a>\n",
      "                  </li>\n",
      "              <li lang=en xml:lang=en >\n",
      "                      <a href=\"/statistics/soi-tax-stats-products-publications-and-papers\" lang=en xml:lang=en >Products and Publications</a>\n",
      "                  </li>\n",
      "              <li  class=\"active\">\n",
      "                      SOI Tax Stats Individual Income Tax Statistics ZIP Code Data (SOI)\n",
      "                  </li>\n",
      "          </ol>\n",
      "  </nav>\n",
      "\n",
      "\n",
      "  </div>\n",
      "\n",
      "                          <h1 class=\"pup-page-node-type-article-page__title\">SOI Tax Stats - Individual Income Tax Statistics - ZIP Code Data (SOI)</h1>\n",
      "              </div>\n",
      "    </div>\n",
      "  </div>\n",
      "</div>\n",
      "<div class=\"container\">\n",
      "  <div class=\"row\">\n",
      "          <div class=\"col-sm-12\">\n",
      "          <div class=\"region region-language-switcher\">\n",
      "    <section class=\"language-switcher-language-url block block-pup-language-switcher block-pup-language-switcherlanguage-interface clearfix\" id=\"block-pup-irs-languageswitchercontent\" data-block-plugin-id=\"pup_language_switcher:language_interface\">\n",
      "  \n",
      "    \n",
      "\n",
      "        <ul class=\"list-inline pull-right links\" block=\"pup_irs_languageswitchercontent\"><li hreflang=\"en\" data-drupal-link-system-path=\"node/102\" class=\"en is-active\"><a href=\"/statistics/soi-tax-stats-individual-income-tax-statistics-zip-code-data-soi\" class=\"language-link is-active\" lang=\"en\" xml:lang=\"en\" hreflang=\"en\" data-drupal-link-system-path=\"node/102\">English</a></li></ul>\n",
      "  \n",
      "\n",
      "  </section>\n",
      "\n",
      "\n",
      "  </div>\n",
      "\n",
      "      </div>\n",
      "      </div>\n",
      "</div>\n",
      "\n",
      "<div class=\"pup-main-container container\">\n",
      "  <div class=\"row\">\n",
      "\n",
      "                    <div class=\"sidebar-left col-sm-12 col-md-3 col-lg-3\">\n",
      "          <div class=\"region region-sidebar-first\">\n",
      "    <section id=\"block-pup-irs-puphierarchicaltaxonomymenu\" data-block-plugin-id=\"pup_hierarchical_taxonomy_menu\" class=\"block block-pup-hierarchical-taxonomy-menu clearfix\">\n",
      "  \n",
      "    \n",
      "\n",
      "      \n",
      "\n",
      "\n",
      "              <div class=\"pup-second-nav-header\">\n",
      "        <h3 class=\"pup-second-nav-heading\">More In Our Agency</h3>\n",
      "\t\t<button id=\"pup-snav\" class=\"pup-second-nav-btn hidden-md hidden-lg\" role=\"button\" aria-label=\"Expand Menu\" aria-haspopup=\"true\" aria-expanded=\"false\" type=\"button\">\n",
      "          <i class=\"fa fa-plus\"></i>\n",
      "        </button>\n",
      "      </div>\n",
      "      <ul class=\"menu nav pup-second-nav\">\n",
      "              <li class=\"level-2\" data-indent-level=\"2\">\n",
      "        <a href=\"/individuals/irs-tax-volunteers\" title=\"Volunteer\" id=\"term-18841\" rel=\"child\" lang=\"en\" xml:lang=\"en\" hreflang=\"en\">Volunteer</a>\n",
      "              </li>\n",
      "          <li class=\"level-2 is-active-trail is-active-parent\" data-indent-level=\"2\">\n",
      "        <a href=\"/statistics\" title=\"Tax Statistics\" id=\"term-18801\" rel=\"parent\" lang=\"en\" xml:lang=\"en\" hreflang=\"en\">Tax Statistics</a>\n",
      "                                <ul class=\"inner\">\n",
      "              <li class=\"level-3\" data-indent-level=\"3\">\n",
      "        <a href=\"/statistics/irs-taxpayer-compliance-research\" title=\"Taxpayer Compliance\" id=\"term-18836\" rel=\"child\" lang=\"en\" xml:lang=\"en\" hreflang=\"en\">Taxpayer Compliance</a>\n",
      "              </li>\n",
      "          <li class=\"level-3 is-active\" data-indent-level=\"3\">\n",
      "        <a href=\"/statistics/soi-tax-stats-products-publications-and-papers\" title=\"Products and Publications\" id=\"term-18831\" rel=\"parent\" lang=\"en\" xml:lang=\"en\" hreflang=\"en\">Products and Publications</a>\n",
      "              </li>\n",
      "          <li class=\"level-3\" data-indent-level=\"3\">\n",
      "        <a href=\"/statistics/soi-tax-stats-individual-tax-statistics\" title=\"Individual Tax\" id=\"term-18826\" rel=\"child\" lang=\"en\" xml:lang=\"en\" hreflang=\"en\">Individual Tax</a>\n",
      "              </li>\n",
      "          <li class=\"level-3\" data-indent-level=\"3\">\n",
      "        <a href=\"/statistics/soi-tax-stats-business-tax-statistics\" title=\"Business Tax\" id=\"term-18806\" rel=\"child\" lang=\"en\" xml:lang=\"en\" hreflang=\"en\">Business Tax</a>\n",
      "              </li>\n",
      "          <li class=\"level-3\" data-indent-level=\"3\">\n",
      "        <a href=\"/statistics/soi-tax-stats-statistics-by-form\" title=\"By Form\" id=\"term-18811\" rel=\"child\" lang=\"en\" xml:lang=\"en\" hreflang=\"en\">By Form</a>\n",
      "              </li>\n",
      "          <li class=\"level-3\" data-indent-level=\"3\">\n",
      "        <a href=\"/statistics/soi-tax-stats-charitable-and-exempt-organizations-statistics\" title=\"Charitable\" id=\"term-18816\" rel=\"child\" lang=\"en\" xml:lang=\"en\" hreflang=\"en\">Charitable</a>\n",
      "              </li>\n",
      "          <li class=\"level-3\" data-indent-level=\"3\">\n",
      "        <a href=\"/statistics/soi-tax-stats-estate-gift-and-trust-statistics\" title=\"Estate and Gift\" id=\"term-18821\" rel=\"child\" lang=\"en\" xml:lang=\"en\" hreflang=\"en\">Estate and Gift</a>\n",
      "              </li>\n",
      "          <li class=\"level-3\" data-indent-level=\"3\">\n",
      "        <a href=\"/statistics/soi-tax-stats-irs-data-book\" title=\"IRS Data Book\" id=\"term-24786\" rel=\"child\" lang=\"en\" xml:lang=\"en\" hreflang=\"en\">IRS Data Book</a>\n",
      "              </li>\n",
      "        </ul>\n",
      "  \n",
      "              </li>\n",
      "          <li class=\"level-2\" data-indent-level=\"2\">\n",
      "        <a href=\"/about-irs/procurement\" title=\"Procurement\" id=\"term-18776\" rel=\"child\" lang=\"en\" xml:lang=\"en\" hreflang=\"en\">Procurement</a>\n",
      "              </li>\n",
      "          <li class=\"level-2\" data-indent-level=\"2\">\n",
      "        <a href=\"/privacy-disclosure/irs-privacy-policy\" title=\"Privacy Policy\" id=\"term-18756\" rel=\"child\" lang=\"en\" xml:lang=\"en\" hreflang=\"en\">Privacy Policy</a>\n",
      "              </li>\n",
      "          <li class=\"level-2\" data-indent-level=\"2\">\n",
      "        <a href=\"/privacy-disclosure/irs-freedom-of-information\" title=\"Freedom of Information Act\" id=\"term-18751\" rel=\"child\" lang=\"en\" xml:lang=\"en\" hreflang=\"en\">Freedom of Information Act</a>\n",
      "              </li>\n",
      "          <li class=\"level-2\" data-indent-level=\"2\">\n",
      "        <a href=\"/about-irs/your-civil-rights-are-protected\" title=\"Civil Rights\" id=\"term-18726\" rel=\"child\" lang=\"en\" xml:lang=\"en\" hreflang=\"en\">Civil Rights</a>\n",
      "              </li>\n",
      "          <li class=\"level-2\" data-indent-level=\"2\">\n",
      "        <a href=\"/compliance/criminal-investigation/identity-theft-criminal-investigation\" title=\"Criminal Investigation\" id=\"term-18731\" rel=\"child\" lang=\"en\" xml:lang=\"en\" hreflang=\"en\">Criminal Investigation</a>\n",
      "              </li>\n",
      "        </ul>\n",
      "  \n",
      "\n",
      "\n",
      "  </section>\n",
      "\n",
      "\n",
      "  </div>\n",
      "\n",
      "    </div>\n",
      "    \n",
      "        \n",
      "    <div  class=\"pup-header-content-rt no-gutter col-sm-12 col-md-9\">\n",
      "      <a id=\"main-content\"></a>\n",
      "    \n",
      "                    <div class=\"region region-content\">\n",
      "    <div data-drupal-messages-fallback class=\"hidden\"></div>  \n",
      "\n",
      "\n",
      "<article role=\"article\" about=\"/statistics/soi-tax-stats-individual-income-tax-statistics-zip-code-data-soi\" class=\"pup-article full clearfix row\">\n",
      "\n",
      "  \n",
      "    \n",
      "\n",
      "  \n",
      "            <div class=\"col-md-12 col-sm-12 col-xs-12\">\n",
      "        \n",
      "            <div class=\"field field--name-body field--type-text-with-summary field--label-hidden field--item\"><h2>Individual Income Tax ZIP Code Data</h2>\n",
      "\n",
      "<p>ZIP Code data show selected income and tax items classified by State, ZIP Code, and size of adjusted gross income. Data are based on individual income tax returns filed with the IRS and are available for Tax Years 1998, 2001, and 2004 through 2016. The data include items, such as:</p>\n",
      "\n",
      "<ul><li>Number of returns, which approximates the number of households</li>\n",
      "\t<li>Number of personal exemptions, which approximates the population</li>\n",
      "\t<li>Adjusted gross income </li>\n",
      "\t<li>Wages and salaries</li>\n",
      "\t<li>Dividends before exclusion</li>\n",
      "\t<li>Interest received  </li>\n",
      "</ul><p>ZIP Code data for years 1998, 2001, and 2004 through 2016 are available as single Zip files containing all State Excel files. The files are compressed using the WinZip utility and must be downloaded and extracted before viewing or loading into any application. A <a data-entity-substitution=\"pup_linkit_media\" data-entity-type=\"media\" data-entity-uuid=\"1d8c39a3-3248-490a-9630-9b1d2101f032\" href=\"http://www.winzip.com/\" title=\"WinZip Link\">free WinZip utility</a> is available, if needed.</p>\n",
      "\n",
      "<hr /><p><b>ZIP Code Data</b></p>\n",
      "\n",
      "<p><a data-entity-substitution=\"canonical\" data-entity-type=\"node\" data-entity-uuid=\"1f4a6d72-4ac0-485d-b5e8-ffd759972151\" href=\"/statistics/soi-tax-stats-individual-income-tax-statistics-2011-zip-code-data-soi\" title=\"SOI Tax Stats Individual Income Tax Statistics 2011 ZIP Code Data (SOI)\"><b>2011</b></a><b>  <a data-entity-substitution=\"canonical\" data-entity-type=\"node\" data-entity-uuid=\"facf6ff3-2fb7-4905-b2a8-146691359a7e\" href=\"/statistics/soi-tax-stats-individual-income-tax-statistics-2012-zip-code-data-soi\" title=\"SOI Tax Stats Individual Income Tax Statistics 2012 ZIP Code Data (SOI)\">2012</a>  <a data-entity-substitution=\"canonical\" data-entity-type=\"node\" data-entity-uuid=\"47a02797-555e-4ca9-a378-6a811863d9ad\" href=\"/statistics/soi-tax-stats-individual-income-tax-statistics-2013-zip-code-data-soi\" title=\"SOI Tax Stats Individual Income Tax Statistics 2013 ZIP Code Data SOI\">2013</a>  <a data-entity-substitution=\"canonical\" data-entity-type=\"node\" data-entity-uuid=\"16b285f2-a502-4f28-97fe-709b15ae4854\" href=\"/statistics/soi-tax-stats-individual-income-tax-statistics-2014-zip-code-data-soi\" title=\"SOI Tax Stats Individual Income Tax Statistics 2014 ZIP Code Data SOI\">2014</a>  <a data-entity-substitution=\"canonical\" data-entity-type=\"node\" data-entity-uuid=\"444deefc-0f87-4010-bdd0-b49f6667ffcc\" href=\"/statistics/soi-tax-stats-individual-income-tax-statistics-2015-zip-code-data-soi\" title=\"SOI Tax Stats Individual Income Tax Statistics 2015 ZIP Code Data SOI \">2015</a>  <a data-entity-substitution=\"canonical\" data-entity-type=\"node\" data-entity-uuid=\"341a0f4f-e636-4327-8c6f-0890cd201f1f\" href=\"/statistics/soi-tax-stats-individual-income-tax-statistics-2016-zip-code-data-soi\" title=\"SOI Tax Stats - Individual Income Tax Statistics - 2016 ZIP Code Data (SOI)\">2016</a></b></p>\n",
      "\n",
      "<p><b>ZIP Code Data 1998–2010</b></p>\n",
      "\n",
      "<p><a data-entity-substitution=\"pup_linkit_media\" data-entity-type=\"media\" data-entity-uuid=\"ea6aec5f-4467-4336-8614-7d4835d3d0e4\" href=\"https://www.irs.gov/pub/irs-soi/1998zipcode.zip\" title=\"1998zipcode.zip\">1998</a>  <a data-entity-substitution=\"pup_linkit_media\" data-entity-type=\"media\" data-entity-uuid=\"5d7989e2-c9d1-4f4e-bc07-ed8554abad06\" href=\"https://www.irs.gov/pub/irs-soi/2001zipcode.zip\" title=\"2001zipcode.zip\">2001</a>  <a data-entity-substitution=\"pup_linkit_media\" data-entity-type=\"media\" data-entity-uuid=\"7c05be6c-63a0-4b42-8645-35f2d7ed2890\" href=\"https://www.irs.gov/pub/irs-soi/2002zipcode.zip\" title=\"2002zipcode.zip\">2002</a>  <a data-entity-substitution=\"pup_linkit_media\" data-entity-type=\"media\" data-entity-uuid=\"e8e8a62d-e3f9-4129-a8f7-039498adcd61\" href=\"https://www.irs.gov/pub/irs-soi/2004zipcode.zip\" title=\"2004zipcode.zip\">2004</a>  <a data-entity-substitution=\"pup_linkit_media\" data-entity-type=\"media\" data-entity-uuid=\"ca9a4da0-2b70-44c7-8feb-6cd7741be9ec\" href=\"https://www.irs.gov/pub/irs-soi/2005zipcode.zip\" title=\"2005zipcode.zip\">2005</a>  <a data-entity-substitution=\"pup_linkit_media\" data-entity-type=\"media\" data-entity-uuid=\"407708cd-c885-44b6-a357-919f898b75c3\" href=\"https://www.irs.gov/pub/irs-soi/2006zipcode.zip\" title=\"2006zipcode.zip\">2006</a>  <a data-entity-substitution=\"pup_linkit_media\" data-entity-type=\"media\" data-entity-uuid=\"d81e5043-f8dc-4de6-b79e-010de56f8363\" href=\"https://www.irs.gov/pub/irs-soi/2007zipcode.zip\" title=\"2007zipcode.zip\">2007</a>  <a data-entity-substitution=\"pup_linkit_media\" data-entity-type=\"media\" data-entity-uuid=\"7c2d8d0a-c92a-4de9-8fcf-b8270c0ff6bb\" href=\"https://www.irs.gov/pub/irs-soi/2008zipcode.zip\" title=\"2008zipcode.zip\">2008</a>  <a data-entity-substitution=\"pup_linkit_media\" data-entity-type=\"media\" data-entity-uuid=\"d6b21686-9427-48d6-af0d-d301654a15d6\" href=\"https://www.irs.gov/pub/irs-soi/2009zipcode.zip\" title=\"2009zipcode.zip\">2009</a>  <a data-entity-substitution=\"pup_linkit_media\" data-entity-type=\"media\" data-entity-uuid=\"437f5238-e146-41e9-aad3-5741e4882acc\" href=\"https://www.irs.gov/pub/irs-soi/2010zipcode.zip\" title=\"2010zipcode.zip\">2010</a></p>\n",
      "\n",
      "<p>Follow these steps to extract files for the entire year (all States) or for an individual State.</p>\n",
      "\n",
      "<p><b>To extract an entire year (all States) using WinZip:</b></p>\n",
      "\n",
      "<ol><li>Double click the Zip file to open the WinZip utility.</li>\n",
      "\t<li>Click and drag the folder to your desktop.</li>\n",
      "</ol><p style=\"margin-left: 80px;\">OR</p>\n",
      "\n",
      "<ol><li>Double click the Zip file to open the WinZip utility (NOTE: SecureZIP users should follow the following steps).</li>\n",
      "\t<li>Click the ‘Extract’ button. Ensure that the radio button, ‘All Files in Archive Selected’, is selected.</li>\n",
      "\t<li>Select a destination folder.</li>\n",
      "\t<li>Click the ‘Extract’ button.</li>\n",
      "</ol><p><b>To extract an individual State using WinZip:</b></p>\n",
      "\n",
      "<ol><li>Double click the Zip file to open the WinZip utility.</li>\n",
      "\t<li>Double click the folder.</li>\n",
      "\t<li>Click and drag the desired Excel file(s) to your desktop.</li>\n",
      "</ol><p style=\"margin-left: 80px;\">OR</p>\n",
      "\n",
      "<ol><li>Double click the Zip file to open the WinZip utility (NOTE: SecureZIP users should follow the following steps).</li>\n",
      "\t<li>Highlight the desired Excel file(s).</li>\n",
      "\t<li>Click the ‘Extract’ button. Ensure that radio button, ‘Selected Files/Folder’, is selected.</li>\n",
      "\t<li>Select a destination folder.</li>\n",
      "\t<li>Click the ‘Extract’ button.</li>\n",
      "</ol></div>\n",
      "      \n",
      "      </div>\n",
      "      \n",
      "</article>\n",
      "\n",
      "\n",
      "  </div>\n",
      "\n",
      "          </div>\n",
      "\n",
      "    \n",
      "      </div>\n",
      "</div>\n",
      "\n",
      "<div class=\"container\">\n",
      "    <div class=\"pup-bodycopy-footer\">\n",
      "      <div class='pup-content-revision col-xs-12 col-sm-6'>\n",
      "                Page Last Reviewed or Updated: 24-Sep-2019\n",
      "      </div>\n",
      "            <div class='pup-share-menu col-xs-12 col-sm-6'>  <div class=\"region region-share-content\">\n",
      "    <section id=\"block-pup-irs-addtoanybuttons\" data-block-plugin-id=\"addtoany_block\" class=\"block block-addtoany block-addtoany-block clearfix\">\n",
      "  \n",
      "    \n",
      "\n",
      "      <span class=\"a2a_kit a2a_kit_size_24 addtoany_list\" data-a2a-url=\"https://www.irs.gov/statistics/soi-tax-stats-individual-income-tax-statistics-zip-code-data-soi\" data-a2a-title=\"SOI Tax Stats Individual Income Tax Statistics ZIP Code Data (SOI)\"><div class=\"pup-share-items\"><ul class=\"nav navbar-nav navbar-right\"><li class=\"dropdown\"><a href=\"#\" class=\"dropdown-toggle pup-share-link\" data-toggle=\"dropdown\" role=\"button\" aria-haspopup=\"true\" aria-expanded=\"false\">Share</a><ul class=\"dropdown-menu\"><li><a class=\"a2a_button_facebook pup-social-title\">&nbsp;Facebook</a></li><li><a class=\"a2a_button_twitter pup-social-title\">&nbsp;Twitter</a></li><li><a class=\"a2a_button_linkedin pup-social-title\">&nbsp;Linkedin</a></li><li role=\"separator\" class=\"divider\"></li></ul></li><li><button class=\"pup-print\" type=\"button\" onclick=\"javascript:print(); ga('send', 'event', 'Print Button', 'Print', 'Print Page');\">Print</button></li></ul></div></span>\n",
      "  </section>\n",
      "\n",
      "\n",
      "  </div>\n",
      "</div>\n",
      "          </div>\n",
      "</div>\n",
      "  <footer class=\"pup-footer\" role=\"footer-navigation\">\n",
      "    <section class=\"container\" role=\"tablist\" aria-multiselectable=\"true\">\n",
      "                  <div class=\"row pup-footer-head\">\n",
      "            <div class=\"pup-footer-logo col-md-6\">\n",
      "              <a href=\"/\"><img class=\"pup-footer-logo-img\" src=\"/themes/custom/pup_base/images/irs_horiz-01.svg\" alt=\"Home\"></a>\n",
      "            </div>\n",
      "            <div class=\"col-md-6\">\n",
      "              <div class=\"pup-footer-social-media-links\">\n",
      "\t\t\t\t\t\t\t    <div class=\"region region-social-media-footer pull-right\">\n",
      "    <section id=\"block-socialmediaforfooter\" data-block-plugin-id=\"block_content:40b0cf2e-cb49-4f62-888d-000cf00eb582\" class=\"block block-block-content block-block-content40b0cf2e-cb49-4f62-888d-000cf00eb582 clearfix\">\n",
      "  \n",
      "    \n",
      "\n",
      "        <div class=\"row\">\n",
      "          <div class=\"social-icon\">  <div class=\"paragraph paragraph--type--social-media-footer paragraph--view-mode--default\">\n",
      "    \t\t          <a href=\"https://www.facebook.com/IRS\" aria-label=\"fa-facebook-square\"> \n",
      "\t\t\t\t  <i aria-hidden class=\"fa fa-facebook-square\"></i>\n",
      "\t\t\t  </a>\n",
      "\t\t        </div>\n",
      "</div>\n",
      "          <div class=\"social-icon\">  <div class=\"paragraph paragraph--type--social-media-footer paragraph--view-mode--default\">\n",
      "    \t\t          <a href=\"https://www.twitter.com/IRSnews\" aria-label=\"fa-twitter-square\"> \n",
      "\t\t\t\t  <i aria-hidden class=\"fa fa-twitter-square\"></i>\n",
      "\t\t\t  </a>\n",
      "\t\t        </div>\n",
      "</div>\n",
      "          <div class=\"social-icon\">  <div class=\"paragraph paragraph--type--social-media-footer paragraph--view-mode--default\">\n",
      "    \t\t          <a href=\"https://www.instagram.com/irsnews\" aria-label=\"fa-instagram\"> \n",
      "\t\t\t\t  <i aria-hidden class=\"fa fa-instagram\"></i>\n",
      "\t\t\t  </a>\n",
      "\t\t        </div>\n",
      "</div>\n",
      "          <div class=\"social-icon\">  <div class=\"paragraph paragraph--type--social-media-footer paragraph--view-mode--default\">\n",
      "    \t\t          <a href=\"https://www.linkedin.com/company/irs\" aria-label=\"fa-linkedin\"> \n",
      "\t\t\t\t  <i aria-hidden class=\"fa fa-linkedin\"></i>\n",
      "\t\t\t  </a>\n",
      "\t\t        </div>\n",
      "</div>\n",
      "          <div class=\"social-icon\">  <div class=\"paragraph paragraph--type--social-media-footer paragraph--view-mode--default\">\n",
      "    \t\t          <a href=\"https://www.youtube.com/user/irsvideos\" aria-label=\"fa-youtube-play\"> \n",
      "\t\t\t\t  <i aria-hidden class=\"fa fa-youtube-play\"></i>\n",
      "\t\t\t  </a>\n",
      "\t\t        </div>\n",
      "</div>\n",
      "          <div class=\"social-icon\">  <div class=\"paragraph paragraph--type--social-media-footer paragraph--view-mode--default\">\n",
      "    \t\t  \t\t\t  <a href=\"/newsroom/irs2goapp\" class=\"social-media-image\">\n",
      "\t\t\t\t  \n",
      "            <div class=\"field field--name-field-social-media-icon-images field--type-image field--label-hidden field--item\">  <img width=\"\" height=\"\" src=\"/pub/irs_horiz_logo%20%281%29.svg\" alt=\"IRS Eagle\" typeof=\"foaf:Image\" class=\"img-responsive\" />\n",
      "\n",
      "</div>\n",
      "      \n",
      "\t\t\t\t</a>\n",
      "\t          </div>\n",
      "</div>\n",
      "      </div>\n",
      "\n",
      "  </section>\n",
      "\n",
      "\n",
      "  </div>\n",
      "\n",
      "              </div>\n",
      "            </div>\n",
      "          </div>\n",
      "          <div class=\"row pup-footer-cols\">\n",
      "            <div class=\"col-sm-footer\">  <div class=\"region region-footer-first\">\n",
      "    <nav role=\"navigation\" aria-labelledby=\"block-pup-irs-ouragency-menu\" id=\"block-pup-irs-ouragency\" data-block-plugin-id=\"system_menu_block:our-agency\">\n",
      "      \n",
      "  <h2 id=\"block-pup-irs-ouragency-menu\">Our Agency</h2>\n",
      "  \n",
      "\n",
      "        \n",
      "              <ul block=\"pup_irs_ouragency\" class=\"menu nav\">\n",
      "                            <li>\n",
      "        <a href=\"/about-irs\" target=\"\" data-drupal-link-system-path=\"node/18841\">About IRS</a>\n",
      "                  </li>\n",
      "                        <li>\n",
      "        <a href=\"https://jobs.irs.gov/\">Work at IRS</a>\n",
      "                  </li>\n",
      "                        <li>\n",
      "        <a href=\"/help/telephone-assistance\" target=\"\" data-drupal-link-system-path=\"node/16916\">Help</a>\n",
      "                  </li>\n",
      "                        <li>\n",
      "        <a href=\"/help/contact-your-local-irs-office\" target=\"\" data-drupal-link-system-path=\"node/16903\">Contact Your Local Office</a>\n",
      "                  </li>\n",
      "                        <li>\n",
      "        <a href=\"/statistics\" target=\"\" data-drupal-link-system-path=\"node/19746\">Tax Stats, Facts &amp; Figures</a>\n",
      "                  </li>\n",
      "        </ul>\n",
      "  \n",
      "\n",
      "\n",
      "  </nav>\n",
      "\n",
      "  </div>\n",
      "</div>\n",
      "            <div class=\"col-sm-footer\">  <div class=\"region region-footer-second\">\n",
      "    <nav role=\"navigation\" aria-labelledby=\"block-pup-irs-knowyourrights-menu\" id=\"block-pup-irs-knowyourrights\" data-block-plugin-id=\"system_menu_block:know-your-rights\">\n",
      "      \n",
      "  <h2 id=\"block-pup-irs-knowyourrights-menu\">Know Your Rights</h2>\n",
      "  \n",
      "\n",
      "        \n",
      "              <ul block=\"pup_irs_knowyourrights\" class=\"menu nav\">\n",
      "                            <li>\n",
      "        <a href=\"/taxpayer-bill-of-rights\" target=\"\" data-drupal-link-system-path=\"node/19686\">Taxpayer Bill of Rights</a>\n",
      "                  </li>\n",
      "                        <li>\n",
      "        <a href=\"/taxpayer-advocate\" target=\"\" data-drupal-link-system-path=\"node/18846\">Taxpayer Advocate Service</a>\n",
      "                  </li>\n",
      "                        <li>\n",
      "        <a href=\"/help/irsgov-accessibility\" target=\"\" data-drupal-link-system-path=\"node/18665\">Accessibility</a>\n",
      "                  </li>\n",
      "                        <li>\n",
      "        <a href=\"/about-irs/your-civil-rights-are-protected\" target=\"\" data-drupal-link-system-path=\"node/15736\">Civil Rights </a>\n",
      "                  </li>\n",
      "                        <li>\n",
      "        <a href=\"/privacy-disclosure/irs-freedom-of-information\" target=\"\" data-drupal-link-system-path=\"node/10662\">Freedom of Information Act</a>\n",
      "                  </li>\n",
      "                        <li>\n",
      "        <a href=\"https://home.treasury.gov/footer/no-fear-act\">No Fear Act</a>\n",
      "                  </li>\n",
      "                        <li>\n",
      "        <a href=\"/privacy-disclosure/irs-privacy-policy\" target=\"\" data-drupal-link-system-path=\"node/15856\">Privacy Policy</a>\n",
      "                  </li>\n",
      "        </ul>\n",
      "  \n",
      "\n",
      "\n",
      "  </nav>\n",
      "\n",
      "  </div>\n",
      "</div>\n",
      "            <div class=\"col-sm-footer\">  <div class=\"region region-footer-third\">\n",
      "    <nav role=\"navigation\" aria-labelledby=\"block-pup-irs-resolveanissue-menu\" id=\"block-pup-irs-resolveanissue\" data-block-plugin-id=\"system_menu_block:resolve-an-issue\">\n",
      "      \n",
      "  <h2 id=\"block-pup-irs-resolveanissue-menu\">Resolve an Issue</h2>\n",
      "  \n",
      "\n",
      "        \n",
      "              <ul block=\"pup_irs_resolveanissue\" class=\"menu nav\">\n",
      "                            <li>\n",
      "        <a href=\"/individuals/understanding-your-irs-notice-or-letter\" target=\"\" data-drupal-link-system-path=\"node/16683\">Respond to a Notice</a>\n",
      "                  </li>\n",
      "                        <li>\n",
      "        <a href=\"/appeals\" data-drupal-link-system-path=\"node/19036\">Independent Office of Appeals</a>\n",
      "                  </li>\n",
      "                        <li>\n",
      "        <a href=\"/identity-theft-fraud-scams\" target=\"\" title=\"\" lang=\"\" xml:lang=\"\" data-drupal-link-system-path=\"node/19616\">Identity Theft Protection</a>\n",
      "                  </li>\n",
      "                        <li>\n",
      "        <a href=\"/privacy-disclosure/report-phishing\" target=\"\" data-drupal-link-system-path=\"node/15745\">Report Phishing</a>\n",
      "                  </li>\n",
      "                        <li>\n",
      "        <a href=\"/compliance/criminal-investigation/tax-fraud-alerts\" target=\"\" data-drupal-link-system-path=\"node/15416\">Tax Fraud &amp; Abuse </a>\n",
      "                  </li>\n",
      "        </ul>\n",
      "  \n",
      "\n",
      "\n",
      "  </nav>\n",
      "\n",
      "  </div>\n",
      "</div>\n",
      "            <div class=\"col-sm-footer\">  <div class=\"region region-footer-fourth\">\n",
      "    <nav role=\"navigation\" aria-labelledby=\"block-pup-irs-otherlanguages-menu\" id=\"block-pup-irs-otherlanguages\" data-block-plugin-id=\"system_menu_block:other-languages\">\n",
      "      \n",
      "  <h2 id=\"block-pup-irs-otherlanguages-menu\">Other Languages</h2>\n",
      "  \n",
      "\n",
      "        \n",
      "              <ul block=\"pup_irs_otherlanguages\" class=\"menu nav\">\n",
      "                            <li>\n",
      "        <a href=\"https://www.irs.gov/es/spanish\" target=\"\" title=\"\" lang=\"es\" xml:lang=\"es\">Español</a>\n",
      "                  </li>\n",
      "                        <li>\n",
      "        <a href=\"https://www.irs.gov/zh-hant/chinese\" target=\"\" title=\"\" lang=\"zh-hant\" xml:lang=\"zh-hant\">中文</a>\n",
      "                  </li>\n",
      "                        <li>\n",
      "        <a href=\"https://www.irs.gov/ko/korean\" target=\"\" title=\"\" lang=\"ko\" xml:lang=\"ko\">한국어</a>\n",
      "                  </li>\n",
      "                        <li>\n",
      "        <a href=\"https://www.irs.gov/ru/russian\" target=\"\" title=\"\" lang=\"ru\" xml:lang=\"ru\">Pусский</a>\n",
      "                  </li>\n",
      "                        <li>\n",
      "        <a href=\"https://www.irs.gov/vi/vietnamese\" target=\"\" title=\"\" lang=\"vi\" xml:lang=\"vi\">Tiếng Việt</a>\n",
      "                  </li>\n",
      "        </ul>\n",
      "  \n",
      "\n",
      "\n",
      "  </nav>\n",
      "\n",
      "  </div>\n",
      "</div>\n",
      "            <div class=\"col-sm-footer\">  <div class=\"region region-footer-fifth\">\n",
      "    <nav role=\"navigation\" aria-labelledby=\"block-pup-irs-relatedsites-menu\" id=\"block-pup-irs-relatedsites\" data-block-plugin-id=\"system_menu_block:related-sites\">\n",
      "      \n",
      "  <h2 id=\"block-pup-irs-relatedsites-menu\">Related Sites</h2>\n",
      "  \n",
      "\n",
      "        \n",
      "              <ul block=\"pup_irs_relatedsites\" class=\"menu nav\">\n",
      "                            <li>\n",
      "        <a href=\"https://www.treasury.gov/Pages/default.aspx\">U.S. Treasury</a>\n",
      "                  </li>\n",
      "                        <li>\n",
      "        <a href=\"https://www.treasury.gov/tigta/\">Treasury Inspector General for Tax Administration</a>\n",
      "                  </li>\n",
      "                        <li>\n",
      "        <a href=\"https://www.usa.gov/\">USA.gov</a>\n",
      "                  </li>\n",
      "        </ul>\n",
      "  \n",
      "\n",
      "\n",
      "  </nav>\n",
      "\n",
      "  </div>\n",
      "</div>\n",
      "          </div>\n",
      "            </section>\n",
      "  </footer>\n",
      "<!-- Start GA AutoTracker Code -->\n",
      "<script src='/static_assets/js/libs/jquery.min.js' type='text/javascript'></script>\n",
      "<script type='text/javascript' src='/static_assets/js/reporting/autotracker.js'></script>\n",
      "<script type='text/javascript'>addLinkerEvents();</script> <!--End AutoTracker Code -->\n",
      "<!--412017-->\n",
      "\n",
      "  </div>\n",
      "\n",
      "    \n",
      "    <script type=\"application/json\" data-drupal-selector=\"drupal-settings-json\">{\"path\":{\"baseUrl\":\"\\/\",\"scriptPath\":null,\"pathPrefix\":\"\",\"currentPath\":\"node\\/102\",\"currentPathIsAdmin\":false,\"isFront\":false,\"currentLanguage\":\"en\"},\"pluralDelimiter\":\"\\u0003\",\"dataLayer\":{\"defaultLang\":\"en\",\"languages\":{\"en\":{\"id\":\"en\",\"name\":\"English\",\"direction\":\"ltr\",\"weight\":-10},\"es\":{\"id\":\"es\",\"name\":\"Spanish\",\"direction\":\"ltr\",\"weight\":-9},\"zh-hans\":{\"id\":\"zh-hans\",\"name\":\"Chinese, Simplified\",\"direction\":\"ltr\",\"weight\":-8},\"zh-hant\":{\"id\":\"zh-hant\",\"name\":\"Chinese, Traditional\",\"direction\":\"ltr\",\"weight\":-7},\"ko\":{\"id\":\"ko\",\"name\":\"Korean\",\"direction\":\"ltr\",\"weight\":-6},\"ru\":{\"id\":\"ru\",\"name\":\"Russian\",\"direction\":\"ltr\",\"weight\":-5},\"vi\":{\"id\":\"vi\",\"name\":\"Vietnamese\",\"direction\":\"ltr\",\"weight\":-4},\"ht\":{\"id\":\"ht\",\"name\":\"Haitian Creole\",\"direction\":\"ltr\",\"weight\":-3}}},\"bootstrap\":{\"forms_has_error_value_toggle\":1,\"modal_animation\":1,\"modal_backdrop\":\"true\",\"modal_focus_input\":1,\"modal_keyboard\":1,\"modal_select_text\":1,\"modal_show\":1,\"modal_size\":\"\",\"popover_enabled\":1,\"popover_animation\":1,\"popover_auto_close\":1,\"popover_container\":\"body\",\"popover_content\":\"\",\"popover_delay\":\"0\",\"popover_html\":0,\"popover_placement\":\"right\",\"popover_selector\":\"\",\"popover_title\":\"\",\"popover_trigger\":\"click\",\"tooltip_enabled\":1,\"tooltip_animation\":1,\"tooltip_container\":\"body\",\"tooltip_delay\":\"0\",\"tooltip_html\":0,\"tooltip_placement\":\"auto left\",\"tooltip_selector\":\"\",\"tooltip_trigger\":\"hover\"},\"ajaxTrustedUrl\":{\"\\/site-index-search\":true},\"chosen\":{\"selector\":\"select:visible\",\"minimum_single\":20,\"minimum_multiple\":20,\"minimum_width\":200,\"use_relative_width\":false,\"options\":{\"disable_search\":false,\"disable_search_threshold\":0,\"allow_single_deselect\":false,\"search_contains\":true,\"placeholder_text_multiple\":\"Choose some option\",\"placeholder_text_single\":\"Choose an option\",\"no_results_text\":\"No results match\",\"max_shown_results\":null,\"inherit_select_classes\":true}},\"ajax\":[],\"user\":{\"uid\":0,\"permissionsHash\":\"039fb4a434ae1d29283c2e31079424b809e38ca1a3e491007bbcedeaf11a13d5\"}}</script>\n",
      "<script src=\"/pub/js/js_8NOdCA8pCNRYZgBTuyniXst9j0Sl8ZjduZEscEqgSww.js\"></script>\n",
      "<script src=\"https://static.addtoany.com/menu/page.js\" async></script>\n",
      "<script src=\"/pub/js/js_kIsWxoqlMGr9NC_rfZ8L3XEFXkrmCvn3OHJt05wKnHE.js\"></script>\n",
      "\n",
      "  <script type=\"text/javascript\">window.NREUM||(NREUM={});NREUM.info={\"beacon\":\"bam.nr-data.net\",\"licenseKey\":\"b67fc6a152\",\"applicationID\":\"70700070\",\"transactionName\":\"blMHY0AHDUcDUEZQWFcZJFRGDwxaTUNTXlJmVQRUWgM=\",\"queueTime\":0,\"applicationTime\":36,\"atts\":\"QhQEFQgdHkk=\",\"errorBeacon\":\"bam.nr-data.net\",\"agent\":\"\"}</script></body>\n",
      "</html>\n"
     ]
    }
   ],
   "source": [
    "%%bash\n",
    "\n",
    "wget -q -O - https://www.irs.gov/statistics/soi-tax-stats-individual-income-tax-statistics-zip-code-data-soi \\\n",
    "#     | grep 'zipcode.zip' \\\n",
    "#     | sed 's/<a data/\\n<a data/g' \\\n",
    "#     | grep -Po '(?<=href=\")[^\"]*(?=\")'"
   ]
  },
  {
   "cell_type": "markdown",
   "metadata": {
    "slideshow": {
     "slide_type": "slide"
    }
   },
   "source": [
    "## Shell and Jupyter Notebook\n",
    "\n",
    "Shell and Jupyter can interact with each other by passing values back and forth: e.g."
   ]
  },
  {
   "cell_type": "markdown",
   "metadata": {
    "slideshow": {
     "slide_type": "fragment"
    }
   },
   "source": [
    "1. In shell, grab a webpage, extract all links, filter file links that end with `zipcode.zip`.  \n",
    "    Then, pass the file links as python variable: `files`"
   ]
  },
  {
   "cell_type": "markdown",
   "metadata": {
    "slideshow": {
     "slide_type": "fragment"
    }
   },
   "source": [
    "1. In python, loop through the file links.  \n",
    "    In each iteration, pass one file name, `f`, back to shell."
   ]
  },
  {
   "cell_type": "markdown",
   "metadata": {
    "slideshow": {
     "slide_type": "fragment"
    }
   },
   "source": [
    "1. In shell, download the file at the link using `wget`"
   ]
  },
  {
   "cell_type": "code",
   "execution_count": 13,
   "metadata": {
    "slideshow": {
     "slide_type": "slide"
    }
   },
   "outputs": [
    {
     "data": {
      "text/plain": [
       "['https://www.irs.gov/pub/irs-soi/1998zipcode.zip',\n",
       " 'https://www.irs.gov/pub/irs-soi/2001zipcode.zip',\n",
       " 'https://www.irs.gov/pub/irs-soi/2002zipcode.zip',\n",
       " 'https://www.irs.gov/pub/irs-soi/2004zipcode.zip',\n",
       " 'https://www.irs.gov/pub/irs-soi/2005zipcode.zip',\n",
       " 'https://www.irs.gov/pub/irs-soi/2006zipcode.zip',\n",
       " 'https://www.irs.gov/pub/irs-soi/2007zipcode.zip',\n",
       " 'https://www.irs.gov/pub/irs-soi/2008zipcode.zip',\n",
       " 'https://www.irs.gov/pub/irs-soi/2009zipcode.zip',\n",
       " 'https://www.irs.gov/pub/irs-soi/2010zipcode.zip']"
      ]
     },
     "execution_count": 13,
     "metadata": {},
     "output_type": "execute_result"
    }
   ],
   "source": [
    "files = !wget -q -O - https://www.irs.gov/statistics/soi-tax-stats-individual-income-tax-statistics-zip-code-data-soi | grep 'zipcode.zip' | sed 's/<a data/\\n<a data/g' | grep -Po '(?<=href=\")[^\"]*(?=\")'\n",
    "files  ## file names from bash is in python variable!"
   ]
  },
  {
   "cell_type": "code",
   "execution_count": 14,
   "metadata": {
    "slideshow": {
     "slide_type": "fragment"
    }
   },
   "outputs": [
    {
     "name": "stdout",
     "output_type": "stream",
     "text": [
      "File ‘1998zipcode.zip’ already there; not retrieving.\n",
      "\n",
      "File ‘2001zipcode.zip’ already there; not retrieving.\n",
      "\n",
      "File ‘2002zipcode.zip’ already there; not retrieving.\n",
      "\n"
     ]
    }
   ],
   "source": [
    "for f in files[:3]:\n",
    "    ! wget -nc {f}        ## pass python variables into shell!"
   ]
  },
  {
   "cell_type": "markdown",
   "metadata": {
    "slideshow": {
     "slide_type": "slide"
    }
   },
   "source": [
    "## GET method and APIs\n",
    "\n",
    "### GET method\n",
    "\n",
    "- URLs often use [GET method](https://www.w3schools.com/tags/ref_httpmethods.asp)"
   ]
  },
  {
   "cell_type": "markdown",
   "metadata": {
    "slideshow": {
     "slide_type": "fragment"
    }
   },
   "source": [
    "- GET method passes parameters using the URL: e.g.  \n",
    "    https://www.google.com/search?q=hello+there  \n",
    "    https://www.google.com/search?q=hello+there&tbm=isch"
   ]
  },
  {
   "cell_type": "markdown",
   "metadata": {
    "slideshow": {
     "slide_type": "fragment"
    }
   },
   "source": [
    "- \"[Urls Explained](https://www.freeformatter.com/url-parser-query-string-splitter.html#urls-explained)\" dissects standard components of URLs ([online URL parser](https://www.freeformatter.com/url-parser-query-string-splitter.html)) "
   ]
  },
  {
   "cell_type": "markdown",
   "metadata": {
    "slideshow": {
     "slide_type": "subslide"
    }
   },
   "source": [
    "### Application Programming Interface (API)\n",
    "\n",
    "> a set of functions and procedures allowing the creation of applications that access the features or data of an operating system, application, or other service."
   ]
  },
  {
   "cell_type": "markdown",
   "metadata": {
    "slideshow": {
     "slide_type": "fragment"
    }
   },
   "source": [
    "- GET URLs are commonly used form of API"
   ]
  },
  {
   "cell_type": "markdown",
   "metadata": {
    "slideshow": {
     "slide_type": "fragment"
    }
   },
   "source": [
    "- In API context, an **endpoint** is a [URL path](https://www.freeformatter.com/url-parser-query-string-splitter.html#urls-explained) that process your request"
   ]
  },
  {
   "cell_type": "markdown",
   "metadata": {
    "slideshow": {
     "slide_type": "fragment"
    }
   },
   "source": [
    "- **Query string** is used to specify the request: e.g. search term and type"
   ]
  },
  {
   "cell_type": "markdown",
   "metadata": {
    "slideshow": {
     "slide_type": "subslide"
    }
   },
   "source": [
    "### Example: Google Maps\n",
    "\n",
    "- Web services often have documentation for developers:  \n",
    "    [Google Maps Developer Documentation](https://developers.google.com/maps/documentation/urls/guide#forming-the-url)"
   ]
  },
  {
   "cell_type": "markdown",
   "metadata": {
    "slideshow": {
     "slide_type": "fragment"
    }
   },
   "source": [
    "- Demo: [Display a map](https://developers.google.com/maps/documentation/urls/guide#map-action):  \n",
    "    e.g. https://www.google.com/maps/@?api=1&map_action=map&basemap=terrain&layer=bicycling"
   ]
  },
  {
   "cell_type": "markdown",
   "metadata": {
    "slideshow": {
     "slide_type": "fragment"
    }
   },
   "source": [
    "- Demo: [Searching Google Maps](https://developers.google.com/maps/documentation/urls/guide#forming-the-search-url):  \n",
    "    e.g. https://www.google.com/maps/search/?api=1&query=home+depot"
   ]
  },
  {
   "cell_type": "markdown",
   "metadata": {
    "slideshow": {
     "slide_type": "subslide"
    }
   },
   "source": [
    "### Example: Film Locations in San Francisco\n",
    "\n",
    "> _... listing of filming locations of movies shot in San Francisco starting from 1924 ..._\n",
    "\n",
    "- [Dataset Metadata](https://data.sfgov.org/Culture-and-Recreation/Film-Locations-in-San-Francisco/yitu-d5am)"
   ]
  },
  {
   "cell_type": "markdown",
   "metadata": {
    "slideshow": {
     "slide_type": "fragment"
    }
   },
   "source": [
    "- [API documentation](https://dev.socrata.com/foundry/data.sfgov.org/yitu-d5am)\n",
    "\n",
    "- [Simple Filters](https://dev.socrata.com/docs/filtering.html): selection criteria\n",
    "\n",
    "- [Paging through Data](https://dev.socrata.com/docs/paging.html#2.1): paging through returned data"
   ]
  },
  {
   "cell_type": "code",
   "execution_count": 15,
   "metadata": {
    "slideshow": {
     "slide_type": "subslide"
    }
   },
   "outputs": [
    {
     "name": "stdout",
     "output_type": "stream",
     "text": [
      "[{\"title\":\"Red Widow\",\"release_year\":\"2013\",\"locations\":\"York & 24th St.\",\"production_company\":\"Beyond Pix\",\"distributor\":\"American Broadcasting Company (ABC)\",\"director\":\"Alon Aranya\",\"writer\":\"Melissa Rosenberg\",\"actor_1\":\"Radha Mitchell\",\"actor_2\":\"Sterling Beaumon\",\"actor_3\":\"Clifton Collins Jr.\"}\n",
      ",{\"title\":\"Red Widow\",\"release_year\":\"2013\",\"locations\":\"2nd St & Howard\",\"production_company\":\"Beyond Pix\",\"distributor\":\"American Broadcasting Company (ABC)\",\"director\":\"Alon Aranya\",\"writer\":\"Melissa Rosenberg\",\"actor_1\":\"Radha Mitchell\",\"actor_2\":\"Sterling Beaumon\",\"actor_3\":\"Clifton Collins Jr.\"}\n",
      ",{\"title\":\"Red Widow\",\"release_year\":\"2013\",\"locations\":\"Montgomery & Market Streets\",\"production_company\":\"Beyond Pix\",\"distributor\":\"American Broadcasting Company (ABC)\",\"director\":\"Alon Aranya\",\"writer\":\"Melissa Rosenberg\",\"actor_1\":\"Radha Mitchell\",\"actor_2\":\"Sterling Beaumon\",\"actor_3\":\"Clifton Collins Jr.\"}\n",
      ",{\"title\":\"Red Widow\",\"release_year\":\"2013\",\"locations\":\"Broadway & Taylor\",\"production_company\":\"Beyond Pix\",\"distributor\":\"American Broadcasting Company (ABC)\",\"director\":\"Alon Aranya\",\"writer\":\"Melissa Rosenberg\",\"actor_1\":\"Radha Mitchell\",\"actor_2\":\"Sterling Beaumon\",\"actor_3\":\"Clifton Collins Jr.\"}\n",
      ",{\"title\":\"Red Widow\",\"release_year\":\"2013\",\"locations\":\"Mason & Sacramento St\",\"production_company\":\"Beyond Pix\",\"distributor\":\"American Broadcasting Company (ABC)\",\"director\":\"Alon Aranya\",\"writer\":\"Melissa Rosenberg\",\"actor_1\":\"Radha Mitchell\",\"actor_2\":\"Sterling Beaumon\",\"actor_3\":\"Clifton Collins Jr.\"}\n",
      ",{\"title\":\"Red Widow\",\"release_year\":\"2013\",\"locations\":\"Geary & 27th Ave\",\"production_company\":\"Beyond Pix\",\"distributor\":\"American Broadcasting Company (ABC)\",\"director\":\"Alon Aranya\",\"writer\":\"Melissa Rosenberg\",\"actor_1\":\"Radha Mitchell\",\"actor_2\":\"Sterling Beaumon\",\"actor_3\":\"Clifton Collins Jr.\"}\n",
      ",{\"title\":\"Red Widow\",\"release_year\":\"2013\",\"locations\":\"Geary & 20th Ave\",\"production_company\":\"Beyond Pix\",\"distributor\":\"American Broadcasting Company (ABC)\",\"director\":\"Alon Aranya\",\"writer\":\"Melissa Rosenberg\",\"actor_1\":\"Radha Mitchell\",\"actor_2\":\"Sterling Beaumon\",\"actor_3\":\"Clifton Collins Jr.\"}\n",
      ",{\"title\":\"Red Widow\",\"release_year\":\"2013\",\"locations\":\"Pioneer Park at Coit Tower\",\"production_company\":\"Beyond Pix\",\"distributor\":\"American Broadcasting Company (ABC)\",\"director\":\"Alon Aranya\",\"writer\":\"Melissa Rosenberg\",\"actor_1\":\"Radha Mitchell\",\"actor_2\":\"Sterling Beaumon\",\"actor_3\":\"Clifton Collins Jr.\"}\n",
      ",{\"title\":\"Red Widow\",\"release_year\":\"2013\",\"locations\":\"Vallejo Street Garage\",\"production_company\":\"Beyond Pix\",\"distributor\":\"American Broadcasting Company (ABC)\",\"director\":\"Alon Aranya\",\"writer\":\"Melissa Rosenberg\",\"actor_1\":\"Radha Mitchell\",\"actor_2\":\"Sterling Beaumon\",\"actor_3\":\"Clifton Collins Jr.\"}\n",
      ",{\"title\":\"Red Widow\",\"release_year\":\"2013\",\"locations\":\"California & Davis St\",\"production_company\":\"Beyond Pix\",\"distributor\":\"American Broadcasting Company (ABC)\",\"director\":\"Alon Aranya\",\"writer\":\"Melissa Rosenberg\",\"actor_1\":\"Radha Mitchell\",\"actor_2\":\"Sterling Beaumon\",\"actor_3\":\"Clifton Collins Jr.\"}\n",
      ",{\"title\":\"Red Widow\",\"release_year\":\"2013\",\"locations\":\"Golden Gate Ave & Jones\",\"production_company\":\"Beyond Pix\",\"distributor\":\"American Broadcasting Company (ABC)\",\"director\":\"Alon Aranya\",\"writer\":\"Melissa Rosenberg\",\"actor_1\":\"Radha Mitchell\",\"actor_2\":\"Sterling Beaumon\",\"actor_3\":\"Clifton Collins Jr.\"}\n",
      ",{\"title\":\"Red Widow\",\"release_year\":\"2013\",\"locations\":\"York & 24th St.\",\"production_company\":\"Beyond Pix\",\"distributor\":\"American Broadcasting Company (ABC)\",\"director\":\"Alon Aranya\",\"writer\":\"Melissa Rosenberg\",\"actor_1\":\"Radha Mitchell\",\"actor_2\":\"Sterling Beaumon\",\"actor_3\":\"Clifton Collins Jr.\"}\n",
      ",{\"title\":\"Red Widow\",\"release_year\":\"2013\",\"locations\":\"Broadway & Taylor\",\"production_company\":\"Beyond Pix\",\"distributor\":\"American Broadcasting Company (ABC)\",\"director\":\"Alon Aranya\",\"writer\":\"Melissa Rosenberg\",\"actor_1\":\"Radha Mitchell\",\"actor_2\":\"Sterling Beaumon\",\"actor_3\":\"Clifton Collins Jr.\"}\n",
      ",{\"title\":\"Red Widow\",\"release_year\":\"2013\",\"locations\":\"Geary & 20th Ave\",\"production_company\":\"Beyond Pix\",\"distributor\":\"American Broadcasting Company (ABC)\",\"director\":\"Alon Aranya\",\"writer\":\"Melissa Rosenberg\",\"actor_1\":\"Radha Mitchell\",\"actor_2\":\"Sterling Beaumon\",\"actor_3\":\"Clifton Collins Jr.\"}\n",
      ",{\"title\":\"Red Widow\",\"release_year\":\"2013\",\"locations\":\"Vallejo Street Garage\",\"production_company\":\"Beyond Pix\",\"distributor\":\"American Broadcasting Company (ABC)\",\"director\":\"Alon Aranya\",\"writer\":\"Melissa Rosenberg\",\"actor_1\":\"Radha Mitchell\",\"actor_2\":\"Sterling Beaumon\",\"actor_3\":\"Clifton Collins Jr.\"}\n",
      ",{\"title\":\"Red Widow\",\"release_year\":\"2013\",\"locations\":\"Pioneer Park at Coit Tower\",\"production_company\":\"Beyond Pix\",\"distributor\":\"American Broadcasting Company (ABC)\",\"director\":\"Alon Aranya\",\"writer\":\"Melissa Rosenberg\",\"actor_1\":\"Radha Mitchell\",\"actor_2\":\"Sterling Beaumon\",\"actor_3\":\"Clifton Collins Jr.\"}\n",
      ",{\"title\":\"Red Widow\",\"release_year\":\"2013\",\"locations\":\"Geary & 27th Ave\",\"production_company\":\"Beyond Pix\",\"distributor\":\"American Broadcasting Company (ABC)\",\"director\":\"Alon Aranya\",\"writer\":\"Melissa Rosenberg\",\"actor_1\":\"Radha Mitchell\",\"actor_2\":\"Sterling Beaumon\",\"actor_3\":\"Clifton Collins Jr.\"}\n",
      ",{\"title\":\"Red Widow\",\"release_year\":\"2013\",\"locations\":\"2nd St & Howard\",\"production_company\":\"Beyond Pix\",\"distributor\":\"American Broadcasting Company (ABC)\",\"director\":\"Alon Aranya\",\"writer\":\"Melissa Rosenberg\",\"actor_1\":\"Radha Mitchell\",\"actor_2\":\"Sterling Beaumon\",\"actor_3\":\"Clifton Collins Jr.\"}\n",
      ",{\"title\":\"Red Widow\",\"release_year\":\"2013\",\"locations\":\"Golden Gate Ave & Jones\",\"production_company\":\"Beyond Pix\",\"distributor\":\"American Broadcasting Company (ABC)\",\"director\":\"Alon Aranya\",\"writer\":\"Melissa Rosenberg\",\"actor_1\":\"Radha Mitchell\",\"actor_2\":\"Sterling Beaumon\",\"actor_3\":\"Clifton Collins Jr.\"}\n",
      ",{\"title\":\"Red Widow\",\"release_year\":\"2013\",\"locations\":\"Montgomery & Market Streets\",\"production_company\":\"Beyond Pix\",\"distributor\":\"American Broadcasting Company (ABC)\",\"director\":\"Alon Aranya\",\"writer\":\"Melissa Rosenberg\",\"actor_1\":\"Radha Mitchell\",\"actor_2\":\"Sterling Beaumon\",\"actor_3\":\"Clifton Collins Jr.\"}\n",
      ",{\"title\":\"Red Widow\",\"release_year\":\"2013\",\"locations\":\"Mason & Sacramento St\",\"production_company\":\"Beyond Pix\",\"distributor\":\"American Broadcasting Company (ABC)\",\"director\":\"Alon Aranya\",\"writer\":\"Melissa Rosenberg\",\"actor_1\":\"Radha Mitchell\",\"actor_2\":\"Sterling Beaumon\",\"actor_3\":\"Clifton Collins Jr.\"}\n",
      ",{\"title\":\"Red Widow\",\"release_year\":\"2013\",\"locations\":\"California & Davis St\",\"production_company\":\"Beyond Pix\",\"distributor\":\"American Broadcasting Company (ABC)\",\"director\":\"Alon Aranya\",\"writer\":\"Melissa Rosenberg\",\"actor_1\":\"Radha Mitchell\",\"actor_2\":\"Sterling Beaumon\",\"actor_3\":\"Clifton Collins Jr.\"}]\n"
     ]
    }
   ],
   "source": [
    "!wget -qO - \"https://data.sfgov.org/resource/yitu-d5am.json?release_year=2013&title=Red%20Widow\""
   ]
  },
  {
   "cell_type": "markdown",
   "metadata": {
    "slideshow": {
     "slide_type": "slide"
    }
   },
   "source": [
    "## Javascript Object Notation (JSON) format\n",
    "\n",
    "- One of the widely used standards in data formats"
   ]
  },
  {
   "cell_type": "markdown",
   "metadata": {
    "slideshow": {
     "slide_type": "fragment"
    }
   },
   "source": [
    "- Usually plain text file with python dictionary-like formatting:  \n",
    "    `{\"key\":\"value\"}`"
   ]
  },
  {
   "cell_type": "markdown",
   "metadata": {
    "slideshow": {
     "slide_type": "fragment"
    }
   },
   "source": [
    "- Can be nested:  \n",
    "    `{\"key0\":{\"key1\":\"value1\", \"key2\":\"value2\"}}`"
   ]
  },
  {
   "cell_type": "markdown",
   "metadata": {
    "slideshow": {
     "slide_type": "fragment"
    }
   },
   "source": [
    "- In fact, Jupyter notebooks are in json format."
   ]
  },
  {
   "cell_type": "code",
   "execution_count": 16,
   "metadata": {
    "slideshow": {
     "slide_type": "fragment"
    }
   },
   "outputs": [
    {
     "name": "stdout",
     "output_type": "stream",
     "text": [
      "{\n",
      " \"cells\": [\n",
      "  {\n",
      "   \"cell_type\": \"markdown\",\n",
      "   \"metadata\": {\n",
      "    \"slideshow\": {\n",
      "     \"slide_type\": \"slide\"\n",
      "    }\n",
      "   },\n",
      "   \"source\": [\n"
     ]
    }
   ],
   "source": [
    "! head 03-Command-Line-and-Data-collection.ipynb"
   ]
  },
  {
   "cell_type": "markdown",
   "metadata": {
    "slideshow": {
     "slide_type": "slide"
    }
   },
   "source": [
    "### Example: Parsing Film Locations in San Francisco\n",
    "\n",
    "- Raw JSON is in a string\n",
    "\n",
    "- Needs to be parsed to Python dictionary: i.e., keys and values.\n",
    "\n",
    "- Parse returned JSON formatted page with the `json` module"
   ]
  },
  {
   "cell_type": "code",
   "execution_count": 17,
   "metadata": {
    "slideshow": {
     "slide_type": "fragment"
    }
   },
   "outputs": [
    {
     "data": {
      "text/plain": [
       "{'title': 'Red Widow',\n",
       " 'release_year': '2013',\n",
       " 'locations': 'York & 24th St.',\n",
       " 'production_company': 'Beyond Pix',\n",
       " 'distributor': 'American Broadcasting Company (ABC)',\n",
       " 'director': 'Alon Aranya',\n",
       " 'writer': 'Melissa Rosenberg',\n",
       " 'actor_1': 'Radha Mitchell',\n",
       " 'actor_2': 'Sterling Beaumon',\n",
       " 'actor_3': 'Clifton Collins Jr.'}"
      ]
     },
     "execution_count": 17,
     "metadata": {},
     "output_type": "execute_result"
    }
   ],
   "source": [
    "import json\n",
    "json_str = !wget -qO - \"https://data.sfgov.org/resource/yitu-d5am.json?release_year=2013&title=Red%20Widow\"\n",
    "json_str = ''.join(json_str) # Remove line breaks from this json. Not all json files do\n",
    "data = json.loads(json_str)\n",
    "data[0] ## print first line"
   ]
  },
  {
   "cell_type": "markdown",
   "metadata": {
    "slideshow": {
     "slide_type": "subslide"
    }
   },
   "source": [
    "* `data` is now python dictionary\n",
    "\n",
    "* Dictionaries can be imported to pandas dataframe"
   ]
  },
  {
   "cell_type": "code",
   "execution_count": 18,
   "metadata": {
    "slideshow": {
     "slide_type": "fragment"
    }
   },
   "outputs": [
    {
     "data": {
      "text/html": [
       "<div>\n",
       "<style scoped>\n",
       "    .dataframe tbody tr th:only-of-type {\n",
       "        vertical-align: middle;\n",
       "    }\n",
       "\n",
       "    .dataframe tbody tr th {\n",
       "        vertical-align: top;\n",
       "    }\n",
       "\n",
       "    .dataframe thead th {\n",
       "        text-align: right;\n",
       "    }\n",
       "</style>\n",
       "<table border=\"1\" class=\"dataframe\">\n",
       "  <thead>\n",
       "    <tr style=\"text-align: right;\">\n",
       "      <th></th>\n",
       "      <th>title</th>\n",
       "      <th>release_year</th>\n",
       "      <th>locations</th>\n",
       "      <th>production_company</th>\n",
       "      <th>distributor</th>\n",
       "      <th>director</th>\n",
       "      <th>writer</th>\n",
       "      <th>actor_1</th>\n",
       "      <th>actor_2</th>\n",
       "      <th>actor_3</th>\n",
       "    </tr>\n",
       "  </thead>\n",
       "  <tbody>\n",
       "    <tr>\n",
       "      <td>0</td>\n",
       "      <td>Red Widow</td>\n",
       "      <td>2013</td>\n",
       "      <td>York &amp; 24th St.</td>\n",
       "      <td>Beyond Pix</td>\n",
       "      <td>American Broadcasting Company (ABC)</td>\n",
       "      <td>Alon Aranya</td>\n",
       "      <td>Melissa Rosenberg</td>\n",
       "      <td>Radha Mitchell</td>\n",
       "      <td>Sterling Beaumon</td>\n",
       "      <td>Clifton Collins Jr.</td>\n",
       "    </tr>\n",
       "    <tr>\n",
       "      <td>1</td>\n",
       "      <td>Red Widow</td>\n",
       "      <td>2013</td>\n",
       "      <td>2nd St &amp; Howard</td>\n",
       "      <td>Beyond Pix</td>\n",
       "      <td>American Broadcasting Company (ABC)</td>\n",
       "      <td>Alon Aranya</td>\n",
       "      <td>Melissa Rosenberg</td>\n",
       "      <td>Radha Mitchell</td>\n",
       "      <td>Sterling Beaumon</td>\n",
       "      <td>Clifton Collins Jr.</td>\n",
       "    </tr>\n",
       "    <tr>\n",
       "      <td>2</td>\n",
       "      <td>Red Widow</td>\n",
       "      <td>2013</td>\n",
       "      <td>Montgomery &amp; Market Streets</td>\n",
       "      <td>Beyond Pix</td>\n",
       "      <td>American Broadcasting Company (ABC)</td>\n",
       "      <td>Alon Aranya</td>\n",
       "      <td>Melissa Rosenberg</td>\n",
       "      <td>Radha Mitchell</td>\n",
       "      <td>Sterling Beaumon</td>\n",
       "      <td>Clifton Collins Jr.</td>\n",
       "    </tr>\n",
       "    <tr>\n",
       "      <td>3</td>\n",
       "      <td>Red Widow</td>\n",
       "      <td>2013</td>\n",
       "      <td>Broadway &amp; Taylor</td>\n",
       "      <td>Beyond Pix</td>\n",
       "      <td>American Broadcasting Company (ABC)</td>\n",
       "      <td>Alon Aranya</td>\n",
       "      <td>Melissa Rosenberg</td>\n",
       "      <td>Radha Mitchell</td>\n",
       "      <td>Sterling Beaumon</td>\n",
       "      <td>Clifton Collins Jr.</td>\n",
       "    </tr>\n",
       "    <tr>\n",
       "      <td>4</td>\n",
       "      <td>Red Widow</td>\n",
       "      <td>2013</td>\n",
       "      <td>Mason &amp; Sacramento St</td>\n",
       "      <td>Beyond Pix</td>\n",
       "      <td>American Broadcasting Company (ABC)</td>\n",
       "      <td>Alon Aranya</td>\n",
       "      <td>Melissa Rosenberg</td>\n",
       "      <td>Radha Mitchell</td>\n",
       "      <td>Sterling Beaumon</td>\n",
       "      <td>Clifton Collins Jr.</td>\n",
       "    </tr>\n",
       "  </tbody>\n",
       "</table>\n",
       "</div>"
      ],
      "text/plain": [
       "       title release_year                    locations production_company  \\\n",
       "0  Red Widow         2013              York & 24th St.         Beyond Pix   \n",
       "1  Red Widow         2013              2nd St & Howard         Beyond Pix   \n",
       "2  Red Widow         2013  Montgomery & Market Streets         Beyond Pix   \n",
       "3  Red Widow         2013            Broadway & Taylor         Beyond Pix   \n",
       "4  Red Widow         2013        Mason & Sacramento St         Beyond Pix   \n",
       "\n",
       "                           distributor     director             writer  \\\n",
       "0  American Broadcasting Company (ABC)  Alon Aranya  Melissa Rosenberg   \n",
       "1  American Broadcasting Company (ABC)  Alon Aranya  Melissa Rosenberg   \n",
       "2  American Broadcasting Company (ABC)  Alon Aranya  Melissa Rosenberg   \n",
       "3  American Broadcasting Company (ABC)  Alon Aranya  Melissa Rosenberg   \n",
       "4  American Broadcasting Company (ABC)  Alon Aranya  Melissa Rosenberg   \n",
       "\n",
       "          actor_1           actor_2              actor_3  \n",
       "0  Radha Mitchell  Sterling Beaumon  Clifton Collins Jr.  \n",
       "1  Radha Mitchell  Sterling Beaumon  Clifton Collins Jr.  \n",
       "2  Radha Mitchell  Sterling Beaumon  Clifton Collins Jr.  \n",
       "3  Radha Mitchell  Sterling Beaumon  Clifton Collins Jr.  \n",
       "4  Radha Mitchell  Sterling Beaumon  Clifton Collins Jr.  "
      ]
     },
     "execution_count": 18,
     "metadata": {},
     "output_type": "execute_result"
    }
   ],
   "source": [
    "import pandas as pd\n",
    "\n",
    "pd.DataFrame.from_dict(data).head()"
   ]
  }
 ],
 "metadata": {
  "celltoolbar": "Slideshow",
  "kernelspec": {
   "display_name": "Python 3",
   "language": "python",
   "name": "python3"
  },
  "language_info": {
   "codemirror_mode": {
    "name": "ipython",
    "version": 3
   },
   "file_extension": ".py",
   "mimetype": "text/x-python",
   "name": "python",
   "nbconvert_exporter": "python",
   "pygments_lexer": "ipython3",
   "version": "3.7.8"
  },
  "toc": {
   "base_numbering": 1,
   "nav_menu": {},
   "number_sections": false,
   "sideBar": true,
   "skip_h1_title": false,
   "title_cell": "Table of Contents",
   "title_sidebar": "Contents",
   "toc_cell": true,
   "toc_position": {},
   "toc_section_display": true,
   "toc_window_display": true
  }
 },
 "nbformat": 4,
 "nbformat_minor": 4
}
