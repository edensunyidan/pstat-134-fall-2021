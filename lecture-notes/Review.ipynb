{
 "cells": [
  {
   "cell_type": "markdown",
   "metadata": {},
   "source": [
    "# Final Review <a class='tocSkip'>\n",
    "***"
   ]
  },
  {
   "cell_type": "markdown",
   "metadata": {},
   "source": [
    "## Post Midterm\n",
    "***"
   ]
  },
  {
   "cell_type": "markdown",
   "metadata": {},
   "source": [
    "### Data and Matrices\n",
    "\n",
    "Notebooks\n",
    "\n",
    "* 05-Dimension-Reduction-and-Matrix-Factorization\n",
    "* 06-Movie-Recommendation-System\n",
    "* lab5\n",
    "* lab6\n",
    "* assignment2\n",
    "* assignment3\n",
    "\n",
    "Concepts\n",
    "\n",
    "* Linear combination and redundant information\n",
    "* Matrix factorization as different data representations (PCA, ICA, NMF, SVD)\n",
    "\n",
    "Examples: Movie recommendar system\n",
    "* Representation movie ratings product of movie and user attributes in latent factor space\n",
    "* Fill-in missing ratings to recommend movies\n",
    "* Choice of loss function (simple linear function, logistic function)\n",
    "* Calculating matrix factors with gradient descent\n",
    "* Organizing a system of linear equations into linear algebra operations"
   ]
  },
  {
   "cell_type": "markdown",
   "metadata": {},
   "source": [
    "### Command Line Interface and Data Scraping"
   ]
  },
  {
   "cell_type": "markdown",
   "metadata": {},
   "source": [
    "Notebooks\n",
    "    \n",
    "* 07-Command-Line-and-Data-collection.ipynb\n",
    "* lab7\n",
    "* lab9\n",
    "\n",
    "\n",
    "Command line concepts\n",
    "* http://swcarpentry.github.io/shell-novice/\n",
    "* Download files\n",
    "* Basic concepts of regular expression\n",
    "* Search and replace strings\n",
    "* Chain commands together\n",
    "\n",
    "Example: data scraping\n",
    "* Download HTML source of webpage\n",
    "* Extract data zip file URLs\n",
    "* Download data zip files\n",
    "* Load contents into Python\n",
    "* Convert to Pandas data frame\n",
    "\n",
    "GET URL and API concepts:\n",
    "* GET URL format passes variables to a web page\n",
    "* APIs are often GET URL formatted\n",
    "* Common data format is JSON\n",
    "* Read and parse JSON formatted data\n",
    "\n",
    "Exercise: Santa Barbara employment numbers\n",
    "* Data page: https://dev.socrata.com/foundry/data.edd.ca.gov/vduu-fnb7\n",
    "* Example call: https://data.edd.ca.gov/resource/vduu-fnb7.json?industry_title=Total%20Nonfarm&year=2019\n",
    "* Read into Python"
   ]
  },
  {
   "cell_type": "markdown",
   "metadata": {},
   "source": [
    "### Portfolio Allocation and Optimization\n",
    "\n",
    "Notebooks\n",
    "\n",
    "* 08-Optimizing-Stock-Portfolio-Allocatioin\n",
    "* lab5\n",
    "* lab8\n",
    "* assignment4\n",
    "\n",
    "Portfolio allocation concepts\n",
    "\n",
    "* What is the portfolio allocation problem solving?\n",
    "* What can you say about the mathematical property of the solution?\n",
    "* How does constraints change the problem? (e.g. target return)\n",
    "* An example of optimization\n",
    "\n",
    "Optimization concepts\n",
    "* Mathematical formulation of a real problem\n",
    "* Portfolio problem solves a quadratic objective function (sometimes called quadratic programming)\n",
    "* Resource allocation problem solves a linear objective function (sometimes called linear programming)\n",
    "* Constraints define qualification for valid solution\n",
    "* Objective function evaluates how good solutions are\n",
    "* Gradient descent iteratively improves a solution until convergence\n",
    "* E.g. line fits, latent factor representation, machine learning problems, matching, scheduling"
   ]
  },
  {
   "cell_type": "markdown",
   "metadata": {},
   "source": [
    "## Pre Midterm\n",
    "***"
   ]
  },
  {
   "cell_type": "markdown",
   "metadata": {},
   "source": [
    "### Data and simulation\n",
    "\n",
    "Notebooks\n",
    "\n",
    "* 02-Data-and-Uncertainty\n",
    "* 03-Distributions-Histograms-and-Bootstrap\n",
    "* lab1\n",
    "* lab2\n",
    "* lab3\n",
    "* assignment1\n",
    "\n",
    "Concepts\n",
    "* Random variable in the computer\n",
    "* Data as an empirical distribution\n",
    "* Histogram and ECDF represent information about distribution\n",
    "* Resampling from data (empirical distribution)\n",
    "* Pandas"
   ]
  },
  {
   "cell_type": "markdown",
   "metadata": {},
   "source": [
    "### Visualization\n",
    "\n",
    "Notebooks\n",
    "\n",
    "* 04-Exploratory-Data-Analysis-and-Visualization\n",
    "* lab3\n",
    "* lab4\n",
    "\n",
    "Concepts\n",
    "\n",
    "* Visualization principles\n",
    "* Kernel smoothing"
   ]
  }
 ],
 "metadata": {
  "kernelspec": {
   "display_name": "Python 3",
   "language": "python",
   "name": "python3"
  },
  "language_info": {
   "codemirror_mode": {
    "name": "ipython",
    "version": 3
   },
   "file_extension": ".py",
   "mimetype": "text/x-python",
   "name": "python",
   "nbconvert_exporter": "python",
   "pygments_lexer": "ipython3",
   "version": "3.7.3"
  }
 },
 "nbformat": 4,
 "nbformat_minor": 4
}
