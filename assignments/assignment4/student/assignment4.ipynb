{
 "cells": [
  {
   "cell_type": "code",
   "execution_count": null,
   "metadata": {
    "deletable": false,
    "editable": false
   },
   "outputs": [],
   "source": [
    "# Initialize Otter\n",
    "import otter\n",
    "grader = otter.Notebook(\"assignment4.ipynb\")"
   ]
  },
  {
   "cell_type": "markdown",
   "metadata": {
    "toc": true
   },
   "source": [
    "<h1>Table of Contents<span class=\"tocSkip\"></span></h1>\n",
    "<div class=\"toc\"><ul class=\"toc-item\"><li><span><a href=\"#Assignment-4:-Modeling-and-Optimization\" data-toc-modified-id=\"Assignment-4:-Modeling-and-Optimization-1\">Assignment 4: Modeling and Optimization</a></span></li><li><span><a href=\"#Questions-1-3:-Resource-Allocation-Problem\" data-toc-modified-id=\"Questions-1-3:-Resource-Allocation-Problem-2\">Questions 1-3: Resource Allocation Problem</a></span><ul class=\"toc-item\"><li><span><a href=\"#Question-1:-Resource-Constraints\" data-toc-modified-id=\"Question-1:-Resource-Constraints-2.1\">Question 1: Resource Constraints</a></span><ul class=\"toc-item\"><li><span><a href=\"#Question-1.a:-Modeling-Resource-Usage\" data-toc-modified-id=\"Question-1.a:-Modeling-Resource-Usage-2.1.1\">Question 1.a: Modeling Resource Usage</a></span></li><li><span><a href=\"#Question-1.b:--Resource-Usage-vs.-Total-Resource-Constraint\" data-toc-modified-id=\"Question-1.b:--Resource-Usage-vs.-Total-Resource-Constraint-2.1.2\">Question 1.b:  Resource Usage vs. Total Resource Constraint</a></span></li><li><span><a href=\"#Question-1.c:-Feasible-Region-Boundary\" data-toc-modified-id=\"Question-1.c:-Feasible-Region-Boundary-2.1.3\">Question 1.c: Feasible Region Boundary</a></span></li><li><span><a href=\"#Question-1.d:-Interior-of-Feasible-Region\" data-toc-modified-id=\"Question-1.d:-Interior-of-Feasible-Region-2.1.4\">Question 1.d: Interior of Feasible Region</a></span></li><li><span><a href=\"#Question-1.e:-Visualizing-the-Feasible-Region\" data-toc-modified-id=\"Question-1.e:-Visualizing-the-Feasible-Region-2.1.5\">Question 1.e: Visualizing the Feasible Region</a></span></li></ul></li><li><span><a href=\"#Question-2:-Objective-Function\" data-toc-modified-id=\"Question-2:-Objective-Function-2.2\">Question 2: Objective Function</a></span><ul class=\"toc-item\"><li><span><a href=\"#Question-2.a:-Defining-Objective-Function\" data-toc-modified-id=\"Question-2.a:-Defining-Objective-Function-2.2.1\">Question 2.a: Defining Objective Function</a></span></li><li><span><a href=\"#Question-2.b:-Direction-of-Steepest-Increase\" data-toc-modified-id=\"Question-2.b:-Direction-of-Steepest-Increase-2.2.2\">Question 2.b: Direction of Steepest Increase</a></span></li></ul></li><li><span><a href=\"#Question-3:-Putting-Pieces-Together\" data-toc-modified-id=\"Question-3:-Putting-Pieces-Together-2.3\">Question 3: Putting Pieces Together</a></span><ul class=\"toc-item\"><li><span><a href=\"#Question-3.a:-Standard-Form-of-a-Linear-Programming-Problem\" data-toc-modified-id=\"Question-3.a:-Standard-Form-of-a-Linear-Programming-Problem-2.3.1\">Question 3.a: Standard Form of a Linear Programming Problem</a></span></li><li><span><a href=\"#Question-3.b:-Computing-the-Numerical-Solution\" data-toc-modified-id=\"Question-3.b:-Computing-the-Numerical-Solution-2.3.2\">Question 3.b: Computing the Numerical Solution</a></span></li><li><span><a href=\"#Question-3.c:-Plotting-the-optimal-solution\" data-toc-modified-id=\"Question-3.c:-Plotting-the-optimal-solution-2.3.3\">Question 3.c: Plotting the optimal solution</a></span></li></ul></li></ul></li><li><span><a href=\"#Question-4:-Nutrition-Problem\" data-toc-modified-id=\"Question-4:-Nutrition-Problem-3\">Question 4: Nutrition Problem</a></span><ul class=\"toc-item\"><li><ul class=\"toc-item\"><li><span><a href=\"#Question-4.a:-Define-Constraints\" data-toc-modified-id=\"Question-4.a:-Define-Constraints-3.0.1\">Question 4.a: Define Constraints</a></span></li><li><span><a href=\"#Question-4.b:-Create-Python-Variables\" data-toc-modified-id=\"Question-4.b:-Create-Python-Variables-3.0.2\">Question 4.b: Create Python Variables</a></span></li><li><span><a href=\"#Question-4.c:-Solve-the-Problem\" data-toc-modified-id=\"Question-4.c:-Solve-the-Problem-3.0.3\">Question 4.c: Solve the Problem</a></span></li><li><span><a href=\"#Question-4.d:-Interpreting-the-Results\" data-toc-modified-id=\"Question-4.d:-Interpreting-the-Results-3.0.4\">Question 4.d: Interpreting the Results</a></span></li></ul></li></ul></li></ul></div>"
   ]
  },
  {
   "cell_type": "markdown",
   "metadata": {},
   "source": [
    "# Assignment 4: Modeling and Optimization\n",
    "\n",
    "**Due on June 12 at 11:59 pm**"
   ]
  },
  {
   "cell_type": "markdown",
   "metadata": {},
   "source": [
    "Mathematical modeling of a problem at hand give us a systematic way of finding a solution. For example, a maximum likelihood estimator (assuming it exists), $\\hat\\theta$, is a method for finding the parameter that maximizes the likelihood of the data $L_n$:\n",
    "$$L_{n}(\\hat{\\theta} ; x_1, x_2, \\dots, x_n)=\\max _{\\theta \\in \\Theta} L_{n}(\\theta ; x_1, x_2, \\dots, x_n)$$\n",
    "Data $x_1, x_2, \\dots$, set of feasible parameters $\\Theta$, and likelihood function $L_n$ are given. We find the parameter that \"best\" describe the data in the context of the likelihood function.\n",
    "\n",
    "Many other applications of optimization exists, and this assignment will give a hands-on introduction to a simple linear programming problem."
   ]
  },
  {
   "cell_type": "code",
   "execution_count": 1,
   "metadata": {},
   "outputs": [],
   "source": [
    "import cvxpy as cp\n",
    "import numpy as np\n",
    "import pandas as pd\n",
    "%matplotlib inline\n",
    "import matplotlib.pyplot as plt\n",
    "import seaborn as sns\n",
    "sns.set_style(\"whitegrid\")"
   ]
  },
  {
   "cell_type": "markdown",
   "metadata": {
    "deletable": false,
    "editable": false
   },
   "source": [
    "<!-- BEGIN QUESTION -->\n",
    "\n",
    "# Questions 1-3: Resource Allocation Problem\n",
    "\n",
    "You are in charge of a company that makes two hot sauces: $x_1$ liters of Kapatio and $x_2$ liters of Zriracha. We will use optimization technique to find the \"best\" manufacturing strategy given our resource constraints.\n",
    "\n",
    "First, we need to define what we mean by \"best\" strategy. In this scenario, the goal is to obtain the highest revenue possible. While doing so, there are resource constraints we must satisfy. \n",
    "\n",
    "\n",
    "For example, in order to manufacture these two hot sauce products, different amount of peppers and vineger are needed. Also, we have only so much total resource available.\n",
    "\n",
    "Ingridients | Kapatio | Zriracha | Total Available\n",
    "----------- | ------- | -------- | ------------------\n",
    "Pepper      | 5       | 7        | 30\n",
    "Vineger     | 4       | 2        | 12\n",
    "\n",
    "## Question 1: Resource Constraints\n",
    "\n",
    "### Question 1.a: Modeling Resource Usage\n",
    "\n",
    "What is the equation for the amount of pepper needed to manufacture $x_1$ and $x_2$. What is the equation for the amount of vinegar?\n",
    "(Use [Mathpix](https://mathpix.com/) to write equations)\n",
    "\n",
    "<!--\n",
    "BEGIN QUESTION\n",
    "name: q1a\n",
    "manual: true\n",
    "points: 4\n",
    "-->"
   ]
  },
  {
   "cell_type": "markdown",
   "metadata": {},
   "source": [
    "_Type your answer here, replacing this text._"
   ]
  },
  {
   "cell_type": "markdown",
   "metadata": {
    "deletable": false,
    "editable": false
   },
   "source": [
    "<!-- END QUESTION -->\n",
    "\n",
    "<!-- BEGIN QUESTION -->\n",
    "\n",
    "### Question 1.b:  Resource Usage vs. Total Resource Constraint\n",
    "\n",
    "Total amount of pepper needed cannot exceed total available. Write down the inequality expressing this relationship. Do the same for vinegar. These inequalities are your resource constraints.\n",
    "Additinally, variables $x_1$ and $x_2$ are non-negative: i.e. amount of manufactured goods cannot be negative.\n",
    "\n",
    "Rewrite the system of constraint inequalities into a matrix inequality: $Ax\\leq b$, where $x=(x_1, x_2)^T$. Arrange rows of $A$ and $b$ such that:\n",
    "\n",
    "* Row 1: total pepper amount constraint\n",
    "* Row 2: total vinegar amount constraint\n",
    "* Row 3: Kapatio non-negativity constraint\n",
    "* Row 4: Zriracha non-negativity constraint\n",
    "\n",
    "Less than symbol in $Ax\\leq b$ means element-wise.\n",
    "\n",
    "<!--\n",
    "BEGIN QUESTION\n",
    "name: q1b1\n",
    "manual: true\n",
    "points: 4\n",
    "-->"
   ]
  },
  {
   "cell_type": "markdown",
   "metadata": {},
   "source": [
    "_Type your answer here, replacing this text._"
   ]
  },
  {
   "cell_type": "markdown",
   "metadata": {
    "deletable": false,
    "editable": false
   },
   "source": [
    "<!-- END QUESTION -->\n",
    "\n",
    "Define matrix `A1` and vector `b1` according to matrix inequality above.\n",
    "\n",
    "<!--\n",
    "BEGIN QUESTION\n",
    "name: q1b2\n",
    "manual: false\n",
    "points: 4\n",
    "-->"
   ]
  },
  {
   "cell_type": "code",
   "execution_count": 2,
   "metadata": {},
   "outputs": [],
   "source": [
    "A1 = ...\n",
    "b1 = ..."
   ]
  },
  {
   "cell_type": "code",
   "execution_count": null,
   "metadata": {
    "deletable": false,
    "editable": false
   },
   "outputs": [],
   "source": [
    "grader.check(\"q1b2\")"
   ]
  },
  {
   "cell_type": "markdown",
   "metadata": {},
   "source": [
    "### Visualizing Feasible Region <a class=\"tocSkip\">\n",
    "In a 2-dimensional plot, we will visualize the area that satisfies both of the resource constraints. Draw $x_1$ on the horizontal axis and $x_2$ on the vertical axis. \n",
    "\n",
    "There will be two main components to the plot:\n",
    "* **Lines** indicating constraint boundaries:  \n",
    "    e.g. the constraint $x_2\\geq 0$ has boundary at $x_2 = 0$.\n",
    "* **Shaded area** indicating feasible regions:  \n",
    "    e.g., the whole region $x_2 > 0$ is to be shaded _if_ $x_2\\geq 0$ was the only constraint. We will use shading to indicate the region where _all_ constraints are satisfied."
   ]
  },
  {
   "cell_type": "code",
   "execution_count": 7,
   "metadata": {},
   "outputs": [],
   "source": [
    "x1_line = np.linspace(-1, 10, 500)\n",
    "x2_line = np.linspace(-1, 10, 500)"
   ]
  },
  {
   "cell_type": "markdown",
   "metadata": {},
   "source": [
    "### Question 1.c: Feasible Region Boundary\n",
    "\n",
    "In a list named `boundary`, create four data frames for each equality in $Ax=b$. These lines indicate where the feasible area ends. Set column names as\n",
    "\n",
    "* `$x_1$`\n",
    "* `$x_2$`\n",
    "* `constraints`\n",
    "\n",
    "Note the use of latex codes (feel free to use [Mathpix](https://mathpix.com/)). \n",
    "\n",
    "#### Toy Example: Drawing Boundaries <a class=\"tocSkip\">\n",
    "\n",
    "Here is a **toy example** of drawing two constraint boundaries by constructing data frames:"
   ]
  },
  {
   "cell_type": "code",
   "execution_count": 8,
   "metadata": {},
   "outputs": [],
   "source": [
    "z1_line = np.linspace(-1, 10, 500)\n",
    "z2_line = np.linspace(-1, 10, 500)\n",
    "\n",
    "boundary = [\n",
    "    pd.DataFrame({\n",
    "        '$z_1$': np.ones_like(z2_line)*1,\n",
    "        '$z_2$': z2_line,\n",
    "        'constraint': '$z_1\\geq 1$'\n",
    "    }),\n",
    "    pd.DataFrame({\n",
    "        '$z_1$': z1_line,\n",
    "        '$z_2$': np.ones_like(z1_line)*2,\n",
    "        'constraint': '$z_2\\geq 2$'\n",
    "    }),\n",
    "]\n",
    "fig, ax = plt.subplots(figsize=(6, 6))\n",
    "sns.lineplot(x='$z_1$', y='$z_2$', hue='constraint', data=pd.concat(boundary), ax=ax).axvline(1)\n",
    "plt.xlim(-1, 6)\n",
    "plt.ylim(-1, 6)\n",
    "plt.show()"
   ]
  },
  {
   "cell_type": "markdown",
   "metadata": {
    "deletable": false,
    "editable": false
   },
   "source": [
    "<!-- BEGIN QUESTION -->\n",
    "\n",
    "Sometimes, things just do not work as expected. \n",
    "\n",
    "In the toy example code, \n",
    "```\n",
    "sns.lineplot(x='$z_1$', y='$z_2$', hue='constraint', data=pd.concat(boundary), ax=ax).axvline(1)\n",
    "```\n",
    "what seems strange about the plotting command? Why was the strange code necessary?\n",
    "\n",
    "<!--\n",
    "BEGIN QUESTION\n",
    "name: q1c1\n",
    "manual: true\n",
    "points: 4\n",
    "-->"
   ]
  },
  {
   "cell_type": "markdown",
   "metadata": {},
   "source": [
    "_Type your answer here, replacing this text._"
   ]
  },
  {
   "cell_type": "markdown",
   "metadata": {},
   "source": [
    "<!-- END QUESTION -->\n",
    "\n",
    "\n",
    "\n",
    "#### Example: Resource Constraint Boundary  <a class=\"tocSkip\">\n",
    "\n",
    "Now, create a data frame for the non-negativity constraint $x_2\\geq 0$ as follows:"
   ]
  },
  {
   "cell_type": "code",
   "execution_count": 9,
   "metadata": {},
   "outputs": [],
   "source": [
    "pd.DataFrame({'$x_1$':x1_line,               ## x_1 can take on any value\n",
    "              '$x_2$':x1_line * 0.0,         ## x_2 = 0\n",
    "              'constraint':'$x_2 \\geq 0$'}), ## constraint equation for labeling"
   ]
  },
  {
   "cell_type": "markdown",
   "metadata": {
    "deletable": false,
    "editable": false
   },
   "source": [
    "Create a list named `boundary` containing four data frames (each corresponding to a constraint). Concatenate data frames in `boundary` to one data frame named `hull`.\n",
    "\n",
    "<!--\n",
    "BEGIN QUESTION\n",
    "name: q1c2\n",
    "manual: false\n",
    "points: 6\n",
    "-->"
   ]
  },
  {
   "cell_type": "code",
   "execution_count": 10,
   "metadata": {},
   "outputs": [],
   "source": [
    "boundary = [\n",
    "    pd.DataFrame({'$x_1$': ...,\n",
    "                  '$x_2$': ...,\n",
    "                  'constraint':'$... x_1 + ... x_2 \\leq ...$'}),\n",
    "    pd.DataFrame({'$x_1$': ...,\n",
    "                  '$x_2$': ...,\n",
    "                  'constraint':'$... x_1 + ... x_2 \\leq ...$'}),\n",
    "    pd.DataFrame({'$x_1$': ..., \n",
    "                  '$x_2$': ...,\n",
    "                  'constraint':'$... x_1\\geq ...$'}),\n",
    "    pd.DataFrame({'$x_1$':x1_line,\n",
    "                  '$x_2$':x1_line * 0.0,\n",
    "                  'constraint':'$x_2\\geq 0$'})\n",
    "]\n",
    "hull = ..."
   ]
  },
  {
   "cell_type": "code",
   "execution_count": null,
   "metadata": {
    "deletable": false,
    "editable": false
   },
   "outputs": [],
   "source": [
    "grader.check(\"q1c2\")"
   ]
  },
  {
   "cell_type": "markdown",
   "metadata": {},
   "source": [
    "### Question 1.d: Interior of Feasible Region\n",
    "\n",
    "Previous question prepared constraint boundaries, $Ax = b$. In this question, we calculate the interior of the feasible region, which will be shaded in the visualization. First, create a 2-d array of $x_1$ and $x_2$ values. If a point $(x_1, x_2)$ satisfies _every_ constraint, the point will be colored grey.\n",
    "\n",
    "For example, in order to shade $\\{x_1: x_1\\geq 1\\}\\cap\\{x_2: x_2\\geq 2\\}$, we can use the `imshow` method. "
   ]
  },
  {
   "cell_type": "code",
   "execution_count": 15,
   "metadata": {},
   "outputs": [],
   "source": [
    "z1_line = np.linspace(-1, 6, 10)\n",
    "z2_line = np.linspace(-1, 6, 10)\n",
    "z1_grid, z2_grid = np.meshgrid(z1_line, z2_line)\n",
    "\n",
    "fig, az = plt.subplots(figsize=(6, 6))\n",
    "az.imshow(\n",
    "    ((z1_grid >= 1) & (z2_grid >= 2)).astype(int),\n",
    "    origin='lower',\n",
    "    extent=(z1_grid.min(), z1_grid.max(), z2_grid.min(), z2_grid.max()),\n",
    "    cmap=\"Greys\", alpha=0.3, aspect='equal' \n",
    ")\n",
    "plt.xlim(-1, 6)\n",
    "plt.ylim(-1, 6)\n",
    "plt.show()"
   ]
  },
  {
   "cell_type": "markdown",
   "metadata": {
    "deletable": false,
    "editable": false
   },
   "source": [
    "<!-- BEGIN QUESTION -->\n",
    "\n",
    "By dissecting the command below and reading the documentation, report what each of the following lines does:\n",
    "\n",
    "* `((y1_grid >= 1) & (y2_grid >= 2)).astype(int)` (What is the output of running this command?)  \n",
    "* `origin='lower'`  \n",
    "* `extent=(y1_grid.min(), y1_grid.max(), y2_grid.min(), y2_grid.max())`  \n",
    "* `cmap='Greys'`  \n",
    "* `alpha=0.3`  \n",
    "* `aspect='equal'`  \n",
    "\n",
    "<!--\n",
    "BEGIN QUESTION\n",
    "name: q1d1\n",
    "manual: true\n",
    "points: 6\n",
    "-->"
   ]
  },
  {
   "cell_type": "markdown",
   "metadata": {},
   "source": [
    "_Type your answer here, replacing this text._"
   ]
  },
  {
   "cell_type": "markdown",
   "metadata": {
    "deletable": false,
    "editable": false
   },
   "source": [
    "<!-- END QUESTION -->\n",
    "\n",
    "<!-- BEGIN QUESTION -->\n",
    "\n",
    "### Question 1.e: Visualizing the Feasible Region\n",
    "\n",
    "Finally, create a figure that shows constraint boundaries and the interior region shaded with a light grey color.\n",
    "\n",
    "Your output will look like this:  \n",
    "![hull](images/feasible.png)\n",
    "\n",
    "<!--\n",
    "BEGIN QUESTION\n",
    "name: q1e1\n",
    "manual: true\n",
    "points: 8\n",
    "-->"
   ]
  },
  {
   "cell_type": "code",
   "execution_count": 16,
   "metadata": {},
   "outputs": [],
   "source": [
    "fig, ax = plt.subplots(figsize=(6, 6))\n",
    "x1_grid, x2_grid = np.meshgrid(x1_line, x2_line)\n",
    "\n",
    "ax.imshow(\n",
    "    (\n",
    "        ...\n",
    "    ),\n",
    "    origin='lower',\n",
    "    extent=(x1_grid.min(), x1_grid.max(), x2_grid.min(), x2_grid.max()),\n",
    "    cmap=\"Greys\", alpha = 0.3, aspect='equal')\n",
    "\n",
    "\n",
    "# ax = sns.lineplot(???).axvline(???)\n",
    "ax = ...\n",
    "\n",
    "plt.xlim(-1, 6)\n",
    "plt.ylim(-1, 6)\n",
    "plt.show()"
   ]
  },
  {
   "cell_type": "markdown",
   "metadata": {
    "deletable": false,
    "editable": false
   },
   "source": [
    "<!-- END QUESTION -->\n",
    "\n",
    "<!-- BEGIN QUESTION -->\n",
    "\n",
    "In the context of linear programming, $Ax\\leq b$ is called the _feasible region_ (including the appropriate sections of the boundaries). Denote the (shaded) feasible region as set $C$. Points $(x_1,x_2)\\in C$ satisfy all of the constraints.\n",
    "\n",
    "Describe in plain words the feasible region in the context of hot sauce manufacturing. Specifically, which constraint is violated (if any) by a point at:\n",
    "\n",
    "* $(x_1,x_2) = (4, 1)$\n",
    "* $(x_1,x_2) = (0, 5)$  \n",
    "* $(x_1,x_2) = (3, 4)$  \n",
    "\n",
    "<!--\n",
    "BEGIN QUESTION\n",
    "name: q1e2\n",
    "manual: true\n",
    "points: 6\n",
    "-->"
   ]
  },
  {
   "cell_type": "markdown",
   "metadata": {},
   "source": [
    "_Type your answer here, replacing this text._"
   ]
  },
  {
   "cell_type": "markdown",
   "metadata": {
    "deletable": false,
    "editable": false
   },
   "source": [
    "<!-- END QUESTION -->\n",
    "\n",
    "<!-- BEGIN QUESTION -->\n",
    "\n",
    "## Question 2: Objective Function\n",
    "\n",
    "### Question 2.a: Defining Objective Function\n",
    "\n",
    "Suppose the hot sauces are sold at the same price: \\\\$5 per liter. \n",
    "\n",
    "What is the equation $f(x)$ for the total revenue as a function of $x_1$ and $x_2$? \n",
    "\n",
    "The function $f(x)$ is called the objective function.\n",
    "\n",
    "<!--\n",
    "BEGIN QUESTION\n",
    "name: q2a1\n",
    "manual: true\n",
    "points: 4\n",
    "-->"
   ]
  },
  {
   "cell_type": "markdown",
   "metadata": {},
   "source": [
    "_Type your answer here, replacing this text._"
   ]
  },
  {
   "cell_type": "markdown",
   "metadata": {
    "deletable": false,
    "editable": false
   },
   "source": [
    "<!-- END QUESTION -->\n",
    "\n",
    "Objective function $f(x)$ is a linear function in $x$. Therefore, $f(x)$ is a 2-dimesional hyperplane. Note that each value of $f(x)$ defines a line in $(x_1, x_2)$ plane.\n",
    "\n",
    "For example, $f(x)= 0 = c_1x_1 + c_2x_2$ defines a line. A subspace of equal function value is sometimes referred to as a _level set_ or a _contour line_ when visualized.\n",
    "\n",
    "First, create a numpy array of prices `c` for the two hot sauces, $x_1$ and $x_2$. Then, create a list `f_vals` containing four data frames of contour lines, $f(x) \\in \\{0, 10, 20, 30\\}$. by creating one data frame for each contour line. \n",
    "\n",
    "<!--\n",
    "BEGIN QUESTION\n",
    "name: q2a2\n",
    "manual: false\n",
    "points: 4\n",
    "-->"
   ]
  },
  {
   "cell_type": "code",
   "execution_count": 17,
   "metadata": {},
   "outputs": [],
   "source": [
    "c = ...\n",
    "\n",
    "fig, ax = plt.subplots(figsize=(6, 6))\n",
    "contours = [\n",
    "    pd.DataFrame({\n",
    "        '$x_1$': x1_line,\n",
    "        '$x_2$': ( 0 - c[0]*x1_line)/c[1],\n",
    "        '$f(x)$': 0\n",
    "    }),\n",
    "    ...\n",
    "]\n",
    "f_vals = pd.concat(contours)\n",
    "\n",
    "# ax = sns.lineplot(???)\n",
    "ax = ...\n",
    "\n",
    "plt.xlim(-1, 6)\n",
    "plt.ylim(-1, 6)\n",
    "plt.show()"
   ]
  },
  {
   "cell_type": "code",
   "execution_count": null,
   "metadata": {
    "deletable": false,
    "editable": false
   },
   "outputs": [],
   "source": [
    "grader.check(\"q2a2\")"
   ]
  },
  {
   "cell_type": "markdown",
   "metadata": {
    "deletable": false,
    "editable": false
   },
   "source": [
    "<!-- BEGIN QUESTION -->\n",
    "\n",
    "### Question 2.b: Direction of Steepest Increase\n",
    "\n",
    "Since we want to maximize revenue, we want to increase our objective function as much as possible. Analogous to the minimization example given in a previous lecture, we can repeatedly move in the direction of function increase. In order to determine such direction, compute the gradient of $f(x)$ at $x=(0,0)^T$:\n",
    "$$\\nabla_x f(x) = \\begin{pmatrix}\\frac{\\partial f(x)}{\\partial x_1}\\\\\\frac{\\partial f(x)}{\\partial x_2}\\end{pmatrix} $$\n",
    "\n",
    "<!--\n",
    "BEGIN QUESTION\n",
    "name: q2b\n",
    "manual: true\n",
    "points: 4\n",
    "-->"
   ]
  },
  {
   "cell_type": "markdown",
   "metadata": {},
   "source": [
    "_Type your answer here, replacing this text._"
   ]
  },
  {
   "cell_type": "markdown",
   "metadata": {
    "deletable": false,
    "editable": false
   },
   "source": [
    "<!-- END QUESTION -->\n",
    "\n",
    "<!-- BEGIN QUESTION -->\n",
    "\n",
    "## Question 3: Putting Pieces Together\n",
    "\n",
    "### Question 3.a: Standard Form of a Linear Programming Problem\n",
    "\n",
    "Write down the so-called the _standard form_ of a linear programming problem:\n",
    "$$\\begin{aligned}\n",
    "\\max_x & f(x)\\\\\n",
    "\\text{subject to } & Ax\\leq b\n",
    "\\end{aligned}$$\n",
    "\n",
    "Specifically, write the obejective as an inner product of two vectors: $f(x) = c^T x$, and write the constraint as a vector inequality involving a matrix-vector prduct: $Ax\\leq b$, where $A$ is a 4-by-2 matrix.\n",
    "\n",
    "<!--\n",
    "BEGIN QUESTION\n",
    "name: q3a\n",
    "manual: true\n",
    "points: 4\n",
    "-->"
   ]
  },
  {
   "cell_type": "markdown",
   "metadata": {},
   "source": [
    "_Type your answer here, replacing this text._"
   ]
  },
  {
   "cell_type": "markdown",
   "metadata": {
    "deletable": false,
    "editable": false
   },
   "source": [
    "<!-- END QUESTION -->\n",
    "\n",
    "### Question 3.b: Computing the Numerical Solution\n",
    "\n",
    "Therefore, _maximizing_ the revenue is a search over the feasible region for the best point $x^*=(x_1^*, x_2^*)$ that gives the largest revenue. On the otherhand, any _infeasible_ point _not_ in the feasible region cannot be a solution to the constrained optimization problem.\n",
    "\n",
    "Notationally, the following expression means the same thing:\n",
    "$$x^* = \\arg\\max_{\\{x: Ax\\leq b\\}} f(x)$$\n",
    "\n",
    "Using [CVXPY](https://www.cvxpy.org/), solve for the resource allocation problem with constraints.\n",
    "\n",
    "<!--\n",
    "BEGIN QUESTION\n",
    "name: q3b\n",
    "manual: false\n",
    "points: 4\n",
    "-->"
   ]
  },
  {
   "cell_type": "code",
   "execution_count": 22,
   "metadata": {},
   "outputs": [],
   "source": [
    "# define variables\n",
    "x = ...\n",
    "\n",
    "# define the linear program\n",
    "problem = cp.Problem(\n",
    "    ...\n",
    ")\n",
    "\n",
    "fstar1 = problem.solve()                                                 # maximum attained function value\n",
    "xstar1 = pd.DataFrame(x.value.reshape(1, 2), columns=['$x_1$', '$x_2$']) # maximizer x for f"
   ]
  },
  {
   "cell_type": "code",
   "execution_count": null,
   "metadata": {
    "deletable": false,
    "editable": false
   },
   "outputs": [],
   "source": [
    "grader.check(\"q3b\")"
   ]
  },
  {
   "cell_type": "markdown",
   "metadata": {
    "deletable": false,
    "editable": false
   },
   "source": [
    "<!-- BEGIN QUESTION -->\n",
    "\n",
    "### Question 3.c: Plotting the optimal solution\n",
    "\n",
    "<!--\n",
    "BEGIN QUESTION\n",
    "name: q3c\n",
    "manual: true\n",
    "points: 4\n",
    "-->"
   ]
  },
  {
   "cell_type": "code",
   "execution_count": 26,
   "metadata": {},
   "outputs": [],
   "source": [
    "fig, ax = plt.subplots(figsize=(6, 6))\n",
    "x1_grid, x2_grid = np.meshgrid(x1_line, x2_line)\n",
    "ax.imshow(\n",
    "    (\n",
    "        (A1[0,0]*x1_grid + A1[0,1]*x2_grid <= b1[0]) & # Pepper constraints\n",
    "        (A1[1,0]*x1_grid + A1[1,1]*x2_grid <= b1[1]) & # Vinegar constraints\n",
    "        (A1[2,0]*x1_grid + A1[2,1]*x2_grid <= b1[2]) & \n",
    "        (A1[3,0]*x1_grid + A1[3,1]*x2_grid <= b1[3])   # non-negativity constraints \n",
    "    ),\n",
    "    origin='lower',\n",
    "    extent=(x1_grid.min(), x1_grid.max(), x2_grid.min(), x2_grid.max()),\n",
    "    cmap=\"Greys\", alpha = 0.3, aspect='equal' \n",
    ")\n",
    "sns.scatterplot(x='$x_1$', y='$x_2$', data=xstar1, ax=ax, s=100)\n",
    "sns.lineplot(x='$x_1$', y='$x_2$', hue='$f(x)$', data=f_vals, ax=ax)\n",
    "plt.xlim(-1, 6)\n",
    "plt.ylim(-1, 6)\n",
    "plt.show()"
   ]
  },
  {
   "cell_type": "markdown",
   "metadata": {
    "deletable": false,
    "editable": false
   },
   "source": [
    "---\n",
    "\n",
    "To double-check your work, the cell below will rerun all of the autograder tests."
   ]
  },
  {
   "cell_type": "code",
   "execution_count": null,
   "metadata": {
    "deletable": false,
    "editable": false
   },
   "outputs": [],
   "source": [
    "grader.check_all()"
   ]
  },
  {
   "cell_type": "markdown",
   "metadata": {
    "deletable": false,
    "editable": false
   },
   "source": [
    "## Submission\n",
    "\n",
    "Make sure you have run all cells in your notebook in order before running the cell below, so that all images/graphs appear in the output. The cell below will generate a zip file for you to submit. **Please save before exporting!**"
   ]
  },
  {
   "cell_type": "code",
   "execution_count": null,
   "metadata": {
    "deletable": false,
    "editable": false
   },
   "outputs": [],
   "source": [
    "# Save your notebook first, then run this cell to export your submission.\n",
    "grader.export()"
   ]
  },
  {
   "cell_type": "markdown",
   "metadata": {},
   "source": [
    " "
   ]
  }
 ],
 "metadata": {
  "kernelspec": {
   "display_name": "Python 3",
   "language": "python",
   "name": "python3"
  },
  "language_info": {
   "codemirror_mode": {
    "name": "ipython",
    "version": 3
   },
   "file_extension": ".py",
   "mimetype": "text/x-python",
   "name": "python",
   "nbconvert_exporter": "python",
   "pygments_lexer": "ipython3",
   "version": "3.7.3"
  },
  "toc": {
   "base_numbering": 1,
   "nav_menu": {},
   "number_sections": false,
   "sideBar": true,
   "skip_h1_title": false,
   "title_cell": "Table of Contents",
   "title_sidebar": "Contents",
   "toc_cell": true,
   "toc_position": {
    "height": "calc(100% - 180px)",
    "left": "10px",
    "top": "150px",
    "width": "324.667px"
   },
   "toc_section_display": true,
   "toc_window_display": true
  }
 },
 "nbformat": 4,
 "nbformat_minor": 4
}
