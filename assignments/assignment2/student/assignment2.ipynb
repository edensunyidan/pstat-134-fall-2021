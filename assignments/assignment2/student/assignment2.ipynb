{
 "cells": [
  {
   "cell_type": "code",
   "execution_count": null,
   "metadata": {
    "deletable": false,
    "editable": false
   },
   "outputs": [],
   "source": [
    "# Initialize Otter\n",
    "import otter\n",
    "grader = otter.Notebook(\"assignment2.ipynb\")"
   ]
  },
  {
   "cell_type": "markdown",
   "metadata": {
    "nbgrader": {
     "grade": false,
     "grade_id": "title",
     "locked": true,
     "schema_version": 2,
     "solution": false
    }
   },
   "source": [
    "# Assignment 2  <a class='tocSkip'>\n",
    "    \n",
    "## PSTAT 134 (Fall 2020) <a class='tocSkip'>\n",
    "    \n",
    "## Due Date: Sunday, May 9, 11:59 PM <a class='tocSkip'>\n",
    "    \n",
    "## Collaboration Policy <a class='tocSkip'>\n",
    "\n",
    "Data science is a collaborative activity. While you may talk with others about\n",
    "the homework, we ask that you **write your solutions individually**. If you do\n",
    "discuss the assignments with others please **include their names** at the top\n",
    "of your notebook.\n",
    "\n",
    "**Collaborators**: *list collaborators here*"
   ]
  },
  {
   "cell_type": "markdown",
   "metadata": {},
   "source": [
    "## Part 1: 2018 US House Elections Data - Continued"
   ]
  },
  {
   "cell_type": "code",
   "execution_count": 1,
   "metadata": {},
   "outputs": [],
   "source": [
    "# magic for showing figures inline\n",
    "%matplotlib inline \n",
    "import matplotlib.pyplot as plt\n",
    "import numpy as np\n",
    "import pandas as pd\n",
    "import pickle\n",
    "\n",
    "with open('election_data.pkl', 'rb') as handle:\n",
    "    midpoints, election_agg, election_sub = pickle.load(handle)"
   ]
  },
  {
   "cell_type": "markdown",
   "metadata": {
    "deletable": false,
    "editable": false
   },
   "source": [
    "### Question 1a: Empirical Uncertainty Estimation\n",
    "\n",
    "In Assignment 1, model-based error bars were calculated by assuming that election outcomes are Binomial random variables. Probability of win $\\hat p_k$ and standard deviation $\\hat\\sigma_k$ for each of $k$ bins were calculated. Then, 95% interval was computed based on a normal approximation: $\\hat p_k\\pm 1.96\\hat\\sigma_k$.\n",
    "\n",
    "We can also estimate the error bars from resampling the data and compute an interval empirically. This can be useful if we do not have a good model for the distribution of election outcomes.\n",
    "\n",
    "Write a function named `bootstrap_data_means` that can take a data frame, say `data_in`, as input. Suppose `data_in` has `n` rows. Inside `bootstrap_data_means` function, you will\n",
    "\n",
    "* [`numpy.random.Generator.choice`](https://docs.scipy.org/doc/numpy/reference/random/generated/numpy.random.Generator.choice.html?highlight=random%20choice#numpy.random.Generator.choice): Select `n`-rows of `data_in` at random _with replacement_, creating a pseudo-dataset\n",
    "* `agg`: Group by each `bin`, compute probabilities of success for each pseudo-dataset as you have done\n",
    "\n",
    "Each time `bootstrap_data_means` is run, $\\hat p_k^{(b)}$ for all $k$ are estimated. Repeat `bootstrap_data_means` function $b=1, 2, \\dots, 100$, storing the resulting 100 DataFrames in a list. \n",
    "\n",
    "Then, create a data frame `bootstrap_election_100_agg` using `pandas.concat`:\n",
    "\n",
    "* Python list comprehension: https://docs.python.org/3/tutorial/datastructures.html#list-comprehensions\n",
    "* [`pandas.concat`](https://pandas.pydata.org/pandas-docs/stable/reference/api/pandas.concat.html): Concatenate many DataFrames together.  \n",
    "    Especially, the example, _Combine two DataFrame objects with identical columns._, in https://pandas.pydata.org/pandas-docs/stable/reference/api/pandas.concat.html could be helpful.\n",
    "\n",
    "<!--\n",
    "BEGIN QUESTION\n",
    "name: q1a\n",
    "manual: false\n",
    "points: 6\n",
    "-->"
   ]
  },
  {
   "cell_type": "code",
   "execution_count": 2,
   "metadata": {},
   "outputs": [],
   "source": [
    "def bootstrap_data_means(data_in):\n",
    "    \n",
    "    from numpy.random import choice\n",
    "    \n",
    "    n = len(data_in)\n",
    "    \n",
    "    # randomly sample row indices with replacement\n",
    "    indx = ...\n",
    "    \n",
    "    # compute probabilities of success\n",
    "    bootstrap_means = ...\n",
    "    \n",
    "    return(bootstrap_means)\n",
    "\n",
    "bootstrap_election_100_agg = ..."
   ]
  },
  {
   "cell_type": "code",
   "execution_count": null,
   "metadata": {
    "deletable": false,
    "editable": false
   },
   "outputs": [],
   "source": [
    "grader.check(\"q1a\")"
   ]
  },
  {
   "cell_type": "markdown",
   "metadata": {},
   "source": [
    "### Question 1b. Visualize Empirical Error Bars\n",
    "\n",
    "By now, we have a distribution of success probabilities saved in `bootstrap_election_agg`. We can compute empirical error bars from 2.5% and 97.5% quantiles. Write function named `bootstrap_error_bars` that can be used to calculate the following columns:\n",
    "\n",
    "* `mean`: mean of probabilities of success\n",
    "* `err_low`: low point of the error bars (2.5 percentile)\n",
    "* `err_high`: high point of the error bars (97.5 percentile)\n",
    "\n",
    "Funtion `bootstrap_error_bars` is to be called by using `bootstrap_election_100_agg.apply(bootstrap_error_bars, ...)`."
   ]
  },
  {
   "cell_type": "code",
   "execution_count": 7,
   "metadata": {},
   "outputs": [],
   "source": [
    "def bootstrap_error_bars(x):\n",
    "    out = pd.Series([x.mean(), x.mean()-x.quantile(0.025), x.quantile(0.975)-x.mean()], \n",
    "                    index=['mean', 'err_low', 'err_high'])\n",
    "    return(out)"
   ]
  },
  {
   "cell_type": "markdown",
   "metadata": {
    "deletable": false,
    "editable": false
   },
   "source": [
    "<!-- BEGIN QUESTION -->\n",
    "\n",
    "Use [`pandas.DataFrame.apply`](https://pandas.pydata.org/pandas-docs/stable/reference/api/pandas.DataFrame.apply.html) and `bootstrap_error_bars` functions to calculate and visualize the error bars.\n",
    "\n",
    "In addition, to the figure code used in 5b, add horizontal lines at 0 and 1.\n",
    "\n",
    "<!--\n",
    "BEGIN QUESTION\n",
    "name: q1b\n",
    "manual: true\n",
    "points: 5\n",
    "-->"
   ]
  },
  {
   "cell_type": "code",
   "execution_count": 8,
   "metadata": {},
   "outputs": [],
   "source": [
    "# calculate error bars\n",
    "bootstrap_election_agg = ...\n",
    "\n",
    "plt.figure(figsize=(10, 10))\n",
    "plt.errorbar(midpoints, \n",
    "             election_agg['mean'].values, \n",
    "             yerr=election_agg['err'].values, \n",
    "             fmt='.', elinewidth=3, ms=20, \n",
    "             capsize=5, capthick=3)\n",
    "# Overlay empirical error bars on the same plot. Use the following \n",
    "# visual attributes: \n",
    "# ..., fmt='.r', elinewidth=1, ms=10, ecolor='red', capsize=5, ...\n",
    "...\n",
    "plt.plot([0, 1], [0, 1], '--')\n",
    "plt.plot([0, 1], [1, 1], ':r')\n",
    "plt.plot([0, 1], [0, 0], ':r')\n",
    "plt.show()"
   ]
  },
  {
   "cell_type": "markdown",
   "metadata": {
    "deletable": false,
    "editable": false
   },
   "source": [
    "<!-- END QUESTION -->\n",
    "\n",
    "<!-- BEGIN QUESTION -->\n",
    "\n",
    "### Question 1c: Interpreting the Results\n",
    "\n",
    "Are the 95% confidence intervals generally larger or smaller for more confident predictions (e.g. the predictions closer to 0 or 1).  What are the factors that determine the length of the error bars?\n",
    "\n",
    "Compare and contrast model-based error bars and empirically obtained error bars. What are the advantages and disadvantages of these two approaches?\n",
    "\n",
    "<!--\n",
    "BEGIN QUESTION\n",
    "name: q1c\n",
    "manual: true\n",
    "points: 5\n",
    "-->"
   ]
  },
  {
   "cell_type": "markdown",
   "metadata": {},
   "source": [
    "_Type your answer here, replacing this text._"
   ]
  },
  {
   "cell_type": "markdown",
   "metadata": {
    "deletable": false,
    "editable": false
   },
   "source": [
    "<!-- END QUESTION -->\n",
    "\n",
    "<!-- BEGIN QUESTION -->\n",
    "\n",
    "## Part 2: Revisiting Recommender System\n",
    "\n",
    "### Question 2a: Using Linear Algebra for Optimization\n",
    "In recommender system module, low-rank matrix factorization was used to execute latent factor modeling of movie ratings data.\n",
    "\n",
    "Specifically, we calculated matrices $U$ and $V$ to solve the following optimization problem (if all ratings were given):\n",
    "$$\n",
    "\\begin{aligned}\n",
    "\\min_{U,V} f(U,V) &= \\min_{U,V} \\|R - V U^T\\|_F^2\n",
    "=\\min_{U,V} \\left\\{ \\sum_{m=1}^M\\sum_{i=1}^I (r_{mi} - v_m u_i^T)^2 \\right\\}.\n",
    "\\end{aligned}\n",
    "$$\n",
    "The best $U$ and $V$ were calculated iteratively by improving on current estimates:\n",
    "$$\n",
    "\\begin{aligned}\n",
    "u_i^{\\text{new}} &= u_i + 2\\alpha(r_{mi} -  v_m u_i^T)\\cdot v_m\\\\\n",
    "v_m^{\\text{new}} &= v_m + 2\\alpha(r_{mi} -  v_m u_i^T)\\cdot u_i,\n",
    "\\end{aligned}\n",
    "$$\n",
    "where $\\alpha$ is the step-size that is to be chosen by the user. (We won't discuss the role in this class, but treat it as an arbitrary, but given, parameter) \n",
    "\n",
    "We can make calculating the updates more efficient by calculating them with matrix operations. For example, instead of calculating each deviation $\\gamma_{mi} = r_{mi} - v_m u_i^T$ separately for all $m=1,2,\\dots,M$ and $i=1,2,\\dots,I$, matrix $\\Gamma$ of all deviations can be computed together using matrix operation _(verify for yourself)_:\n",
    "$$\\Gamma = R - VU^T$$\n",
    "\n",
    "Similarly, updating $U$ and $V$ can be combined into matrix calculations which makes the optimization procedure more efficient.\n",
    "\n",
    "First, note that updates for $u_i$, $i=1,2,\\dots,I$ can be rewritten as\n",
    "$$\n",
    "\\begin{aligned}\n",
    "u_1^{\\text{new}} &= u_1 + 2\\alpha\\gamma_{m1}\\cdot v_m\\\\\n",
    "u_2^{\\text{new}} &= u_2 + 2\\alpha\\gamma_{m2}\\cdot v_m\\\\\n",
    "\\vdots\\quad &\\qquad\\qquad\\vdots\\\\\n",
    "u_I^{\\text{new}} &= u_I + 2\\alpha\\gamma_{mI}\\cdot v_m.\n",
    "\\end{aligned}\n",
    "$$\n",
    "Stacking all $I$ equations into a matrix form, \n",
    "$$\n",
    "\\begin{aligned}\n",
    "U^{\\text{new}} &= U + 2\\alpha\\Gamma_{m-}^T v_m,\n",
    "\\end{aligned}\n",
    "$$\n",
    "where $\\Gamma_{m-}$ is the $m$-th row of $\\Gamma$ (use the notation $\\Gamma_{-i}$ for the $i$-th column).\n",
    "\n",
    "Note that there are $M$ such update equations (one for each $m=1,2,\\dots,M$) that can also be combined into one matrix update equation involving matrices $U$, $V$, $\\Gamma$ and scalars. As stated earlier, since $\\alpha$ is assumed to be an arbitrary step-size parameter, we can replace $\\alpha/M$ with $\\alpha$.\n",
    "\n",
    "Complete the following update equations:\n",
    "$$\n",
    "\\begin{aligned}\n",
    "U^{\\text{new}} &= U + 2\\alpha[\\text{some function of }\\Gamma][\\text{some function of }V]\\\\\n",
    "V^{\\text{new}} &= V + 2\\alpha[\\text{some function of }\\Gamma][\\text{some function of }U]\n",
    "\\end{aligned}\n",
    "$$\n",
    "\n",
    "<!--\n",
    "BEGIN QUESTION\n",
    "name: q2a\n",
    "manual: true\n",
    "points: 4\n",
    "-->"
   ]
  },
  {
   "cell_type": "markdown",
   "metadata": {},
   "source": [
    "_Type your answer here, replacing this text._"
   ]
  },
  {
   "cell_type": "markdown",
   "metadata": {
    "deletable": false,
    "editable": false
   },
   "source": [
    "<!-- END QUESTION -->\n",
    "\n",
    "### Question 2b: Implementing Updates\n",
    "\n",
    "In this problem, you will implement the updates calculated in the previous problem. Define the following three functions:\n",
    "\n",
    "* `update_G(R, U, V)`: computes deviation $R-VU^T$\n",
    "* `update_U(G, U, V, alpha=0.01)`: calculates update $U^{\\text{new}}$\n",
    "* `update_V(G, U, V, alpha=0.01)`: calculates update $V^{\\text{new}}$\n",
    "\n",
    "Each function should only be one line of matrix operations. Three functions is to be applied sequentially, using the most up-to-date estimates of $G$, $U$, and $V$.\n",
    "\n",
    "Since some elements of `R` are `np.nan` for any missing ratings, `update_U` and `update_V` functions need to be adjusted by using `numpy.nan_to_num` function where appropriate. The function `numpy.nan_to_num` will let you replace `NaN` to some number, so that missing ratings do not interfere with updates.\n",
    "\n",
    "<!--\n",
    "BEGIN QUESTION\n",
    "name: q2b\n",
    "manual: false\n",
    "points: 4\n",
    "-->"
   ]
  },
  {
   "cell_type": "code",
   "execution_count": 9,
   "metadata": {},
   "outputs": [],
   "source": [
    "def update_G(R_, U_, V_):\n",
    "    \n",
    "    return ...\n",
    "\n",
    "def update_U(G_, U_, V_, alpha=0.01):\n",
    "    \n",
    "    return ...\n",
    "\n",
    "def update_V(G_, U_, V_, alpha=0.01):\n",
    "    \n",
    "    return ...\n",
    "\n",
    "# small test to help debug (keep intact)\n",
    "np.random.seed(1)\n",
    "\n",
    "M_ = 5\n",
    "I_ = 3\n",
    "K_ = 2\n",
    "\n",
    "R_ = np.random.rand(M_, I_).round(1)\n",
    "R_[0, 0] = R_[3, 2] = np.nan\n",
    "U_ = np.random.rand(I_, K_).round(1)\n",
    "V_ = np.random.rand(M_, K_).round(1)\n",
    "G_ = update_G(R_, U_, V_)"
   ]
  },
  {
   "cell_type": "code",
   "execution_count": null,
   "metadata": {
    "deletable": false,
    "editable": false
   },
   "outputs": [],
   "source": [
    "grader.check(\"q2b\")"
   ]
  },
  {
   "cell_type": "markdown",
   "metadata": {},
   "source": [
    "### Question 2c: Construct Optimization Algorithm\n",
    "\n",
    "Combine the above functions to implement the optimization algorithm to iteratively compute $U$ and $V$.\n",
    "\n",
    "But, first, here are functions that will calculate RMSE and quantify the maximum update (in absolute value) made by `update_U` and `update_V` after they are called."
   ]
  },
  {
   "cell_type": "code",
   "execution_count": 13,
   "metadata": {},
   "outputs": [],
   "source": [
    "def rmse(X):\n",
    "    \"\"\"\n",
    "    Computes root-mean-square-error, ignoring nan values\n",
    "    \"\"\"\n",
    "    return np.sqrt(np.nanmean(X**2))\n",
    "\n",
    "def max_update(X, Y, relative=True):\n",
    "    \"\"\"\n",
    "    Compute elementwise maximum update\n",
    "    \n",
    "    parameters:\n",
    "    - X, Y: numpy arrays or vectors\n",
    "    - relative: [True] compute relative magnitudes\n",
    "    \n",
    "    returns\n",
    "    - maximum difference between X and Y (relative to Y) \n",
    "    \n",
    "    \"\"\"\n",
    "    if relative:\n",
    "        updates = np.nan_to_num((X - Y)/Y)\n",
    "    else:\n",
    "        updates = np.nan_to_num(X - Y)\n",
    "            \n",
    "    return np.linalg.norm(updates.ravel(), np.inf)"
   ]
  },
  {
   "cell_type": "markdown",
   "metadata": {
    "deletable": false,
    "editable": false
   },
   "source": [
    "A template for the optimization algorithm is given below. Fill-in the missing portions to complete the algorithm.\n",
    "\n",
    "<!--\n",
    "BEGIN QUESTION\n",
    "name: q2c1\n",
    "manual: false\n",
    "points: 4\n",
    "-->"
   ]
  },
  {
   "cell_type": "code",
   "execution_count": 14,
   "metadata": {},
   "outputs": [],
   "source": [
    "def compute_UV(Rdf, K=5, alpha=0.01, max_iteration=5000, diff_thr=1e-3):\n",
    "\n",
    "    R = Rdf.values\n",
    "    Rone = Rdf.replace(Rdf, 1) # keep data frame metadata\n",
    "\n",
    "    M, I = R.shape            # number of movies and users\n",
    "    U = np.random.rand(I, K)  # initialize with random numbers\n",
    "    V = np.random.rand(M, K)  # initialize with random numbers\n",
    "    G = update_G(R, U, V)     # calculate residual\n",
    "\n",
    "    track_rmse = []\n",
    "    track_update = []\n",
    "    for i in range(0, max_iteration): \n",
    "        \n",
    "        Unew = update_U(..., ..., ..., ...)\n",
    "        Gnew = update_G(..., ..., ...)\n",
    "\n",
    "        Vnew = update_V(..., ..., ..., ...)\n",
    "        Gnew = update_G(..., ..., ...)\n",
    "\n",
    "        track_rmse += [{\n",
    "            'iteration':i, \n",
    "            'rmse': rmse(Gnew),\n",
    "            'max residual change': max_update(Gnew, G, relative=False)\n",
    "        }]\n",
    "        track_update += [{\n",
    "            'iteration':i, \n",
    "            'max update':max(max_update(Unew, U), max_update(Vnew, V))\n",
    "        }]\n",
    "\n",
    "        U = Unew\n",
    "        V = Vnew\n",
    "        G = Gnew\n",
    "        \n",
    "        if track_update[-1]['max update'] < diff_thr:\n",
    "            break\n",
    "        \n",
    "    track_rmse = pd.DataFrame(track_rmse)\n",
    "    track_update = pd.DataFrame(track_update)\n",
    "    \n",
    "    kindex = pd.Index(range(0, K), name='k')\n",
    "    U = pd.DataFrame(U, index=..., columns=...)\n",
    "    V = pd.DataFrame(V, index=..., columns=...)\n",
    "    \n",
    "    return {\n",
    "        'U':U, 'V':V,\n",
    "        'rmse': track_rmse,\n",
    "        'update': track_update\n",
    "    }\n",
    " \n",
    "Rsmall = pd.read_pickle('ratings_stacked_small.pkl').unstack()\n",
    "\n",
    "np.random.seed(134) # set seed for tests\n",
    "output1 = compute_UV(Rsmall, K=10, alpha=0.001)"
   ]
  },
  {
   "cell_type": "code",
   "execution_count": null,
   "metadata": {
    "deletable": false,
    "editable": false
   },
   "outputs": [],
   "source": [
    "grader.check(\"q2c1\")"
   ]
  },
  {
   "cell_type": "markdown",
   "metadata": {
    "deletable": false,
    "editable": false
   },
   "source": [
    "Running the function on a different sized problem to check if `compute_UV` adapts to changing problem sizes.\n",
    "There is nothing new to do here\n",
    "\n",
    "<!--\n",
    "BEGIN QUESTION\n",
    "name: q2c2\n",
    "manual: false\n",
    "points: 4\n",
    "-->"
   ]
  },
  {
   "cell_type": "code",
   "execution_count": 22,
   "metadata": {},
   "outputs": [],
   "source": [
    "# These tests should pass if `compute_UV` works properly\n",
    "np.random.seed(134) # set seed for tests\n",
    "output2 = compute_UV(Rsmall.iloc[:7, :5], K=8)"
   ]
  },
  {
   "cell_type": "code",
   "execution_count": null,
   "metadata": {
    "deletable": false,
    "editable": false
   },
   "outputs": [],
   "source": [
    "grader.check(\"q2c2\")"
   ]
  },
  {
   "cell_type": "markdown",
   "metadata": {},
   "source": [
    "### Question 2d: Interpret Diagnostic Plots\n",
    "\n",
    "Following figures tell us if the optimization algorithm is working properly."
   ]
  },
  {
   "cell_type": "code",
   "execution_count": 30,
   "metadata": {},
   "outputs": [],
   "source": [
    "import altair as alt\n",
    "logscale = alt.Scale(type='log', base=10)\n",
    "fig_rmse = \\\n",
    "    alt.Chart(output1['rmse'])\\\n",
    "    .mark_line()\\\n",
    "    .encode(\n",
    "        x='iteration:Q', \n",
    "        y=alt.Y('rmse:Q', scale=logscale)\n",
    "    )\n",
    "fig_max_residual_change = \\\n",
    "    alt.Chart(output1['rmse'])\\\n",
    "    .mark_line()\\\n",
    "    .encode(\n",
    "        x='iteration:Q', \n",
    "        y=alt.Y('max residual change:Q', scale=logscale)\n",
    "    )\n",
    "fig_updates = \\\n",
    "    alt.Chart(output1['update'])\\\n",
    "    .mark_line()\\\n",
    "    .encode(\n",
    "        x='iteration:Q', \n",
    "        y=alt.Y('max update:Q', scale=logscale)\n",
    "    )\n",
    "alt.vconcat(\n",
    "    fig_rmse | fig_max_residual_change,\n",
    "    fig_updates \n",
    ")"
   ]
  },
  {
   "cell_type": "markdown",
   "metadata": {
    "deletable": false,
    "editable": false
   },
   "source": [
    "<!-- BEGIN QUESTION -->\n",
    "\n",
    "By referring back to the function used to calculate the quantities in each figure, describe what each figure is showing and interpret the behavior of the optimization algorithm.\n",
    "\n",
    "<!--\n",
    "BEGIN QUESTION\n",
    "name: q2d\n",
    "manual: true\n",
    "points: 4\n",
    "-->"
   ]
  },
  {
   "cell_type": "markdown",
   "metadata": {},
   "source": [
    "_Type your answer here, replacing this text._"
   ]
  },
  {
   "cell_type": "markdown",
   "metadata": {
    "deletable": false,
    "editable": false
   },
   "source": [
    "<!-- END QUESTION -->\n",
    "\n",
    "<!-- BEGIN QUESTION -->\n",
    "\n",
    "### Question 2e: Logistic function \n",
    "\n",
    "Note the reconstructed ratings can be smaller than 1 and greater than 5. To confine ratings to between the allowed range, we can use the logistic function. Logistic function is defined as \n",
    "$$ h(x) = \\frac{1}{1+e^{-x}}. $$\n",
    "It is straightforward to show the derivative is \n",
    "$$ h'(x) = \\frac{e^{-x}}{(1+e^{-x})^2} = h(x)(1-h(x)). $$\n",
    "Therefore, we can rescale the ratings from $r_{mi}\\in [1, 5]$ to $r_{mi}\\in [0, 1]$. Then, we can find the best $U$ and $V$ to optimize the following:\n",
    "$$ \\min_{U,V} \\| R - h(VU^T) \\|_F^2 = \\sum_{m,i} (r_{mi} - h(v_m u_i^T))^2, $$\n",
    "where function $h$ is applied elementwise.\n",
    "\n",
    "According to the new objective function, rewrite update functions analytically.\n",
    "<!--\n",
    "BEGIN QUESTION\n",
    "name: q2e1\n",
    "manual: true\n",
    "points: 4\n",
    "-->"
   ]
  },
  {
   "cell_type": "markdown",
   "metadata": {},
   "source": [
    "_Type your answer here, replacing this text._"
   ]
  },
  {
   "cell_type": "markdown",
   "metadata": {
    "deletable": false,
    "editable": false
   },
   "source": [
    "<!-- END QUESTION -->\n",
    "\n",
    "Implement the update functions in functions below.\n",
    "\n",
    "<!--\n",
    "BEGIN QUESTION\n",
    "name: q2e2\n",
    "manual: false\n",
    "points: 4\n",
    "-->"
   ]
  },
  {
   "cell_type": "code",
   "execution_count": 31,
   "metadata": {},
   "outputs": [],
   "source": [
    "def logistic(x):\n",
    "    \"\"\"\n",
    "    Evaluates logistic function\n",
    "    \n",
    "    \"\"\"\n",
    "    return 1/(1+np.exp(-x))\n",
    "\n",
    "def update_logistic_G(R_, U_, V_):\n",
    "    \n",
    "    return ...\n",
    "\n",
    "def update_logistic_U(G_, U_, V_, alpha=0.01):\n",
    "    \n",
    "    logisticVUT = ...              # estimated ratings\n",
    "    grad = -2 * np.nan_to_num(...) # gradient direction\n",
    "    return ...                     # gradient descent update from U_\n",
    "\n",
    "def update_logistic_V(G_, U_, V_, alpha=0.01):\n",
    "    \n",
    "    logisticVUT = ...              # estimated ratings\n",
    "    grad = -2 * np.nan_to_num(...) # gradient direction\n",
    "    return ...                     # gradient descent update from V_\n",
    "\n",
    "# small test to help debug (keep intact)\n",
    "np.random.seed(1)\n",
    "\n",
    "M_ = 5\n",
    "I_ = 3\n",
    "K_ = 2\n",
    "\n",
    "R_ = np.random.rand(M_, I_).round(1)\n",
    "R_[0, 0] = R_[3, 2] = np.nan\n",
    "U_ = np.random.rand(I_, K_).round(1)\n",
    "V_ = np.random.rand(M_, K_).round(1)\n",
    "G_ = update_G(R_, U_, V_)"
   ]
  },
  {
   "cell_type": "code",
   "execution_count": null,
   "metadata": {
    "deletable": false,
    "editable": false
   },
   "outputs": [],
   "source": [
    "grader.check(\"q2e2\")"
   ]
  },
  {
   "cell_type": "markdown",
   "metadata": {
    "deletable": false,
    "editable": false
   },
   "source": [
    "Now create a function `compute_logistic_UV` below:\n",
    "\n",
    "<!--\n",
    "BEGIN QUESTION\n",
    "name: q2e3\n",
    "manual: false\n",
    "points: 4\n",
    "-->"
   ]
  },
  {
   "cell_type": "code",
   "execution_count": 35,
   "metadata": {},
   "outputs": [],
   "source": [
    "def compute_logistic_UV(Rdf, K=5, alpha=0.01, max_iteration=5000, diff_thr=1e-3):\n",
    "\n",
    "    R = Rdf.values\n",
    "    R = (R.copy()-1)/4         # map ratings to between 0 and 1\n",
    "    Rone = Rdf.replace(Rdf, 1) # keep data frame metadata\n",
    "\n",
    "    M, I = R.shape                 # number of movies and users\n",
    "    U = np.random.rand(I, K)-0.5   # initialize with random numbers\n",
    "    V = np.random.rand(M, K)-0.5   # initialize with random numbers\n",
    "    G = update_G(R, U, V)          # calculate residual\n",
    "\n",
    "    track_rmse = []\n",
    "    track_update = []\n",
    "    for i in range(0, max_iteration): \n",
    "        \n",
    "        Unew = update_logistic_U(..., ..., ..., ...)\n",
    "        Gnew = update_logistic_G(..., ..., ...)\n",
    "\n",
    "        Vnew = update_logistic_V(..., ..., ..., ...)\n",
    "        Gnew = update_logistic_G(..., ..., ...)\n",
    "\n",
    "        track_rmse += [{\n",
    "            'iteration':i, \n",
    "            'rmse': rmse(Gnew),\n",
    "            'max residual change': max_update(Gnew, G, relative=False)\n",
    "        }]\n",
    "        track_update += [{\n",
    "            'iteration':i, \n",
    "            'max update':max(max_update(Unew, U), max_update(Vnew, V))\n",
    "        }]\n",
    "\n",
    "        U = Unew\n",
    "        V = Vnew\n",
    "        G = Gnew\n",
    "        \n",
    "        if track_update[-1]['max update'] < diff_thr:\n",
    "            break\n",
    "        \n",
    "    track_rmse = pd.DataFrame(track_rmse)\n",
    "    track_update = pd.DataFrame(track_update)\n",
    "    \n",
    "    kindex = pd.Index(range(0, K), name='k')\n",
    "    U = pd.DataFrame(U, index=..., columns=...)\n",
    "    V = pd.DataFrame(V, index=..., columns=...)\n",
    "    \n",
    "    return {\n",
    "        'U':U, 'V':V,\n",
    "        'rmse': track_rmse,\n",
    "        'update': track_update\n",
    "    }\n",
    "\n",
    "def logistic_rating(U_, V_):\n",
    "    \"\"\"\n",
    "    converts the rating back to 1 to 5 rating\n",
    "    \"\"\"\n",
    "    return( 4*logistic(V_@U_.T) + 1 )\n",
    "    \n",
    "np.random.seed(134) # set seed for tests\n",
    "output3 = compute_logistic_UV(Rsmall, K=10, alpha=0.05)"
   ]
  },
  {
   "cell_type": "code",
   "execution_count": null,
   "metadata": {
    "deletable": false,
    "editable": false
   },
   "outputs": [],
   "source": [
    "grader.check(\"q2e3\")"
   ]
  },
  {
   "cell_type": "markdown",
   "metadata": {},
   "source": [
    "### Question 2f: Analyze Large Dataset\n",
    "\n",
    "Following code will analyze a larger dataset:"
   ]
  },
  {
   "cell_type": "code",
   "execution_count": 38,
   "metadata": {},
   "outputs": [],
   "source": [
    "# run on larger dataset: ratings for 100 movies \n",
    "Rbig = pd.read_pickle('ratings_stacked.pkl').unstack().iloc[:100]\n",
    "\n",
    "np.random.seed(14) # set seed for tests\n",
    "output4 = compute_logistic_UV(Rbig, K=5, alpha=0.05, max_iteration=500)\n",
    "\n",
    "Rhatbig = logistic_rating(output4['U'], output4['V'])"
   ]
  },
  {
   "cell_type": "code",
   "execution_count": 39,
   "metadata": {},
   "outputs": [],
   "source": [
    "fit_vs_obs = pd.concat([\n",
    "    Rhatbig.rename(columns={'rating':'fit'}),\n",
    "    Rbig.rename(columns={'rating':'observed'}),\n",
    "], axis=1).stack().dropna().reset_index()[['fit','observed']]\n",
    "\n",
    "fit_vs_obs = fit_vs_obs.iloc[np.random.choice(len(fit_vs_obs), 5000)]\n",
    "\n",
    "alt.Chart(fit_vs_obs).transform_density(\n",
    "    density='fit',\n",
    "    bandwidth=0.2,\n",
    "    groupby=['observed'],\n",
    "    extent= [1, 5]\n",
    ").mark_area().encode(\n",
    "    alt.X('value:Q', ),\n",
    "    alt.Y('density:Q'),\n",
    "    alt.Row('observed:N', )\n",
    ").properties(width=400, height=50)"
   ]
  },
  {
   "cell_type": "markdown",
   "metadata": {
    "deletable": false,
    "editable": false
   },
   "source": [
    "<!-- BEGIN QUESTION -->\n",
    "\n",
    "Consider the above plot. By reading the code, comment on what the plot is illustrating. What happens when you add `counts=True` to `transform_density`? What can you conclude?\n",
    "\n",
    "<!--\n",
    "BEGIN QUESTION\n",
    "name: q2f\n",
    "manual: true\n",
    "points: 4\n",
    "-->"
   ]
  },
  {
   "cell_type": "markdown",
   "metadata": {},
   "source": [
    "_Type your answer here, replacing this text._"
   ]
  },
  {
   "cell_type": "markdown",
   "metadata": {
    "deletable": false,
    "editable": false
   },
   "source": [
    "<!-- END QUESTION -->\n",
    "\n",
    "<!-- BEGIN QUESTION -->\n",
    "\n",
    "### Question 2g: Make Recommendation\n",
    "\n",
    "What movies would you recommend to `user id` 601? Do you see any similarities to movies the user rated high?\n",
    "\n",
    "<!--\n",
    "BEGIN QUESTION\n",
    "name: q2g\n",
    "manual: true\n",
    "points: 4\n",
    "-->"
   ]
  },
  {
   "cell_type": "markdown",
   "metadata": {},
   "source": [
    "_Type your answer here, replacing this text._"
   ]
  },
  {
   "cell_type": "markdown",
   "metadata": {},
   "source": [
    "<!-- END QUESTION -->\n",
    "\n",
    "\n",
    "\n",
    "_Cell Intentionally Blank_"
   ]
  },
  {
   "cell_type": "markdown",
   "metadata": {
    "deletable": false,
    "editable": false
   },
   "source": [
    "---\n",
    "\n",
    "To double-check your work, the cell below will rerun all of the autograder tests."
   ]
  },
  {
   "cell_type": "code",
   "execution_count": null,
   "metadata": {
    "deletable": false,
    "editable": false
   },
   "outputs": [],
   "source": [
    "grader.check_all()"
   ]
  },
  {
   "cell_type": "markdown",
   "metadata": {
    "deletable": false,
    "editable": false
   },
   "source": [
    "## Submission\n",
    "\n",
    "Make sure you have run all cells in your notebook in order before running the cell below, so that all images/graphs appear in the output. The cell below will generate a zip file for you to submit. **Please save before exporting!**"
   ]
  },
  {
   "cell_type": "code",
   "execution_count": null,
   "metadata": {
    "deletable": false,
    "editable": false
   },
   "outputs": [],
   "source": [
    "# Save your notebook first, then run this cell to export your submission.\n",
    "grader.export()"
   ]
  },
  {
   "cell_type": "markdown",
   "metadata": {},
   "source": [
    " "
   ]
  }
 ],
 "metadata": {
  "kernelspec": {
   "display_name": "Python 3",
   "language": "python",
   "name": "python3"
  },
  "language_info": {
   "codemirror_mode": {
    "name": "ipython",
    "version": 3
   },
   "file_extension": ".py",
   "mimetype": "text/x-python",
   "name": "python",
   "nbconvert_exporter": "python",
   "pygments_lexer": "ipython3",
   "version": "3.7.3"
  },
  "toc": {
   "base_numbering": 1,
   "nav_menu": {},
   "number_sections": true,
   "sideBar": true,
   "skip_h1_title": false,
   "title_cell": "Table of Contents",
   "title_sidebar": "Contents",
   "toc_cell": true,
   "toc_position": {},
   "toc_section_display": true,
   "toc_window_display": false
  }
 },
 "nbformat": 4,
 "nbformat_minor": 4
}
