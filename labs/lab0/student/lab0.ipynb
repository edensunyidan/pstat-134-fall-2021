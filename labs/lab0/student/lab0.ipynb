{
 "cells": [
  {
   "cell_type": "code",
   "execution_count": null,
   "metadata": {
    "deletable": false,
    "editable": false
   },
   "outputs": [],
   "source": [
    "# Initialize Otter\n",
    "import otter\n",
    "grader = otter.Notebook(\"lab0.ipynb\")"
   ]
  },
  {
   "cell_type": "markdown",
   "metadata": {},
   "source": [
    "**Note: this lab notebook will not count toward your grade, but it is designed to give you a full understanding of how the graders work for this class**\n",
    "\n",
    "# Otter grader and Gradescope\n",
    "\n",
    "This notebook explains outputs of Otter grader (in your notebook) and Gradescope.  \n",
    "\n",
    "Suppose the question is \n",
    "> What is the smallest prime number? Assign it to variable `x`.\n",
    "\n",
    "The correct answer would be `x = 2`."
   ]
  },
  {
   "cell_type": "markdown",
   "metadata": {},
   "source": [
    "## Anatomy of Questions"
   ]
  },
  {
   "cell_type": "markdown",
   "metadata": {},
   "source": [
    "### What are \"tests\"?\n",
    "Conceptually, built-in tests executes pieces of code to test the variables you created in response to the questions. \n",
    "\n",
    "Some examples tests could be, \n",
    "\n",
    "1. Test code: `isinstance(x, int)`  \n",
    "    Expected result: `True`\n",
    "2. Test code: `0 < x < 100`  \n",
    "    Expected result: `True`\n",
    "3. Test code: `print(x)`  \n",
    "    Expected result: `2`\n",
    "    \n",
    "In your notebook, tests such as these are executed to evaluate your grade. Below, the outputs in your notebook and Gradescope are explained in detail."
   ]
  },
  {
   "cell_type": "markdown",
   "metadata": {},
   "source": [
    "### What are public vs. hidden tests?\n",
    "\n",
    "Any test can be set to public or hidden:  \n",
    "\n",
    "* Public tests: the test code and expected results are openly visible to you.\n",
    "* Hidden tests: the test code and expected results are hidden from you."
   ]
  },
  {
   "cell_type": "markdown",
   "metadata": {},
   "source": [
    "### What are unpublished vs. published grades?\n",
    "\n",
    "After we grade manual questions, they are published for you to take a look. Results of hidden tests are not shown to you until "
   ]
  },
  {
   "cell_type": "markdown",
   "metadata": {},
   "source": [
    "### Flow Diagram\n",
    "\n",
    "![grade flow diagram](images/grading-diagram.png)"
   ]
  },
  {
   "cell_type": "markdown",
   "metadata": {},
   "source": [
    "### Possible Outcomes\n",
    "\n",
    "| Response  | Any Visible Tests? | All VT correct? | Any Hidden Tests? | All HT correct? | Unpublished Points | Published Points |\n",
    "| --------  | ------------------ | --------------- | ----------------- | --------------- | ------------------ | ---------------- |\n",
    "|   11      | Yes                | Yes             | No                | -               | 2.1/2.1            | 2.1 + 0.9        |\n",
    "|   12      | Yes                | No              | No                | -               | 0.0/3.0            | 0.0              |\n",
    "|   21      | No                 | -               | Yes               | Yes             | 2.1/2.1            | 2.1 + 0.9        |\n",
    "|   22      | No                 | -               | Yes               | No              | 2.1/2.1            | 2.1 + 0.0        |\n",
    "|   31      | Yes                | Yes             | Yes               | Yes             | 2.1/2.1            | 2.1 + 0.9        |\n",
    "|   32      | Yes                | No              | Yes               | No              | 0.0/3.0            | 0.0              |\n",
    "|   33      | Yes                | Yes             | Yes               | No              | 2.1/2.1            | 2.1 + 0.0        |\n",
    "|   34      | Yes                | No              | Yes               | Yes             | 0.0/3.0            | 0.0              |\n",
    "| **Total** |                    |                 |                   |                 | **8.4**            | **13.2**         |\n"
   ]
  },
  {
   "cell_type": "markdown",
   "metadata": {},
   "source": [
    "### Gradescope output\n",
    "\n",
    "| Unpublished Output | Published Output |\n",
    "| ------------------ | ------------------ |\n",
    "| ![unpublished](images/gradescope-output-unpublished.png) |![published](images/gradescope-output-published.png) |"
   ]
  },
  {
   "cell_type": "markdown",
   "metadata": {},
   "source": [
    "## Example Question 1: Public Tests\n",
    "\n",
    "To make things simple, suppose the correct response to a question is this list\n",
    "> `y = list('ab')`\n",
    "\n",
    "Suppose following are the tests\n",
    "\n",
    "| Test code  | Expected result | Type                      |\n",
    "| -------    | -------         | --------                  |\n",
    "| `'a' in y` | `True`          | Public (visible to you)   |\n",
    "| `'b' in y` | `True`          | Public (visible to you)   |\n"
   ]
  },
  {
   "cell_type": "markdown",
   "metadata": {
    "deletable": false,
    "editable": false
   },
   "source": [
    "### Response 1: All Tests are Correct\n",
    "\n",
    "Because variables have to be unique, we will use `y11` for this problem (use exact variable name indicated or implied in the questions).\n",
    "\n",
    "| Test code    | Expected result | Actual result | Type                      |\n",
    "| -------      | -------         | -------         | --------                  |\n",
    "| `'a' in y11` | `True`          | `True`          | Public (visible to you)   |\n",
    "| `'b' in y11` | `True`          | `True`          | Public (visible to you)   |\n",
    "\n",
    "<!--\n",
    "BEGIN QUESTION\n",
    "name: q11\n",
    "manual: false\n",
    "points: 3\n",
    "-->"
   ]
  },
  {
   "cell_type": "code",
   "execution_count": 1,
   "metadata": {},
   "outputs": [],
   "source": [
    "y11 = list('ab') # student response"
   ]
  },
  {
   "cell_type": "code",
   "execution_count": null,
   "metadata": {
    "deletable": false,
    "editable": false
   },
   "outputs": [],
   "source": [
    "grader.check(\"q11\")"
   ]
  },
  {
   "cell_type": "markdown",
   "metadata": {
    "deletable": false,
    "editable": false
   },
   "source": [
    "### Response 2: Tests are Partially Correct\n",
    "\n",
    "We will use `y12` for this problem\n",
    "\n",
    "| Test code    | Expected result | Actual result | Type                      |\n",
    "| -------      | -------         | -------         | --------                  |\n",
    "| `'a' in y12` | `True`          | `True`          | Public (visible to you)   |\n",
    "| `'b' in y12` | `True`          | `False`          | Public (visible to you)   |\n",
    "\n",
    "<!--\n",
    "BEGIN QUESTION\n",
    "name: q12\n",
    "manual: false\n",
    "points: 3\n",
    "-->"
   ]
  },
  {
   "cell_type": "code",
   "execution_count": 4,
   "metadata": {},
   "outputs": [],
   "source": [
    "y12 = list('a') # student response"
   ]
  },
  {
   "cell_type": "code",
   "execution_count": null,
   "metadata": {
    "deletable": false,
    "editable": false
   },
   "outputs": [],
   "source": [
    "grader.check(\"q12\")"
   ]
  },
  {
   "cell_type": "markdown",
   "metadata": {},
   "source": [
    "## Example Question 2: Private Tests\n",
    "\n",
    "To make things simple, suppose the correct response to a question is this list\n",
    "> `y = list('ab')`\n",
    "\n",
    "Suppose following are the tests\n",
    "\n",
    "| Test code  | Expected result | Type                      |\n",
    "| -------    | -------         | --------                  |\n",
    "| `'a' in y` | `True`          | Private (hidden from you)   |\n",
    "| `'b' in y` | `True`          | Private (hidden from you)   |\n"
   ]
  },
  {
   "cell_type": "markdown",
   "metadata": {
    "deletable": false,
    "editable": false
   },
   "source": [
    "### Response 1: All Tests are Correct\n",
    "\n",
    "We will use `y21` for this problem \n",
    "\n",
    "| Test code    | Expected result | Actual result | Type                      |\n",
    "| -------      | -------         | -------         | --------                  |\n",
    "| `'a' in y21` | `True`          | `True`          | Private (hidden from you)   |\n",
    "| `'b' in y21` | `True`          | `True`          | Private (hidden from you)   |\n",
    "\n",
    "<!--\n",
    "BEGIN QUESTION\n",
    "name: q21\n",
    "manual: false\n",
    "points: 3\n",
    "-->"
   ]
  },
  {
   "cell_type": "code",
   "execution_count": 7,
   "metadata": {},
   "outputs": [],
   "source": [
    "y21 = list('ab') # student response"
   ]
  },
  {
   "cell_type": "code",
   "execution_count": null,
   "metadata": {
    "deletable": false,
    "editable": false
   },
   "outputs": [],
   "source": [
    "grader.check(\"q21\")"
   ]
  },
  {
   "cell_type": "markdown",
   "metadata": {
    "deletable": false,
    "editable": false
   },
   "source": [
    "### Response 2: Tests are Partially Correct\n",
    "\n",
    "We will use `y22` for this problem\n",
    "\n",
    "| Test code    | Expected result | Actual result | Type                      |\n",
    "| -------      | -------         | -------         | --------                  |\n",
    "| `'a' in y22` | `True`          | `True`          |  Private (hidden from you)   |\n",
    "| `'b' in y22` | `True`          | `False`         |  Private (hidden from you)   |\n",
    "\n",
    "<!--\n",
    "BEGIN QUESTION\n",
    "name: q22\n",
    "manual: false\n",
    "points: 3\n",
    "-->"
   ]
  },
  {
   "cell_type": "code",
   "execution_count": 10,
   "metadata": {},
   "outputs": [],
   "source": [
    "y22 = list('a') # student response"
   ]
  },
  {
   "cell_type": "code",
   "execution_count": null,
   "metadata": {
    "deletable": false,
    "editable": false
   },
   "outputs": [],
   "source": [
    "grader.check(\"q22\")"
   ]
  },
  {
   "cell_type": "markdown",
   "metadata": {},
   "source": [
    "## Example Question 3: Mixed Tests\n",
    "\n",
    "To make things simple, suppose the correct response to a question is this list\n",
    "> `y = list('abcd')`\n",
    "\n",
    "Suppose following are the tests\n",
    "\n",
    "| Test code  | Expected result | Type                      |\n",
    "| -------    | -------         | --------                  |\n",
    "| `'a' in y` | `True`          | Public (visible to you)   |\n",
    "| `'b' in y` | `True`          | Public (visible to you)   |\n",
    "| `'c' in y` | `True`          | Private (hidden from you) |\n",
    "| `'d' in y` | `True`          | Private (hidden from you) |\n",
    "\n",
    "The public and private tests will make up 0.7 and 0.3, respectively. Therefore,\n",
    "\n",
    "- If both public tests are correct, you earn 0.7 $\\times$ 2 = 1.4 points and zero otherwise.\n",
    "- If both private tests are correct, you earn 0.3 $\\times$ 2 = 0.6 points and zero otherwise.\n",
    "\n",
    "Gradescope output will show proportion of points you have earned with public tests only. The hidden \n",
    "\n",
    "1. Passes all three tests  \n",
    "    Notebook: 'All tests passed!'  \n",
    "    Gradescope (before grades are published): 0.7 $\\times$ 2 points = 1.4 points\n",
    "    Gradescope (after grades are published): 0.7 $\\times$ 2 points = 1.4 points\n",
    "\n"
   ]
  },
  {
   "cell_type": "markdown",
   "metadata": {
    "deletable": false,
    "editable": false
   },
   "source": [
    "### Response 1: All Tests are Correct\n",
    "\n",
    "We will use variable `y31`.\n",
    "\n",
    "| Test code  | Expected result | Actual result | Type                      |\n",
    "| -------    | -------         | -------         | --------                  |\n",
    "| `'a' in y31` | `True`          | `True`          | Public (visible to you)   |\n",
    "| `'b' in y31` | `True`          | `True`          | Public (visible to you)   |\n",
    "| `'c' in y31` | `True`          | `True`          | Private (hidden from you) |\n",
    "| `'d' in y31` | `True`          | `True`          | Private (hidden from you) |\n",
    "\n",
    "<!--\n",
    "BEGIN QUESTION\n",
    "name: q31\n",
    "manual: false\n",
    "points: 3\n",
    "-->"
   ]
  },
  {
   "cell_type": "code",
   "execution_count": 13,
   "metadata": {},
   "outputs": [],
   "source": [
    "y31 = list('abcd') # student response"
   ]
  },
  {
   "cell_type": "code",
   "execution_count": null,
   "metadata": {
    "deletable": false,
    "editable": false
   },
   "outputs": [],
   "source": [
    "grader.check(\"q31\")"
   ]
  },
  {
   "cell_type": "markdown",
   "metadata": {
    "deletable": false,
    "editable": false
   },
   "source": [
    "### Response 2: Only Public Tests are Partially Correct \n",
    "\n",
    "| Test code  | Expected result | Actual result | Type                      |\n",
    "| -------    | -------         | -------         | --------                  |\n",
    "| `'a' in y32` | `True`          | `True`          | Public (visible to you)   |\n",
    "| `'b' in y32` | `True`          | `False`          | Public (visible to you)   |\n",
    "| `'c' in y32` | `True`          | `False`          | Private (hidden from you) |\n",
    "| `'d' in y32` | `True`          | `False`          | Private (hidden from you) |\n",
    "\n",
    "<!--\n",
    "BEGIN QUESTION\n",
    "name: q32\n",
    "manual: false\n",
    "points: 3\n",
    "-->"
   ]
  },
  {
   "cell_type": "code",
   "execution_count": 18,
   "metadata": {},
   "outputs": [],
   "source": [
    "y32 = list('a') # student response"
   ]
  },
  {
   "cell_type": "code",
   "execution_count": null,
   "metadata": {
    "deletable": false,
    "editable": false
   },
   "outputs": [],
   "source": [
    "grader.check(\"q32\")"
   ]
  },
  {
   "cell_type": "markdown",
   "metadata": {
    "deletable": false,
    "editable": false
   },
   "source": [
    "### Response 3: Only Public Tests are Fully Correct\n",
    "\n",
    "We will use variable `y33`.\n",
    "\n",
    "| Test code  | Expected result | Actual result | Type                      |\n",
    "| -------    | -------         | -------         | --------                  |\n",
    "| `'a' in y33` | `True`          | `True`          | Public (visible to you)   |\n",
    "| `'b' in y33` | `True`          | `True`          | Public (visible to you)   |\n",
    "| `'c' in y33` | `True`          | `False`          | Private (hidden from you) |\n",
    "| `'d' in y33` | `True`          | `False`          | Private (hidden from you) |\n",
    "\n",
    "<!--\n",
    "BEGIN QUESTION\n",
    "name: q33\n",
    "manual: false\n",
    "points: 3\n",
    "-->"
   ]
  },
  {
   "cell_type": "code",
   "execution_count": 23,
   "metadata": {},
   "outputs": [],
   "source": [
    "y33 = list('ab') # student response"
   ]
  },
  {
   "cell_type": "code",
   "execution_count": null,
   "metadata": {
    "deletable": false,
    "editable": false
   },
   "outputs": [],
   "source": [
    "grader.check(\"q33\")"
   ]
  },
  {
   "cell_type": "markdown",
   "metadata": {
    "deletable": false,
    "editable": false
   },
   "source": [
    "### Response 4: Only Private Tests are Fully Correct\n",
    "\n",
    "We will use variable `y34`.\n",
    "\n",
    "| Test code  | Expected result | Actual result | Type                      |\n",
    "| -------    | -------         | -------         | --------                  |\n",
    "| `'a' in y34` | `True`          | `False`          | Public (visible to you)   |\n",
    "| `'b' in y34` | `True`          | `False`          | Public (visible to you)   |\n",
    "| `'c' in y34` | `True`          | `True`          | Private (hidden from you) |\n",
    "| `'d' in y34` | `True`          | `True`          | Private (hidden from you) |\n",
    "\n",
    "<!--\n",
    "BEGIN QUESTION\n",
    "name: q34\n",
    "manual: false\n",
    "points: 3\n",
    "-->"
   ]
  },
  {
   "cell_type": "code",
   "execution_count": 28,
   "metadata": {},
   "outputs": [],
   "source": [
    "y34 = list('cd') # student response"
   ]
  },
  {
   "cell_type": "code",
   "execution_count": null,
   "metadata": {
    "deletable": false,
    "editable": false
   },
   "outputs": [],
   "source": [
    "grader.check(\"q34\")"
   ]
  },
  {
   "cell_type": "markdown",
   "metadata": {
    "deletable": false,
    "editable": false
   },
   "source": [
    "---\n",
    "\n",
    "To double-check your work, the cell below will rerun all of the autograder tests."
   ]
  },
  {
   "cell_type": "code",
   "execution_count": null,
   "metadata": {
    "deletable": false,
    "editable": false
   },
   "outputs": [],
   "source": [
    "grader.check_all()"
   ]
  },
  {
   "cell_type": "markdown",
   "metadata": {
    "deletable": false,
    "editable": false
   },
   "source": [
    "## Submission\n",
    "\n",
    "Make sure you have run all cells in your notebook in order before running the cell below, so that all images/graphs appear in the output. The cell below will generate a zip file for you to submit. **Please save before exporting!**"
   ]
  },
  {
   "cell_type": "code",
   "execution_count": null,
   "metadata": {
    "deletable": false,
    "editable": false
   },
   "outputs": [],
   "source": [
    "# Save your notebook first, then run this cell to export your submission.\n",
    "grader.export()"
   ]
  },
  {
   "cell_type": "markdown",
   "metadata": {},
   "source": [
    " "
   ]
  }
 ],
 "metadata": {
  "kernelspec": {
   "display_name": "Python 3",
   "language": "python",
   "name": "python3"
  },
  "language_info": {
   "codemirror_mode": {
    "name": "ipython",
    "version": 3
   },
   "file_extension": ".py",
   "mimetype": "text/x-python",
   "name": "python",
   "nbconvert_exporter": "python",
   "pygments_lexer": "ipython3",
   "version": "3.7.3"
  },
  "varInspector": {
   "cols": {
    "lenName": 16,
    "lenType": 16,
    "lenVar": 40
   },
   "kernels_config": {
    "python": {
     "delete_cmd_postfix": "",
     "delete_cmd_prefix": "del ",
     "library": "var_list.py",
     "varRefreshCmd": "print(var_dic_list())"
    },
    "r": {
     "delete_cmd_postfix": ") ",
     "delete_cmd_prefix": "rm(",
     "library": "var_list.r",
     "varRefreshCmd": "cat(var_dic_list()) "
    }
   },
   "types_to_exclude": [
    "module",
    "function",
    "builtin_function_or_method",
    "instance",
    "_Feature"
   ],
   "window_display": false
  }
 },
 "nbformat": 4,
 "nbformat_minor": 4
}
